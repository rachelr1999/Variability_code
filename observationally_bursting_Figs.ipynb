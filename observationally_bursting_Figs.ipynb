{
 "cells": [
  {
   "cell_type": "code",
   "execution_count": 2,
   "id": "c391779a",
   "metadata": {},
   "outputs": [],
   "source": [
    "import numpy as np\n",
    "import math\n",
    "import matplotlib.pyplot as plt\n",
    "import random\n",
    "import numpy as np\n",
    "from astropy.io import ascii\n",
    "from astropy.table import Table\n",
    "import csv"
   ]
  },
  {
   "cell_type": "markdown",
   "id": "0161262a",
   "metadata": {},
   "source": [
    "## 2000 stars"
   ]
  },
  {
   "cell_type": "markdown",
   "id": "1251ba27",
   "metadata": {},
   "source": [
    "## 1 bin"
   ]
  },
  {
   "cell_type": "code",
   "execution_count": 3,
   "id": "125d2f71",
   "metadata": {},
   "outputs": [],
   "source": [
    "burst2000_1bin=np.load('/home/lee/data/2000stars_only/burst2000_1.npy')\n",
    "L2000_1bin=np.load('/home/lee/data/2000stars_only/L2000_1.npy')\n",
    "C2000_1bin=np.load('/home/lee/data/2000stars_only/C2000_1.npy')"
   ]
  },
  {
   "cell_type": "code",
   "execution_count": 3,
   "id": "4d0ec602",
   "metadata": {},
   "outputs": [],
   "source": [
    "cadence=26\n",
    "t_list_years=[200,220,220.5,221,221.5,222,222.5,223,223.5,224,224.5,225]\n",
    "t_list_cadence=[int(i*cadence) for i in t_list_years]\n",
    "run=50\n",
    "cluster_size=2000\n",
    "steps=7800"
   ]
  },
  {
   "cell_type": "code",
   "execution_count": 5,
   "id": "d3bb9aa7",
   "metadata": {},
   "outputs": [
    {
     "name": "stdout",
     "output_type": "stream",
     "text": [
      "[5200, 5720, 5733, 5746, 5759, 5772, 5785, 5798, 5811, 5824, 5837, 5850]\n"
     ]
    }
   ],
   "source": [
    "print(t_list_cadence)"
   ]
  },
  {
   "cell_type": "code",
   "execution_count": 6,
   "id": "75601919",
   "metadata": {},
   "outputs": [
    {
     "name": "stdout",
     "output_type": "stream",
     "text": [
      "(50, 2000, 12)\n"
     ]
    }
   ],
   "source": [
    "L1bin=np.zeros((run,cluster_size,12))\n",
    "for i in range(run):\n",
    "    for j in range(cluster_size):\n",
    "        for k in range(len(t_list_cadence)):\n",
    "                L1bin[i,j,k]=L2000_1bin[i,j,t_list_cadence[k]]\n",
    "                \n",
    "print(np.shape(L1bin))"
   ]
  },
  {
   "cell_type": "code",
   "execution_count": 7,
   "id": "f1e349d6",
   "metadata": {},
   "outputs": [
    {
     "name": "stdout",
     "output_type": "stream",
     "text": [
      "[-0.83160103 -0.83160103 -0.83160103 -0.83160103 -0.83160103 -0.83160103\n",
      " -0.83160103 -0.83160103 -0.83160103 -0.83160103 -0.83160103 -0.83160103]\n"
     ]
    }
   ],
   "source": [
    "print(L1bin[0,25,:])"
   ]
  },
  {
   "cell_type": "code",
   "execution_count": 8,
   "id": "027d17d7",
   "metadata": {},
   "outputs": [],
   "source": [
    "num0_1bin=0\n",
    "num100_1bin=0\n",
    "num100_list_1bin=[]\n",
    "num0_list_1bin=[]\n",
    "for i in range(run):\n",
    "    for j in range(1,12):\n",
    "        for k in range(cluster_size):\n",
    "            if L1bin[i,k,j]-L1bin[i,k,j-1]==5 or L1bin[i,k,j-1]-L1bin[i,k,j]==5:\n",
    "                num100_1bin+=1\n",
    "            else:\n",
    "                num0_1bin+=1\n",
    "    num100_list_1bin.append(num100_1bin)\n",
    "    num100_1bin=0\n",
    "    num0_list_1bin.append(num0_1bin)\n",
    "    num0_1bin=0"
   ]
  },
  {
   "cell_type": "code",
   "execution_count": 9,
   "id": "287de034",
   "metadata": {},
   "outputs": [
    {
     "name": "stdout",
     "output_type": "stream",
     "text": [
      "[29, 24, 32, 26, 33, 22, 33, 33, 29, 42, 33, 26, 31, 21, 21, 46, 30, 28, 24, 26, 27, 33, 24, 25, 29, 26, 32, 28, 34, 35, 35, 25, 33, 32, 28, 40, 17, 21, 22, 31, 24, 31, 31, 32, 31, 31, 31, 31, 19, 39]\n"
     ]
    }
   ],
   "source": [
    "print(num100_list_1bin)"
   ]
  },
  {
   "cell_type": "code",
   "execution_count": 10,
   "id": "8666ba09",
   "metadata": {},
   "outputs": [
    {
     "name": "stdout",
     "output_type": "stream",
     "text": [
      "[21971, 21976, 21968, 21974, 21967, 21978, 21967, 21967, 21971, 21958, 21967, 21974, 21969, 21979, 21979, 21954, 21970, 21972, 21976, 21974, 21973, 21967, 21976, 21975, 21971, 21974, 21968, 21972, 21966, 21965, 21965, 21975, 21967, 21968, 21972, 21960, 21983, 21979, 21978, 21969, 21976, 21969, 21969, 21968, 21969, 21969, 21969, 21969, 21981, 21961]\n"
     ]
    }
   ],
   "source": [
    "print(num0_list_1bin)"
   ]
  },
  {
   "cell_type": "code",
   "execution_count": 11,
   "id": "84ddc48d",
   "metadata": {},
   "outputs": [],
   "source": [
    "num100_final_1bin=[]\n",
    "for i in range(run):\n",
    "    num100_final_1bin.append(num100_list_1bin[i]*100)\n",
    "    \n",
    "num0_final_1bin=[]\n",
    "for i in range(run):\n",
    "    num0_final_1bin.append(num0_list_1bin[i]*1)"
   ]
  },
  {
   "cell_type": "code",
   "execution_count": 12,
   "id": "c11478c9",
   "metadata": {},
   "outputs": [
    {
     "name": "stdout",
     "output_type": "stream",
     "text": [
      "[88.33983354107193, 90.15425008204791, 87.28544183089637, 89.4197118906161, 86.9394862864606, 90.90081892629664, 86.9394862864606, 86.9394862864606, 88.33983354107193, 83.94372658460127, 86.9394862864606, 89.4197118906161, 87.63412980174718, 91.2787075875244, 91.2787075875244, 82.67680952022295, 87.98558269923909, 88.69691587275956, 90.15425008204791, 89.4197118906161, 89.05686377821911, 86.9394862864606, 90.15425008204791, 89.78549540347294, 88.33983354107193, 89.4197118906161, 87.28544183089637, 88.69691587275956, 86.59623117558937, 86.25564500294522, 86.25564500294522, 89.78549540347294, 86.9394862864606, 87.28544183089637, 88.69691587275956, 84.59167950693374, 92.8218553392729, 91.2787075875244, 90.90081892629664, 87.63412980174718, 90.15425008204791, 87.63412980174718, 87.63412980174718, 87.28544183089637, 87.63412980174718, 87.63412980174718, 87.63412980174718, 87.63412980174718, 92.04388425945312, 84.91937666756893]\n"
     ]
    }
   ],
   "source": [
    "num100_total_1bin=[]\n",
    "num0_total_1bin=[]\n",
    "for i in range(run):\n",
    "    total1=num100_final_1bin[i]+num0_final_1bin[i]\n",
    "    num100_total_1bin.append(100*num100_final_1bin[i]/total1)\n",
    "    num0_total_1bin.append(100*num0_final_1bin[i]/total1)\n",
    "    \n",
    "print(num0_total_1bin)"
   ]
  },
  {
   "cell_type": "code",
   "execution_count": 13,
   "id": "3c45657f",
   "metadata": {},
   "outputs": [
    {
     "name": "stderr",
     "output_type": "stream",
     "text": [
      "<ipython-input-13-be3ef652d00f>:28: UserWarning: FixedFormatter should only be used together with FixedLocator\n",
      "  ax1.set_xticklabels(['0','S.S.','100x'])\n"
     ]
    },
    {
     "data": {
      "image/png": "[encoded data removed]",
      "text/plain": [
       "<Figure size 576x504 with 1 Axes>"
      ]
     },
     "metadata": {
      "needs_background": "light"
     },
     "output_type": "display_data"
    }
   ],
   "source": [
    "fig,ax1=plt.subplots()\n",
    "fig.set_size_inches(8,7)\n",
    "plt.rcParams['text.usetex']='False'\n",
    "plt.rcParams['font.family']='sans serif'\n",
    "plt.rcParams['axes.labelweight']='normal'\n",
    "plt.rcParams['font.weight']='normal'\n",
    "\n",
    "v100=ax1.violinplot(num100_total_1bin,positions=[2],vert=True, widths=0.5, showmeans=True, showextrema=True)\n",
    "for pc in v100['bodies']:\n",
    "    pc.set_facecolor('#1f77b4')\n",
    "    pc.set_edgecolor('#1f77b4')\n",
    "    pc.set_alpha(0.3)\n",
    "for partname in ('cbars','cmins','cmaxes','cmeans',):\n",
    "    vp=v100[partname]\n",
    "    vp.set_edgecolor('#1f77b4')\n",
    "    vp.set_linewidth(2)\n",
    "    \n",
    "v0=ax1.violinplot(num0_total_1bin,positions=[1],vert=True, widths=0.5, showmeans=True, showextrema=True)\n",
    "for pc in v0['bodies']:\n",
    "    pc.set_facecolor('#8c564b')\n",
    "    pc.set_edgecolor('#8c564b')\n",
    "    pc.set_alpha(0.3)\n",
    "for partname in ('cbars','cmins','cmaxes','cmeans',):\n",
    "    vp=v0[partname]\n",
    "    vp.set_edgecolor('#8c564b')\n",
    "    vp.set_linewidth(2) \n",
    "    \n",
    "ax1.set_xticklabels(['0','S.S.','100x'])\n",
    "ax1.set_ylabel('% of mass accreted',fontsize=14)\n",
    "ax1.set_xlabel('Burst amplitude',fontsize=14)\n",
    "    \n",
    "string0='{:.2f}%'.format(np.mean(num0_total_1bin))\n",
    "string100='{:.2f}%'.format(np.mean(num100_total_1bin))\n",
    "\n",
    "ax1.locator_params(axis='x',nbins=2)\n",
    "ax1.text(1,np.max(num0_total_1bin)+1,string0,ha='center')\n",
    "ax1.text(2,np.max(num100_total_1bin)+1,string100,ha='center')\n",
    "plt.title('Mass accreted for each burst type',fontsize=16)\n",
    "plt.savefig('/home/lee/research/figs/observational/observational_mass_1bins_violinplot.jpeg',dpi=300,bbox_inches='tight')\n",
    "plt.show()    "
   ]
  },
  {
   "cell_type": "markdown",
   "id": "65f69bb0",
   "metadata": {},
   "source": [
    "## 2 bin"
   ]
  },
  {
   "cell_type": "code",
   "execution_count": 14,
   "id": "65e84863",
   "metadata": {},
   "outputs": [],
   "source": [
    "burst2000_2bin=np.load('/home/lee/data/2000stars_only/burst2000_2.npy')\n",
    "L2000_2bin=np.load('/home/lee/data/2000stars_only/L2000_2.npy')\n",
    "C2000_2bin=np.load('/home/lee/data/2000stars_only/C2000_2.npy')"
   ]
  },
  {
   "cell_type": "code",
   "execution_count": 15,
   "id": "d1148cef",
   "metadata": {},
   "outputs": [],
   "source": [
    "L2bin=np.empty((run,cluster_size,len(t_list_cadence)))\n",
    "for i in range(run):\n",
    "    for k in range(cluster_size):\n",
    "        for j in range(len(t_list_cadence)):\n",
    "            L2bin[i,k,j]=L2000_2bin[i,k,t_list_cadence[j]]"
   ]
  },
  {
   "cell_type": "code",
   "execution_count": 16,
   "id": "643a594d",
   "metadata": {},
   "outputs": [],
   "source": [
    "num0_2bin=0\n",
    "num0_list_2bin=[]\n",
    "num40_2bin=0\n",
    "num40_list_2bin=[]\n",
    "num100_2bin=0\n",
    "num100_list_2bin=[]\n",
    "for i in range(run):\n",
    "    for j in range(1,12):\n",
    "        for k in range(cluster_size):\n",
    "            if L2bin[i,k,j]-L2bin[i,k,j-1]==5 or L2bin[i,k,j-1]-L2bin[i,k,j]==5:\n",
    "                num100_2bin+=1\n",
    "            elif L2bin[i,k,j]-L2bin[i,k,j-1]==4 or L2bin[i,k,j-1]-L2bin[i,k,j]==4:\n",
    "                num40_2bin+=1\n",
    "            else:\n",
    "                num0_2bin+=1\n",
    "    num0_list_2bin.append(num0_2bin)\n",
    "    num0_2bin=0\n",
    "    num40_list_2bin.append(num40_2bin)\n",
    "    num40_2bin=0\n",
    "    num100_list_2bin.append(num100_2bin)\n",
    "    num100_2bin=0"
   ]
  },
  {
   "cell_type": "code",
   "execution_count": 17,
   "id": "0f09372e",
   "metadata": {},
   "outputs": [],
   "source": [
    "num100_final_2bin=[]\n",
    "for i in range(run):\n",
    "    num100_final_2bin.append(num100_list_2bin[i]*100)\n",
    "    \n",
    "num40_final_2bin=[]\n",
    "for i in range(run):\n",
    "    num40_final_2bin.append(num40_list_2bin[i]*40)\n",
    "    \n",
    "num0_final_2bin=[]\n",
    "for i in range(run):\n",
    "    num0_final_2bin.append(num0_list_2bin[i]*1)"
   ]
  },
  {
   "cell_type": "code",
   "execution_count": 18,
   "id": "69834285",
   "metadata": {},
   "outputs": [
    {
     "name": "stdout",
     "output_type": "stream",
     "text": [
      "[78.53014037985136, 72.63921712212496, 78.35901110713006, 77.85925319474602, 76.81118684561872, 80.44477118176806, 77.57513394599582, 78.92609699769054, 80.32594332697107, 79.45106012198664, 76.96858712494718, 78.76016991864066, 77.46438948338177, 80.09367681498829, 78.75328603838813, 77.97576621525303, 78.35668470276275, 79.21946274708566, 77.41033176362285, 78.193257784292, 78.86765236206274, 83.46351686035435, 75.57093425605537, 77.9710558209168, 80.15160947742338, 80.68772343640585, 79.0409424348643, 79.91601241555595, 80.4426145136387, 79.38518491634305, 79.50581395348837, 74.64114832535886, 80.09149130832571, 79.44882175665371, 81.1055127445169, 83.27314198821517, 82.57984238905019, 78.08082250464086, 75.2228225334664, 75.74581615328644, 79.44658290362408, 77.30486425339366, 79.0409424348643, 75.41945729475937, 79.97149227001937, 76.48869918130292, 80.86442556335426, 76.4310941707172, 79.38742923501233, 79.04548574731746]\n"
     ]
    }
   ],
   "source": [
    "num100_total_2bin=[]\n",
    "num40_total_2bin=[]\n",
    "num0_total_2bin=[]\n",
    "for i in range(run):\n",
    "    total2=num100_final_2bin[i]+num40_final_2bin[i]+num0_final_2bin[i]\n",
    "    num100_total_2bin.append(100*num100_final_2bin[i]/total2)\n",
    "    num40_total_2bin.append(100*num40_final_2bin[i]/total2)\n",
    "    num0_total_2bin.append(100*num0_final_2bin[i]/total2)\n",
    "    \n",
    "print(num0_total_2bin)"
   ]
  },
  {
   "cell_type": "code",
   "execution_count": 19,
   "id": "f4a5c975",
   "metadata": {},
   "outputs": [
    {
     "name": "stderr",
     "output_type": "stream",
     "text": [
      "<ipython-input-19-4cfeedbadcd6>:39: UserWarning: FixedFormatter should only be used together with FixedLocator\n",
      "  ax1.set_xticklabels(['0','S.S.','40x','100x'])\n"
     ]
    },
    {
     "data": {
      "image/png": "[encoded data removed]",
      "text/plain": [
       "<Figure size 576x504 with 1 Axes>"
      ]
     },
     "metadata": {
      "needs_background": "light"
     },
     "output_type": "display_data"
    }
   ],
   "source": [
    "fig,ax1=plt.subplots()\n",
    "fig.set_size_inches(8,7)\n",
    "plt.rcParams['text.usetex']='False'\n",
    "plt.rcParams['font.family']='sans serif'\n",
    "plt.rcParams['axes.labelweight']='normal'\n",
    "plt.rcParams['font.weight']='normal'\n",
    "\n",
    "v100=ax1.violinplot(num100_total_2bin,positions=[3],vert=True, widths=0.5, showmeans=True, showextrema=True)\n",
    "for pc in v100['bodies']:\n",
    "    pc.set_facecolor('#1f77b4')\n",
    "    pc.set_edgecolor('#1f77b4')\n",
    "    pc.set_alpha(0.3)\n",
    "for partname in ('cbars','cmins','cmaxes','cmeans',):\n",
    "    vp=v100[partname]\n",
    "    vp.set_edgecolor('#1f77b4')\n",
    "    vp.set_linewidth(2)\n",
    "    \n",
    "    \n",
    "v40=ax1.violinplot(num40_total_2bin,positions=[2],vert=True, widths=0.5, showmeans=True, showextrema=True)\n",
    "for pc in v40['bodies']:\n",
    "    pc.set_facecolor('#ff7f0e')\n",
    "    pc.set_edgecolor('#ff7f0e')\n",
    "    pc.set_alpha(0.3)\n",
    "for partname in ('cbars','cmins','cmaxes','cmeans',):\n",
    "    vp=v40[partname]\n",
    "    vp.set_edgecolor('#ff7f0e')\n",
    "    vp.set_linewidth(2)\n",
    "    \n",
    "v0=ax1.violinplot(num0_total_2bin,positions=[1],vert=True, widths=0.5, showmeans=True, showextrema=True)\n",
    "for pc in v0['bodies']:\n",
    "    pc.set_facecolor('#8c564b')\n",
    "    pc.set_edgecolor('#8c564b')\n",
    "    pc.set_alpha(0.3)\n",
    "for partname in ('cbars','cmins','cmaxes','cmeans',):\n",
    "    vp=v0[partname]\n",
    "    vp.set_edgecolor('#8c564b')\n",
    "    vp.set_linewidth(2) \n",
    "    \n",
    "ax1.set_xticklabels(['0','S.S.','40x','100x'])\n",
    "ax1.set_ylabel('% of mass accreted',fontsize=14)\n",
    "ax1.set_xlabel('Burst amplitude',fontsize=14)\n",
    "    \n",
    "string0='{:.2f}%'.format(np.mean(num0_total_2bin))\n",
    "string40='{:.2f}%'.format(np.mean(num40_total_2bin))\n",
    "string100='{:.2f}%'.format(np.mean(num100_total_2bin))\n",
    "ax1.locator_params(axis='x',nbins=3)\n",
    "\n",
    "ax1.text(1,np.max(num0_total_2bin)+1,string0,ha='center')\n",
    "ax1.text(2,np.max(num40_total_2bin)+1,string40,ha='center')\n",
    "ax1.text(3,np.max(num100_total_2bin)+1,string100,ha='center')\n",
    "plt.title('Mass accreted for each burst type',fontsize=16)\n",
    "plt.savefig('/home/lee/research/figs/observational/observational_mass_2bins_violinplot.jpeg',dpi=300,bbox_inches='tight')\n",
    "plt.show()    "
   ]
  },
  {
   "cell_type": "markdown",
   "id": "5f08ae83",
   "metadata": {},
   "source": [
    "## 3 bin"
   ]
  },
  {
   "cell_type": "code",
   "execution_count": 20,
   "id": "3344e912",
   "metadata": {},
   "outputs": [],
   "source": [
    "burst2000_3bin=np.load('/home/lee/data/2000stars_only/burst2000_3.npy')\n",
    "L2000_3bin=np.load('/home/lee/data/2000stars_only/L2000_3.npy')\n",
    "C2000_3bin=np.load('/home/lee/data/2000stars_only/C2000_3.npy')"
   ]
  },
  {
   "cell_type": "code",
   "execution_count": 21,
   "id": "9e5eb792",
   "metadata": {},
   "outputs": [],
   "source": [
    "L3bin=np.empty((run,cluster_size,len(t_list_cadence)))\n",
    "for i in range(run):\n",
    "    for k in range(cluster_size):\n",
    "        for j in range(len(t_list_cadence)):\n",
    "            L3bin[i,k,j]=L2000_3bin[i,k,t_list_cadence[j]]"
   ]
  },
  {
   "cell_type": "code",
   "execution_count": 22,
   "id": "8236196a",
   "metadata": {},
   "outputs": [
    {
     "name": "stdout",
     "output_type": "stream",
     "text": [
      "[-4.50795972 -7.50795972 -7.50795972 -4.50795972 -4.50795972 -4.50795972\n",
      " -4.50795972 -4.50795972 -4.50795972 -4.50795972 -4.50795972 -4.50795972]\n"
     ]
    }
   ],
   "source": [
    "print(L3bin[0,69,:])"
   ]
  },
  {
   "cell_type": "code",
   "execution_count": 23,
   "id": "dff651d0",
   "metadata": {},
   "outputs": [],
   "source": [
    "num0_3bin=0\n",
    "num0_list_3bin=[]\n",
    "num16_3bin=0\n",
    "num16_list_3bin=[]\n",
    "num40_3bin=0\n",
    "num40_list_3bin=[]\n",
    "num100_3bin=0\n",
    "num100_list_3bin=[]\n",
    "for i in range(run):\n",
    "    for j in range(1,12):\n",
    "        for k in range(cluster_size):\n",
    "            if L3bin[i,k,j]-L3bin[i,k,j-1]==5 or L3bin[i,k,j-1]-L3bin[i,k,j]==5:\n",
    "                num100_3bin+=1\n",
    "            elif L3bin[i,k,j]-L3bin[i,k,j-1]==4 or L3bin[i,k,j-1]-L3bin[i,k,j]==4:\n",
    "                num40_3bin+=1\n",
    "            elif L3bin[i,k,j]-L3bin[i,k,j-1]==3 or L3bin[i,k,j-1]-L3bin[i,k,j]==3:\n",
    "                num16_3bin+=1\n",
    "            else:\n",
    "                num0_3bin+=1\n",
    "    num0_list_3bin.append(num0_3bin)\n",
    "    num0_3bin=0\n",
    "    num16_list_3bin.append(num16_3bin)\n",
    "    num16_3bin=0\n",
    "    num40_list_3bin.append(num40_3bin)\n",
    "    num40_3bin=0\n",
    "    num100_list_3bin.append(num100_3bin)\n",
    "    num100_3bin=0"
   ]
  },
  {
   "cell_type": "code",
   "execution_count": 24,
   "id": "2bf95b7f",
   "metadata": {},
   "outputs": [],
   "source": [
    "num100_final_3bin=[]\n",
    "for i in range(run):\n",
    "    num100_final_3bin.append(num100_list_3bin[i]*100)\n",
    "    \n",
    "num40_final_3bin=[]\n",
    "for i in range(run):\n",
    "    num40_final_3bin.append(num40_list_3bin[i]*40)\n",
    "    \n",
    "num16_final_3bin=[]\n",
    "for i in range(run):\n",
    "    num16_final_3bin.append(num16_list_3bin[i]*16)\n",
    "    \n",
    "num0_final_3bin=[]\n",
    "for i in range(run):\n",
    "    num0_final_3bin.append(num0_list_3bin[i]*1)"
   ]
  },
  {
   "cell_type": "code",
   "execution_count": 25,
   "id": "3a8ebbbf",
   "metadata": {},
   "outputs": [
    {
     "name": "stdout",
     "output_type": "stream",
     "text": [
      "[67.02598292728518, 67.52174322584696, 65.59638627762178, 66.763957026641, 65.86545821978628, 68.32274459974587, 69.287137622935, 67.8236220472441, 65.18152315671348, 66.47602559742789, 67.62365963334486, 69.18429003021149, 68.53560745879209, 67.5444660926403, 66.72974901498465, 67.54107630925827, 69.00397384950648, 68.58044566291562, 62.619117217187956, 66.28229635567614, 65.4272827014507, 67.64307963376648, 68.97655949788651, 67.59203948816298, 67.46723521665517, 68.25316295145385, 63.19712459122647, 67.83014112903226, 65.30885214007782, 65.86113837095192, 66.03750384260682, 66.99488969213512, 66.81076037941222, 66.58092906504694, 65.63855127343798, 67.29638433629425, 66.41996717554888, 67.71752837326608, 68.95778617641406, 67.96358924112646, 68.28943192637259, 68.62845118918574, 67.51530371998116, 63.075836912396305, 66.28825271470879, 68.04707520010123, 64.5345688669595, 67.61754992923416, 68.04812410954567, 69.27825108503455]\n"
     ]
    }
   ],
   "source": [
    "num100_total_3bin=[]\n",
    "num40_total_3bin=[]\n",
    "num16_total_3bin=[]\n",
    "num0_total_3bin=[]\n",
    "for i in range(run):\n",
    "    total3=num100_final_3bin[i]+num40_final_3bin[i]+num16_final_3bin[i]+num0_final_3bin[i]\n",
    "    num100_total_3bin.append(100*num100_final_3bin[i]/total3)\n",
    "    num40_total_3bin.append(100*num40_final_3bin[i]/total3)\n",
    "    num16_total_3bin.append(100*num16_final_3bin[i]/total3)\n",
    "    num0_total_3bin.append(100*num0_final_3bin[i]/total3)\n",
    "    \n",
    "print(num0_total_3bin)"
   ]
  },
  {
   "cell_type": "code",
   "execution_count": 26,
   "id": "64be6773",
   "metadata": {},
   "outputs": [
    {
     "name": "stderr",
     "output_type": "stream",
     "text": [
      "<ipython-input-26-a90c4a43badb>:49: UserWarning: FixedFormatter should only be used together with FixedLocator\n",
      "  ax1.set_xticklabels(['0','S.S.','16x','40x','100x'])\n"
     ]
    },
    {
     "data": {
      "image/png": "[encoded data removed]",
      "text/plain": [
       "<Figure size 576x504 with 1 Axes>"
      ]
     },
     "metadata": {
      "needs_background": "light"
     },
     "output_type": "display_data"
    }
   ],
   "source": [
    "fig,ax1=plt.subplots()\n",
    "fig.set_size_inches(8,7)\n",
    "plt.rcParams['text.usetex']='False'\n",
    "plt.rcParams['font.family']='sans serif'\n",
    "plt.rcParams['axes.labelweight']='normal'\n",
    "plt.rcParams['font.weight']='normal'\n",
    "\n",
    "v100=ax1.violinplot(num100_total_3bin,positions=[4],vert=True, widths=0.5, showmeans=True, showextrema=True)\n",
    "for pc in v100['bodies']:\n",
    "    pc.set_facecolor('#1f77b4')\n",
    "    pc.set_edgecolor('#1f77b4')\n",
    "    pc.set_alpha(0.3)\n",
    "for partname in ('cbars','cmins','cmaxes','cmeans',):\n",
    "    vp=v100[partname]\n",
    "    vp.set_edgecolor('#1f77b4')\n",
    "    vp.set_linewidth(2)\n",
    "    \n",
    "    \n",
    "v40=ax1.violinplot(num40_total_3bin,positions=[3],vert=True, widths=0.5, showmeans=True, showextrema=True)\n",
    "for pc in v40['bodies']:\n",
    "    pc.set_facecolor('#ff7f0e')\n",
    "    pc.set_edgecolor('#ff7f0e')\n",
    "    pc.set_alpha(0.3)\n",
    "for partname in ('cbars','cmins','cmaxes','cmeans',):\n",
    "    vp=v40[partname]\n",
    "    vp.set_edgecolor('#ff7f0e')\n",
    "    vp.set_linewidth(2)\n",
    "\n",
    "v16=ax1.violinplot(num16_total_3bin,positions=[2],vert=True, widths=0.5, showmeans=True, showextrema=True)\n",
    "for pc in v16['bodies']:\n",
    "    pc.set_facecolor('#2ca02c')\n",
    "    pc.set_edgecolor('#2ca02c')\n",
    "    pc.set_alpha(0.3)\n",
    "for partname in ('cbars','cmins','cmaxes','cmeans',):\n",
    "    vp=v16[partname]\n",
    "    vp.set_edgecolor('#2ca02c')\n",
    "    vp.set_linewidth(2)\n",
    "\n",
    "v0=ax1.violinplot(num0_total_3bin,positions=[1],vert=True, widths=0.5, showmeans=True, showextrema=True)\n",
    "for pc in v0['bodies']:\n",
    "    pc.set_facecolor('#8c564b')\n",
    "    pc.set_edgecolor('#8c564b')\n",
    "    pc.set_alpha(0.3)\n",
    "for partname in ('cbars','cmins','cmaxes','cmeans',):\n",
    "    vp=v0[partname]\n",
    "    vp.set_edgecolor('#8c564b')\n",
    "    vp.set_linewidth(2) \n",
    "    \n",
    "ax1.set_xticklabels(['0','S.S.','16x','40x','100x'])\n",
    "ax1.set_ylabel('% of mass accreted',fontsize=14)\n",
    "ax1.set_xlabel('Burst amplitude',fontsize=14)\n",
    "    \n",
    "string0='{:.2f}%'.format(np.mean(num0_total_3bin))\n",
    "string16='{:.2f}%'.format(np.mean(num16_total_3bin))\n",
    "string40='{:.2f}%'.format(np.mean(num40_total_3bin))\n",
    "string100='{:.2f}%'.format(np.mean(num100_total_3bin))\n",
    "\n",
    "\n",
    "ax1.text(1,np.max(num0_total_3bin)+1,string0,ha='center')\n",
    "ax1.text(2,np.max(num16_total_3bin)+1,string16,ha='center')\n",
    "ax1.text(3,np.max(num40_total_3bin)+1,string40,ha='center')\n",
    "ax1.text(4,np.max(num100_total_3bin)+1,string100,ha='center')\n",
    "plt.title('Mass accreted for each burst type',fontsize=16)\n",
    "plt.savefig('/home/lee/research/figs/observational/observational_mass_3bins_violinplot.jpeg',dpi=300,bbox_inches='tight')\n",
    "plt.show()  "
   ]
  },
  {
   "cell_type": "markdown",
   "id": "3dc277c3",
   "metadata": {},
   "source": [
    "## 4 bin"
   ]
  },
  {
   "cell_type": "code",
   "execution_count": 27,
   "id": "439ed9bc",
   "metadata": {},
   "outputs": [],
   "source": [
    "burst2000_4bin=np.load('/home/lee/data/2000stars_only/burst2000_4.npy')\n",
    "L2000_4bin=np.load('/home/lee/data/2000stars_only/L2000_4.npy')\n",
    "C2000_4bin=np.load('/home/lee/data/2000stars_only/C2000_4.npy')"
   ]
  },
  {
   "cell_type": "code",
   "execution_count": 28,
   "id": "1c22df1f",
   "metadata": {},
   "outputs": [],
   "source": [
    "L4bin=np.empty((run,cluster_size,len(t_list_cadence)))\n",
    "for i in range(run):\n",
    "    for k in range(cluster_size):\n",
    "        for j in range(len(t_list_cadence)):\n",
    "            L4bin[i,k,j]=L2000_4bin[i,k,t_list_cadence[j]]"
   ]
  },
  {
   "cell_type": "code",
   "execution_count": 29,
   "id": "12266a90",
   "metadata": {},
   "outputs": [],
   "source": [
    "num0_4bin=0\n",
    "num0_list_4bin=[]\n",
    "num3_4bin=0\n",
    "num3_list_4bin=[]\n",
    "num16_4bin=0\n",
    "num16_list_4bin=[]\n",
    "num40_4bin=0\n",
    "num40_list_4bin=[]\n",
    "num100_4bin=0\n",
    "num100_list_4bin=[]\n",
    "for i in range(run):\n",
    "    for j in range(1,12):\n",
    "        for k in range(cluster_size):\n",
    "            if L4bin[i,k,j]-L4bin[i,k,j-1]==5 or L4bin[i,k,j-1]-L4bin[i,k,j]==5:\n",
    "                num100_4bin+=1\n",
    "            elif L4bin[i,k,j]-L4bin[i,k,j-1]==4 or L4bin[i,k,j-1]-L4bin[i,k,j]==4:\n",
    "                num40_4bin+=1\n",
    "            elif L4bin[i,k,j]-L4bin[i,k,j-1]==3 or L4bin[i,k,j-1]-L4bin[i,k,j]==3:\n",
    "                num16_4bin+=1\n",
    "            elif L4bin[i,k,j]-L4bin[i,k,j-1]==1.25 or L4bin[i,k,j-1]-L4bin[i,k,j]==1.25:\n",
    "                num3_4bin+=1\n",
    "            else:\n",
    "                num0_4bin+=1\n",
    "    num0_list_4bin.append(num0_4bin)\n",
    "    num0_4bin=0\n",
    "    num3_list_4bin.append(num3_4bin)\n",
    "    num3_4bin=0\n",
    "    num16_list_4bin.append(num16_4bin)\n",
    "    num16_4bin=0\n",
    "    num40_list_4bin.append(num40_4bin)\n",
    "    num40_4bin=0\n",
    "    num100_list_4bin.append(num100_4bin)\n",
    "    num100_4bin=0"
   ]
  },
  {
   "cell_type": "code",
   "execution_count": 30,
   "id": "52c3fde0",
   "metadata": {},
   "outputs": [],
   "source": [
    "num100_final_4bin=[]\n",
    "for i in range(run):\n",
    "    num100_final_4bin.append(num100_list_4bin[i]*100)\n",
    "    \n",
    "num40_final_4bin=[]\n",
    "for i in range(run):\n",
    "    num40_final_4bin.append(num40_list_4bin[i]*40)\n",
    "    \n",
    "num16_final_4bin=[]\n",
    "for i in range(run):\n",
    "    num16_final_4bin.append(num16_list_4bin[i]*16)\n",
    "    \n",
    "num3_final_4bin=[]\n",
    "for i in range(run):\n",
    "    num3_final_4bin.append(num3_list_4bin[i]*3)\n",
    "    \n",
    "num0_final_4bin=[]\n",
    "for i in range(run):\n",
    "    num0_final_4bin.append(num0_list_4bin[i]*1)"
   ]
  },
  {
   "cell_type": "code",
   "execution_count": 31,
   "id": "1069e821",
   "metadata": {},
   "outputs": [
    {
     "name": "stdout",
     "output_type": "stream",
     "text": [
      "[54.058712012408805, 53.99718689898671, 55.36045177799347, 54.47510289258594, 53.972547552588416, 53.07631070169453, 53.846375061110635, 54.26302671999073, 54.11139821992535, 53.31309922278323, 51.59736936242811, 54.73118279569893, 55.33536585365854, 54.91393670183231, 54.3084783926561, 54.25534978831255, 53.97693122298864, 54.95132005964389, 53.45508250731347, 53.74654154425397, 53.47575255612041, 53.83421922137624, 53.125886424235546, 55.973628723309474, 53.319319376189526, 54.226102994150025, 53.46362339514979, 53.304392528702806, 55.51532279431246, 56.20144655772837, 54.11646297627606, 54.59711792165618, 55.16898608349901, 53.44426145720938, 53.617397756785294, 53.30808008886104, 54.35041370300479, 52.65039551839653, 54.55547178565215, 55.09111020550736, 54.23037130704679, 54.36757917960926, 54.66224857574701, 54.71320973348784, 54.95033643063121, 54.2517595477097, 53.962502875546356, 52.806194540213646, 54.35451116913258, 54.09613495869201]\n"
     ]
    }
   ],
   "source": [
    "num100_total_4bin=[]\n",
    "num40_total_4bin=[]\n",
    "num16_total_4bin=[]\n",
    "num3_total_4bin=[]\n",
    "num0_total_4bin=[]\n",
    "for i in range(run):\n",
    "    total4=num100_final_4bin[i]+num40_final_4bin[i]+num16_final_4bin[i]+num3_final_4bin[i]+num0_final_4bin[i]\n",
    "    num100_total_4bin.append(100*num100_final_4bin[i]/total4)\n",
    "    num40_total_4bin.append(100*num40_final_4bin[i]/total4)\n",
    "    num16_total_4bin.append(100*num16_final_4bin[i]/total4)\n",
    "    num3_total_4bin.append(100*num3_final_4bin[i]/total4)\n",
    "    num0_total_4bin.append(100*num0_final_4bin[i]/total4)\n",
    "    \n",
    "print(num0_total_4bin)"
   ]
  },
  {
   "cell_type": "code",
   "execution_count": 32,
   "id": "0c9cdb38",
   "metadata": {},
   "outputs": [
    {
     "name": "stderr",
     "output_type": "stream",
     "text": [
      "<ipython-input-32-219d78cf21c9>:59: UserWarning: FixedFormatter should only be used together with FixedLocator\n",
      "  ax1.set_xticklabels(['0','S.S.','3x','16x','40x','100x'])\n"
     ]
    },
    {
     "data": {
      "image/png": "[encoded data removed]",
      "text/plain": [
       "<Figure size 576x504 with 1 Axes>"
      ]
     },
     "metadata": {
      "needs_background": "light"
     },
     "output_type": "display_data"
    }
   ],
   "source": [
    "fig,ax1=plt.subplots()\n",
    "fig.set_size_inches(8,7)\n",
    "plt.rcParams['text.usetex']='False'\n",
    "plt.rcParams['font.family']='sans serif'\n",
    "plt.rcParams['axes.labelweight']='normal'\n",
    "plt.rcParams['font.weight']='normal'\n",
    "\n",
    "v100=ax1.violinplot(num100_total_4bin,positions=[5],vert=True, widths=0.5, showmeans=True, showextrema=True)\n",
    "for pc in v100['bodies']:\n",
    "    pc.set_facecolor('#1f77b4')\n",
    "    pc.set_edgecolor('#1f77b4')\n",
    "    pc.set_alpha(0.3)\n",
    "for partname in ('cbars','cmins','cmaxes','cmeans',):\n",
    "    vp=v100[partname]\n",
    "    vp.set_edgecolor('#1f77b4')\n",
    "    vp.set_linewidth(2)\n",
    "    \n",
    "    \n",
    "v40=ax1.violinplot(num40_total_4bin,positions=[4],vert=True, widths=0.5, showmeans=True, showextrema=True)\n",
    "for pc in v40['bodies']:\n",
    "    pc.set_facecolor('#ff7f0e')\n",
    "    pc.set_edgecolor('#ff7f0e')\n",
    "    pc.set_alpha(0.3)\n",
    "for partname in ('cbars','cmins','cmaxes','cmeans',):\n",
    "    vp=v40[partname]\n",
    "    vp.set_edgecolor('#ff7f0e')\n",
    "    vp.set_linewidth(2)\n",
    "\n",
    "v16=ax1.violinplot(num16_total_4bin,positions=[3],vert=True, widths=0.5, showmeans=True, showextrema=True)\n",
    "for pc in v16['bodies']:\n",
    "    pc.set_facecolor('#2ca02c')\n",
    "    pc.set_edgecolor('#2ca02c')\n",
    "    pc.set_alpha(0.3)\n",
    "for partname in ('cbars','cmins','cmaxes','cmeans',):\n",
    "    vp=v16[partname]\n",
    "    vp.set_edgecolor('#2ca02c')\n",
    "    vp.set_linewidth(2)\n",
    "\n",
    "v3=ax1.violinplot(num3_total_4bin,positions=[2],vert=True, widths=0.5, showmeans=True, showextrema=True)\n",
    "for pc in v3['bodies']:\n",
    "    pc.set_facecolor('#9467bd')\n",
    "    pc.set_edgecolor('#9467bd')\n",
    "    pc.set_alpha(0.3)\n",
    "for partname in ('cbars','cmins','cmaxes','cmeans',):\n",
    "    vp=v3[partname]\n",
    "    vp.set_edgecolor('#9467bd')\n",
    "    vp.set_linewidth(2)\n",
    "    \n",
    "v0=ax1.violinplot(num0_total_4bin,positions=[1],vert=True, widths=0.5, showmeans=True, showextrema=True)\n",
    "for pc in v0['bodies']:\n",
    "    pc.set_facecolor('#8c564b')\n",
    "    pc.set_edgecolor('#8c564b')\n",
    "    pc.set_alpha(0.3)\n",
    "for partname in ('cbars','cmins','cmaxes','cmeans',):\n",
    "    vp=v0[partname]\n",
    "    vp.set_edgecolor('#8c564b')\n",
    "    vp.set_linewidth(2) \n",
    "    \n",
    "ax1.set_xticklabels(['0','S.S.','3x','16x','40x','100x'])\n",
    "ax1.set_ylabel('% of mass accreted',fontsize=14)\n",
    "ax1.set_xlabel('Burst amplitude',fontsize=14)\n",
    "    \n",
    "string0='{:.2f}%'.format(np.mean(num0_total_4bin))\n",
    "string3='{:.2f}%'.format(np.mean(num3_total_4bin))\n",
    "string16='{:.2f}%'.format(np.mean(num16_total_4bin))\n",
    "string40='{:.2f}%'.format(np.mean(num40_total_4bin))\n",
    "string100='{:.2f}%'.format(np.mean(num100_total_4bin))\n",
    "\n",
    "\n",
    "ax1.text(1,np.max(num0_total_4bin)+0.75,string0,ha='center')\n",
    "ax1.text(2,np.max(num3_total_4bin)+0.75,string3,ha='center')\n",
    "ax1.text(3,np.max(num16_total_4bin)+0.75,string16,ha='center')\n",
    "ax1.text(4,np.max(num40_total_4bin)+0.75,string40,ha='center')\n",
    "ax1.text(5,np.max(num100_total_4bin)+0.75,string100,ha='center')\n",
    "plt.title('Mass accreted for each burst type',fontsize=16)\n",
    "plt.savefig('/home/lee/research/figs/observational/observational_mass_4bins_violinplot.jpeg',dpi=300,bbox_inches='tight')\n",
    "plt.show()   "
   ]
  },
  {
   "cell_type": "markdown",
   "id": "6c304eaa",
   "metadata": {},
   "source": [
    "## 5 bin"
   ]
  },
  {
   "cell_type": "code",
   "execution_count": 33,
   "id": "4bb994f4",
   "metadata": {},
   "outputs": [],
   "source": [
    "burst2000_5bin=np.load('/home/lee/data/2000stars_only/burst2000_5.npy')\n",
    "L2000_5bin=np.load('/home/lee/data/2000stars_only/L2000_5.npy')\n",
    "C2000_5bin=np.load('/home/lee/data/2000stars_only/C2000_5.npy')"
   ]
  },
  {
   "cell_type": "code",
   "execution_count": 34,
   "id": "5cbeb2e9",
   "metadata": {},
   "outputs": [],
   "source": [
    "L5bin=np.zeros((run,cluster_size,12))\n",
    "for i in range(run):\n",
    "    for j in range(cluster_size):\n",
    "        for k in range(len(t_list_cadence)):\n",
    "                L5bin[i,j,k]=L2000_5bin[i,j,t_list_cadence[k]]"
   ]
  },
  {
   "cell_type": "code",
   "execution_count": 35,
   "id": "82f5211e",
   "metadata": {},
   "outputs": [],
   "source": [
    "num0_5bin=0\n",
    "num0_list_5bin=[]\n",
    "num3_5bin=0\n",
    "num3_list_5bin=[]\n",
    "num6_5bin=0\n",
    "num6_list_5bin=[]\n",
    "num16_5bin=0\n",
    "num16_list_5bin=[]\n",
    "num40_5bin=0\n",
    "num40_list_5bin=[]\n",
    "num100_5bin=0\n",
    "num100_list_5bin=[]\n",
    "for i in range(run):\n",
    "    for j in range(1,12):\n",
    "        for k in range(cluster_size):\n",
    "            if L5bin[i,k,j]-L5bin[i,k,j-1]==5 or L5bin[i,k,j-1]-L5bin[i,k,j]==5:\n",
    "                num100_5bin+=1\n",
    "            elif L5bin[i,k,j]-L5bin[i,k,j-1]==4 or L5bin[i,k,j-1]-L5bin[i,k,j]==4:\n",
    "                num40_5bin+=1\n",
    "            elif L5bin[i,k,j]-L5bin[i,k,j-1]==3 or L5bin[i,k,j-1]-L5bin[i,k,j]==3:\n",
    "                num16_5bin+=1\n",
    "            elif L5bin[i,k,j]-L5bin[i,k,j-1]==2 or L5bin[i,k,j-1]-L5bin[i,k,j]==2:\n",
    "                num6_5bin+=1\n",
    "            elif L5bin[i,k,j]-L5bin[i,k,j-1]==1.25 or L5bin[i,k,j-1]-L5bin[i,k,j]==1.25:\n",
    "                num3_5bin+=1\n",
    "            else:\n",
    "                num0_5bin+=1\n",
    "    num0_list_5bin.append(num0_5bin)\n",
    "    num0_5bin=0\n",
    "    num3_list_5bin.append(num3_5bin)\n",
    "    num3_5bin=0\n",
    "    num6_list_5bin.append(num6_5bin)\n",
    "    num6_5bin=0\n",
    "    num16_list_5bin.append(num16_5bin)\n",
    "    num16_5bin=0\n",
    "    num40_list_5bin.append(num40_5bin)\n",
    "    num40_5bin=0\n",
    "    num100_list_5bin.append(num100_5bin)\n",
    "    num100_5bin=0"
   ]
  },
  {
   "cell_type": "code",
   "execution_count": 36,
   "id": "fc5c1172",
   "metadata": {},
   "outputs": [],
   "source": [
    "num100_final_5bin=[]\n",
    "for i in range(run):\n",
    "    num100_final_5bin.append(num100_list_5bin[i]*100)\n",
    "    \n",
    "num40_final_5bin=[]\n",
    "for i in range(run):\n",
    "    num40_final_5bin.append(num40_list_5bin[i]*40)\n",
    "    \n",
    "num16_final_5bin=[]\n",
    "for i in range(run):\n",
    "    num16_final_5bin.append(num16_list_5bin[i]*16)\n",
    "    \n",
    "num6_final_5bin=[]\n",
    "for i in range(run):\n",
    "    num6_final_5bin.append(num6_list_5bin[i]*6)\n",
    "    \n",
    "num3_final_5bin=[]\n",
    "for i in range(run):\n",
    "    num3_final_5bin.append(num3_list_5bin[i]*3)\n",
    "    \n",
    "num0_final_5bin=[]\n",
    "for i in range(run):\n",
    "    num0_final_5bin.append(num0_list_5bin[i]*1)"
   ]
  },
  {
   "cell_type": "code",
   "execution_count": 37,
   "id": "08569d58",
   "metadata": {},
   "outputs": [],
   "source": [
    "num100_total_5bin=[]\n",
    "num40_total_5bin=[]\n",
    "num16_total_5bin=[]\n",
    "num3_total_5bin=[]\n",
    "num6_total_5bin=[]\n",
    "num0_total_5bin=[]\n",
    "for i in range(run):\n",
    "    total5=num100_final_5bin[i]+num40_final_5bin[i]+num16_final_5bin[i]+num6_final_5bin[i]+num3_final_5bin[i]+num0_final_5bin[i]\n",
    "    num100_total_5bin.append(100*num100_final_5bin[i]/total5)\n",
    "    num40_total_5bin.append(100*num40_final_5bin[i]/total5)\n",
    "    num16_total_5bin.append(100*num16_final_5bin[i]/total5)\n",
    "    num3_total_5bin.append(100*num3_final_5bin[i]/total5)\n",
    "    num6_total_5bin.append(100*num6_final_5bin[i]/total5)\n",
    "    num0_total_5bin.append(100*num0_final_5bin[i]/total5)"
   ]
  },
  {
   "cell_type": "code",
   "execution_count": 38,
   "id": "2451a547",
   "metadata": {},
   "outputs": [
    {
     "name": "stderr",
     "output_type": "stream",
     "text": [
      "<ipython-input-38-9ffa005a31a0>:69: UserWarning: FixedFormatter should only be used together with FixedLocator\n",
      "  ax1.set_xticklabels(['0','S.S.','3x','6x','16x','40x','100x'])\n"
     ]
    },
    {
     "data": {
      "image/png": "[encoded data removed]",
      "text/plain": [
       "<Figure size 576x504 with 1 Axes>"
      ]
     },
     "metadata": {
      "needs_background": "light"
     },
     "output_type": "display_data"
    }
   ],
   "source": [
    "fig,ax1=plt.subplots()\n",
    "fig.set_size_inches(8,7)\n",
    "plt.rcParams['text.usetex']='False'\n",
    "plt.rcParams['font.family']='sans serif'\n",
    "plt.rcParams['axes.labelweight']='normal'\n",
    "plt.rcParams['font.weight']='normal'\n",
    "\n",
    "v100=ax1.violinplot(num100_total_5bin,positions=[6],vert=True, widths=0.5, showmeans=True, showextrema=True)\n",
    "for pc in v100['bodies']:\n",
    "    pc.set_facecolor('#1f77b4')\n",
    "    pc.set_edgecolor('#1f77b4')\n",
    "    pc.set_alpha(0.3)\n",
    "for partname in ('cbars','cmins','cmaxes','cmeans',):\n",
    "    vp=v100[partname]\n",
    "    vp.set_edgecolor('#1f77b4')\n",
    "    vp.set_linewidth(2)\n",
    "    \n",
    "    \n",
    "v40=ax1.violinplot(num40_total_5bin,positions=[5],vert=True, widths=0.5, showmeans=True, showextrema=True)\n",
    "for pc in v40['bodies']:\n",
    "    pc.set_facecolor('#ff7f0e')\n",
    "    pc.set_edgecolor('#ff7f0e')\n",
    "    pc.set_alpha(0.3)\n",
    "for partname in ('cbars','cmins','cmaxes','cmeans',):\n",
    "    vp=v40[partname]\n",
    "    vp.set_edgecolor('#ff7f0e')\n",
    "    vp.set_linewidth(2)\n",
    "\n",
    "v16=ax1.violinplot(num16_total_5bin,positions=[4],vert=True, widths=0.5, showmeans=True, showextrema=True)\n",
    "for pc in v16['bodies']:\n",
    "    pc.set_facecolor('#2ca02c')\n",
    "    pc.set_edgecolor('#2ca02c')\n",
    "    pc.set_alpha(0.3)\n",
    "for partname in ('cbars','cmins','cmaxes','cmeans',):\n",
    "    vp=v16[partname]\n",
    "    vp.set_edgecolor('#2ca02c')\n",
    "    vp.set_linewidth(2)\n",
    "    \n",
    "v6=ax1.violinplot(num6_total_5bin,positions=[3],vert=True, widths=0.5, showmeans=True, showextrema=True)\n",
    "for pc in v6['bodies']:\n",
    "    pc.set_facecolor('#d62728')\n",
    "    pc.set_edgecolor('#d62728')\n",
    "    pc.set_alpha(0.3)\n",
    "for partname in ('cbars','cmins','cmaxes','cmeans',):\n",
    "    vp=v6[partname]\n",
    "    vp.set_edgecolor('#d62728')\n",
    "    vp.set_linewidth(2)\n",
    "\n",
    "v3=ax1.violinplot(num3_total_5bin,positions=[2],vert=True, widths=0.5, showmeans=True, showextrema=True)\n",
    "for pc in v3['bodies']:\n",
    "    pc.set_facecolor('#9467bd')\n",
    "    pc.set_edgecolor('#9467bd')\n",
    "    pc.set_alpha(0.3)\n",
    "for partname in ('cbars','cmins','cmaxes','cmeans',):\n",
    "    vp=v3[partname]\n",
    "    vp.set_edgecolor('#9467bd')\n",
    "    vp.set_linewidth(2)\n",
    "    \n",
    "v0=ax1.violinplot(num0_total_5bin,positions=[1],vert=True, widths=0.5, showmeans=True, showextrema=True)\n",
    "for pc in v0['bodies']:\n",
    "    pc.set_facecolor('#8c564b')\n",
    "    pc.set_edgecolor('#8c564b')\n",
    "    pc.set_alpha(0.3)\n",
    "for partname in ('cbars','cmins','cmaxes','cmeans',):\n",
    "    vp=v0[partname]\n",
    "    vp.set_edgecolor('#8c564b')\n",
    "    vp.set_linewidth(2) \n",
    "    \n",
    "ax1.set_xticklabels(['0','S.S.','3x','6x','16x','40x','100x'])\n",
    "ax1.set_ylabel('% of mass accreted',fontsize=14)\n",
    "ax1.set_xlabel('Burst amplitude',fontsize=14)\n",
    "    \n",
    "string0='{:.2f}%'.format(np.mean(num0_total_5bin))\n",
    "string3='{:.2f}%'.format(np.mean(num3_total_5bin))\n",
    "string6='{:.2f}%'.format(np.mean(num6_total_5bin))\n",
    "string16='{:.2f}%'.format(np.mean(num16_total_5bin))\n",
    "string40='{:.2f}%'.format(np.mean(num40_total_5bin))\n",
    "string100='{:.2f}%'.format(np.mean(num100_total_5bin))\n",
    "\n",
    "\n",
    "ax1.text(1,np.max(num0_total_5bin)+0.75,string0,ha='center')\n",
    "ax1.text(2,np.max(num3_total_5bin)+0.75,string3,ha='center')\n",
    "ax1.text(3,np.max(num6_total_5bin)+0.75,string6,ha='center')\n",
    "ax1.text(4,np.max(num16_total_5bin)+0.75,string16,ha='center')\n",
    "ax1.text(5,np.max(num40_total_5bin)+0.75,string40,ha='center')\n",
    "ax1.text(6,np.max(num100_total_5bin)+0.75,string100,ha='center')\n",
    "plt.title('Mass accreted for each burst type',fontsize=16)\n",
    "plt.savefig('/home/lee/research/figs/observational/observational_mass_5bins_violinplot.jpeg',dpi=300,bbox_inches='tight')\n",
    "plt.show()    "
   ]
  },
  {
   "cell_type": "code",
   "execution_count": 39,
   "id": "1c99f2e0",
   "metadata": {},
   "outputs": [
    {
     "data": {
      "text/plain": [
       "{'bodies': [<matplotlib.collections.PolyCollection at 0x7f9f7f631850>],\n",
       " 'cmeans': <matplotlib.collections.LineCollection at 0x7fa3ff62d130>,\n",
       " 'cmaxes': <matplotlib.collections.LineCollection at 0x7f9f7f6315e0>,\n",
       " 'cmins': <matplotlib.collections.LineCollection at 0x7f9f7f6313a0>,\n",
       " 'cbars': <matplotlib.collections.LineCollection at 0x7fa3ff6332e0>}"
      ]
     },
     "execution_count": 39,
     "metadata": {},
     "output_type": "execute_result"
    },
    {
     "data": {
      "image/png": "[encoded data removed]",
      "text/plain": [
       "<Figure size 432x288 with 1 Axes>"
      ]
     },
     "metadata": {
      "needs_background": "light"
     },
     "output_type": "display_data"
    }
   ],
   "source": [
    "plt.violinplot(num100_list_1bin,vert=True, widths=0.5, showmeans=True, showextrema=True)\n",
    "plt.violinplot(num100_list_2bin,positions=[2],vert=True, widths=0.5, showmeans=True, showextrema=True)\n",
    "plt.violinplot(num100_list_3bin,positions=[3],vert=True, widths=0.5, showmeans=True, showextrema=True)\n",
    "plt.violinplot(num100_list_4bin,positions=[4],vert=True, widths=0.5, showmeans=True, showextrema=True)\n",
    "plt.violinplot(num100_list_5bin,positions=[5],vert=True, widths=0.5, showmeans=True, showextrema=True)\n"
   ]
  },
  {
   "cell_type": "code",
   "execution_count": 40,
   "id": "63811645",
   "metadata": {},
   "outputs": [],
   "source": [
    "data100=[num100_list_1bin,num100_list_2bin,num100_list_3bin,num100_list_4bin,num100_list_5bin]\n",
    "data40=[num40_list_2bin,num40_list_3bin,num40_list_4bin,num40_list_5bin]\n",
    "data16=[num16_list_3bin,num16_list_4bin,num16_list_5bin]\n",
    "data3=[num3_list_4bin,num3_list_5bin]\n",
    "data6=[num6_list_5bin]"
   ]
  },
  {
   "cell_type": "code",
   "execution_count": 41,
   "id": "9d73f142",
   "metadata": {},
   "outputs": [
    {
     "name": "stdout",
     "output_type": "stream",
     "text": [
      "[[2846, 2838, 2851, 2861, 2873, 2992, 2935, 2950, 2797, 2865, 2822, 2851, 2780, 2868, 2836, 2801, 2772, 2896, 2832, 2820, 2910, 2924, 2907, 2859, 2859, 2812, 2913, 2982, 2833, 2809, 2828, 2841, 2790, 2820, 2864, 2930, 2948, 2920, 2832, 2724, 2762, 2925, 2854, 2783, 2798, 2848, 2878, 2952, 2902, 2925], [2202, 2330, 2297, 2252, 2140, 2155, 2269, 2351, 2280, 2236, 2194, 2285, 2261, 2258, 2280, 2191, 2152, 2265, 2250, 2210, 2200, 2163, 2237, 2282, 2141, 2194, 2394, 2186, 2269, 2411, 2296, 2252, 2292, 2245, 2229, 2257, 2285, 2240, 2212, 2423, 2266, 2234, 2169, 2323, 2214, 2294, 2212, 2353, 2322, 2215]]\n"
     ]
    }
   ],
   "source": [
    "print(data3)"
   ]
  },
  {
   "cell_type": "code",
   "execution_count": 42,
   "id": "24b3a61c",
   "metadata": {},
   "outputs": [],
   "source": [
    "#make it log scale?\n",
    "data100new=[]\n",
    "list100=[]\n",
    "for i in range(5):\n",
    "    for j in range(50):\n",
    "        if data100[i][j]!=0:\n",
    "            list100.append(data100[i][j])\n",
    "    data100new.append(list100)\n",
    "    list100=[]\n",
    "    \n",
    "data40new=[]\n",
    "list40=[]\n",
    "for i in range(4):\n",
    "    for j in range(50):\n",
    "        if data40[i][j]!=0:\n",
    "            list40.append(data40[i][j])\n",
    "    data40new.append(list40)\n",
    "    list40=[]\n",
    "    \n",
    "data16new=[]\n",
    "list16=[]\n",
    "for i in range(3):\n",
    "    for j in range(50):\n",
    "        if data16[i][j]!=0:\n",
    "            list16.append(data16[i][j])\n",
    "    data16new.append(list16)\n",
    "    list16=[]\n",
    "    \n",
    "data6new=[]\n",
    "list6=[]\n",
    "for i in range(1):\n",
    "    for j in range(50):\n",
    "        if data6[i][j]!=0:\n",
    "            list6.append(data6[i][j])\n",
    "    data6new.append(list6)\n",
    "    list6=[]\n",
    "    \n",
    "data3new=[]\n",
    "list3=[]\n",
    "for i in range(2):\n",
    "    for j in range(50):\n",
    "        if data3[i][j]!=0:\n",
    "            list3.append(data3[i][j])\n",
    "    data3new.append(list3)\n",
    "    list3=[]"
   ]
  },
  {
   "cell_type": "code",
   "execution_count": 43,
   "id": "06469f26",
   "metadata": {},
   "outputs": [
    {
     "name": "stdout",
     "output_type": "stream",
     "text": [
      "[[2846, 2838, 2851, 2861, 2873, 2992, 2935, 2950, 2797, 2865, 2822, 2851, 2780, 2868, 2836, 2801, 2772, 2896, 2832, 2820, 2910, 2924, 2907, 2859, 2859, 2812, 2913, 2982, 2833, 2809, 2828, 2841, 2790, 2820, 2864, 2930, 2948, 2920, 2832, 2724, 2762, 2925, 2854, 2783, 2798, 2848, 2878, 2952, 2902, 2925], [2202, 2330, 2297, 2252, 2140, 2155, 2269, 2351, 2280, 2236, 2194, 2285, 2261, 2258, 2280, 2191, 2152, 2265, 2250, 2210, 2200, 2163, 2237, 2282, 2141, 2194, 2394, 2186, 2269, 2411, 2296, 2252, 2292, 2245, 2229, 2257, 2285, 2240, 2212, 2423, 2266, 2234, 2169, 2323, 2214, 2294, 2212, 2353, 2322, 2215]]\n"
     ]
    }
   ],
   "source": [
    "print(data3new)"
   ]
  },
  {
   "cell_type": "code",
   "execution_count": 44,
   "id": "c59d2ead",
   "metadata": {},
   "outputs": [
    {
     "data": {
      "image/png": "[encoded data removed]",
      "text/plain": [
       "<Figure size 576x504 with 1 Axes>"
      ]
     },
     "metadata": {
      "needs_background": "light"
     },
     "output_type": "display_data"
    }
   ],
   "source": [
    "fig,ax1=plt.subplots()\n",
    "fig.set_size_inches(8,7)\n",
    "plt.rcParams['text.usetex']='False'\n",
    "plt.rcParams['font.family']='sans serif'\n",
    "plt.rcParams['axes.labelweight']='normal'\n",
    "plt.rcParams['font.weight']='normal'\n",
    "\n",
    "#ax1\n",
    "v100=ax1.violinplot(data100new,vert=True, widths=0.5, showmeans=True, showextrema=True)\n",
    "for pc in v100['bodies']:\n",
    "    pc.set_facecolor('#1f77b4')\n",
    "    pc.set_edgecolor('#1f77b4')\n",
    "    pc.set_alpha(0.3)\n",
    "for partname in ('cbars','cmins','cmaxes','cmeans',):\n",
    "    vp=v100[partname]\n",
    "    vp.set_edgecolor('#1f77b4')\n",
    "    vp.set_linewidth(2)\n",
    "\n",
    "v40=ax1.violinplot(data40new,positions=[2,3,4,5],vert=True, widths=0.5, showmeans=True, showextrema=True)\n",
    "for pc in v40['bodies']:\n",
    "    pc.set_facecolor('#ff7f0e')\n",
    "    pc.set_edgecolor('#ff7f0e')\n",
    "    pc.set_alpha(0.3)\n",
    "for partname in ('cbars','cmins','cmaxes','cmeans',):\n",
    "    vp=v40[partname]\n",
    "    vp.set_edgecolor('#ff7f0e')\n",
    "    vp.set_linewidth(2)\n",
    "\n",
    "v16=ax1.violinplot(data16new,positions=[3,4,5],vert=True, widths=0.5, showmeans=True, showextrema=True)\n",
    "for pc in v16['bodies']:\n",
    "    pc.set_facecolor('#2ca02c')\n",
    "    pc.set_edgecolor('#2ca02c')\n",
    "    pc.set_alpha(0.3)\n",
    "for partname in ('cbars','cmins','cmaxes','cmeans',):\n",
    "    vp=v16[partname]\n",
    "    vp.set_edgecolor('#2ca02c')\n",
    "    vp.set_linewidth(2)\n",
    "    \n",
    "v6=ax1.violinplot(data6new,positions=[5],vert=True, widths=0.5, showmeans=True, showextrema=True)\n",
    "for pc in v6['bodies']:\n",
    "    pc.set_facecolor('#d62728')\n",
    "    pc.set_edgecolor('#d62728')\n",
    "    pc.set_alpha(0.3)\n",
    "for partname in ('cbars','cmins','cmaxes','cmeans',):\n",
    "    vp=v6[partname]\n",
    "    vp.set_edgecolor('#d62728')\n",
    "    vp.set_linewidth(2)\n",
    "\n",
    "v3=ax1.violinplot(data3new,positions=[4,5],vert=True, widths=0.5, showmeans=True, showextrema=True)\n",
    "for pc in v3['bodies']:\n",
    "    pc.set_facecolor('#9467bd')\n",
    "    pc.set_edgecolor('#9467bd')\n",
    "    pc.set_alpha(0.3)\n",
    "for partname in ('cbars','cmins','cmaxes','cmeans',):\n",
    "    vp=v3[partname]\n",
    "    vp.set_edgecolor('#9467bd')\n",
    "    vp.set_linewidth(2)\n",
    "    \n",
    "ax1.minorticks_on()\n",
    "ax1.locator_params(axis='y',nbins=6)\n",
    "#ax1.yaxis.set_ticks_position('both')\n",
    "#ax1.tick_params(axis='both',right=True,top=True,which='both')\n",
    "ax1.tick_params(axis='both',which='major', length=10, width=1, direction='in',labelsize=15)\n",
    "ax1.tick_params(axis='both',which='minor', length=5, width=1, direction='in',labelsize=15)\n",
    "    \n",
    "ax1.scatter(1,np.mean(data100new[0]),marker='_',s=300,color='#1f77b4',label='100x')\n",
    "ax1.scatter(2,np.mean(data40new[0]),marker='_',s=300,color='#ff7f0e',label='40x')\n",
    "ax1.scatter(3,np.mean(data16new[0]),marker='_',s=300,color='#2ca02c',label='16x')\n",
    "ax1.scatter(5,np.mean(data6new[0]),marker='_',s=300,color='#d62728',label='6x')\n",
    "ax1.scatter(4,np.mean(data3new[0]),marker='_',s=300,color='#9467bd',label='3x') \n",
    "plt.legend(loc='upper left',fontsize=13)\n",
    "\n",
    "ax1.set_ylabel(r'Number of stars undergoing a burst',fontsize=15)\n",
    "ax1.set_xlabel('Number of burst types',fontsize=15)\n",
    "ax1.set_title('Number of bursts for each burst type (size=2000)',fontsize=18)\n",
    "plt.yscale('log')\n",
    "\n",
    "plt.plot()\n",
    "plt.savefig('/home/lee/research/figs/observational/comp_observational2000_All_log.jpeg',dpi=300,bbox_inches='tight')"
   ]
  },
  {
   "cell_type": "code",
   "execution_count": 45,
   "id": "bcef0c24",
   "metadata": {},
   "outputs": [],
   "source": [
    "data5x_new=[]\n",
    "for i in range(len(num100_list_5bin)):\n",
    "    if num100_list_5bin[i]!=0:\n",
    "        data5x_new.append(num100_list_5bin[i])\n",
    "        \n",
    "data4x_new=[]\n",
    "for i in range(len(num40_list_5bin)):\n",
    "    if num40_list_5bin[i]!=0:\n",
    "        data4x_new.append(num40_list_5bin[i])\n",
    "        \n",
    "data3x_new=[]\n",
    "for i in range(len(num16_list_5bin)):\n",
    "    if num16_list_5bin[i]!=0:\n",
    "        data3x_new.append(num16_list_5bin[i])\n",
    "        \n",
    "data1x_new=[]\n",
    "for i in range(len(num3_list_5bin)):\n",
    "    if num3_list_5bin[i]!=0:\n",
    "        data1x_new.append(num3_list_5bin[i])\n",
    "        \n",
    "data2x_new=[]\n",
    "for i in range(len(num6_list_5bin)):\n",
    "    if num6_list_5bin[i]!=0:\n",
    "        data2x_new.append(num6_list_5bin[i])"
   ]
  },
  {
   "cell_type": "code",
   "execution_count": 46,
   "id": "ae77682d",
   "metadata": {},
   "outputs": [
    {
     "name": "stderr",
     "output_type": "stream",
     "text": [
      "<ipython-input-46-15ebfa045945>:66: UserWarning: FixedFormatter should only be used together with FixedLocator\n",
      "  ax1.set_xticklabels(['0','0','20','40','60','80','100'])\n"
     ]
    },
    {
     "data": {
      "image/png": "[encoded data removed]",
      "text/plain": [
       "<Figure size 648x504 with 1 Axes>"
      ]
     },
     "metadata": {
      "needs_background": "light"
     },
     "output_type": "display_data"
    }
   ],
   "source": [
    "fig,ax1=plt.subplots()\n",
    "fig.set_size_inches(9,7)\n",
    "plt.rcParams['text.usetex']='False'\n",
    "plt.rcParams['font.family']='sans serif'\n",
    "plt.rcParams['axes.labelweight']='normal'\n",
    "plt.rcParams['font.weight']='normal'\n",
    "\n",
    "#ax1\n",
    "v100=ax1.violinplot(data5x_new,positions=[10],vert=True, widths=0.5, showmeans=True, showextrema=True, showmedians=False)\n",
    "for pc in v100['bodies']:\n",
    "    pc.set_facecolor('#1f77b4')\n",
    "    pc.set_edgecolor('#1f77b4')\n",
    "    pc.set_alpha(0.3)\n",
    "for partname in ('cbars','cmins','cmaxes','cmeans',):\n",
    "    vp=v100[partname]\n",
    "    vp.set_edgecolor('#1f77b4')\n",
    "    vp.set_linewidth(2)\n",
    "    \n",
    "v40=ax1.violinplot(data4x_new,positions=[4],vert=True, widths=0.5, showmeans=True, showextrema=True, showmedians=False)\n",
    "for pc in v40['bodies']:\n",
    "    pc.set_facecolor('#ff7f0e')\n",
    "    pc.set_edgecolor('#ff7f0e')\n",
    "    pc.set_alpha(0.3)\n",
    "for partname in ('cbars','cmins','cmaxes','cmeans',):\n",
    "    vp=v40[partname]\n",
    "    vp.set_edgecolor('#ff7f0e')\n",
    "    vp.set_linewidth(2)\n",
    "    \n",
    "v16=ax1.violinplot(data3x_new,positions=[1.6],vert=True, widths=0.5, showmeans=True, showextrema=True, showmedians=False)\n",
    "for pc in v16['bodies']:\n",
    "    pc.set_facecolor('#2ca02c')\n",
    "    pc.set_edgecolor('#2ca02c')\n",
    "    pc.set_alpha(0.3)\n",
    "for partname in ('cbars','cmins','cmaxes','cmeans',):\n",
    "    vp=v16[partname]\n",
    "    vp.set_edgecolor('#2ca02c')\n",
    "    vp.set_linewidth(2)\n",
    "    \n",
    "v3=ax1.violinplot(data1x_new,positions=[0.3],vert=True, widths=0.5, showmeans=True, showextrema=True, showmedians=False)\n",
    "for pc in v3['bodies']:\n",
    "    pc.set_facecolor('#9467bd')\n",
    "    pc.set_edgecolor('#9467bd')\n",
    "    pc.set_alpha(0.3)\n",
    "for partname in ('cbars','cmins','cmaxes','cmeans',):\n",
    "    vp=v3[partname]\n",
    "    vp.set_edgecolor('#9467bd')\n",
    "    vp.set_linewidth(2)   \n",
    "    \n",
    "v6=ax1.violinplot(data2x_new,positions=[0.6],vert=True, widths=0.5, showmeans=True, showextrema=True)\n",
    "for pc in v6['bodies']:\n",
    "    pc.set_facecolor('#d62728')\n",
    "    pc.set_edgecolor('#d62728')\n",
    "    pc.set_alpha(0.3)\n",
    "for partname in ('cbars','cmins','cmaxes','cmeans',):\n",
    "    vp=v6[partname]\n",
    "    vp.set_edgecolor('#d62728')\n",
    "    vp.set_linewidth(2)\n",
    "\n",
    "ax1.minorticks_on()\n",
    "ax1.locator_params(axis='y',nbins=6)\n",
    "#ax1.yaxis.set_ticks_position('both')\n",
    "#ax1.tick_params(axis='both',right=True,top=True,which='both')\n",
    "ax1.tick_params(axis='both',which='major', length=10, width=1, direction='in',labelsize=15)\n",
    "ax1.tick_params(axis='both',which='minor', length=5, width=1, direction='in',labelsize=15)\n",
    "\n",
    "ax1.set_xticklabels(['0','0','20','40','60','80','100'])\n",
    "\n",
    "ax1.set_ylabel(r'Number of stars undergoing a burst',fontsize=15)\n",
    "ax1.set_xlabel('Burst Amplitude',fontsize=15)\n",
    "ax1.set_title('Number of bursts for each burst type (size=2000)',fontsize=20)\n",
    "\n",
    "#ax1.set_xlim(1,200)\n",
    "plt.yscale('log')\n",
    "#plt.xscale('log')\n",
    "\n",
    "plt.plot()\n",
    "plt.savefig('/home/lee/research/figs/observational/comp_observational2000_5bins_2week_log.jpeg',dpi=300,bbox_inches='tight')"
   ]
  },
  {
   "cell_type": "markdown",
   "id": "041d4621",
   "metadata": {},
   "source": [
    "## Just 100x burst"
   ]
  },
  {
   "cell_type": "markdown",
   "id": "d283852e",
   "metadata": {},
   "source": [
    "## 50 stars"
   ]
  },
  {
   "cell_type": "code",
   "execution_count": 51,
   "id": "cd3fe9f6",
   "metadata": {},
   "outputs": [],
   "source": [
    "burst50=np.load('/home/lee/data/cluster_size_change/100x_burst/burst50.npy')\n",
    "L50=np.load('/home/lee/data/cluster_size_change/100x_burst/L50.npy')\n",
    "C50=np.load('/home/lee/data/cluster_size_change/100x_burst/C50.npy')"
   ]
  },
  {
   "cell_type": "code",
   "execution_count": 52,
   "id": "04baa3e6",
   "metadata": {},
   "outputs": [],
   "source": [
    "cluster_size50=50\n",
    "cad_L50=np.zeros((run,cluster_size50,12))\n",
    "for i in range(run):\n",
    "    for j in range(cluster_size50):\n",
    "        for k in range(len(t_list_cadence)):\n",
    "                cad_L50[i,j,k]=L50[i,j,t_list_cadence[k]]"
   ]
  },
  {
   "cell_type": "code",
   "execution_count": 53,
   "id": "70cfeaed",
   "metadata": {},
   "outputs": [],
   "source": [
    "num50=0\n",
    "num50_list=[]\n",
    "for i in range(run):\n",
    "    for j in range(1,12):\n",
    "        for k in range(cluster_size50):\n",
    "            if cad_L50[i,k,j]-cad_L50[i,k,j-1]==5 or cad_L50[i,k,j-1]-cad_L50[i,k,j]==5:\n",
    "                num50+=1\n",
    "    num50_list.append(num50)\n",
    "    num50=0"
   ]
  },
  {
   "cell_type": "markdown",
   "id": "78e51c30",
   "metadata": {},
   "source": [
    "## 100 stars"
   ]
  },
  {
   "cell_type": "code",
   "execution_count": 7,
   "id": "898d8b4c",
   "metadata": {},
   "outputs": [],
   "source": [
    "burst100=np.load('/home/lee/data/cluster_size_change/burst100.npy')\n",
    "L100=np.load('/home/lee/data/cluster_size_change/L100.npy')\n",
    "C100=np.load('/home/lee/data/cluster_size_change/C100.npy')"
   ]
  },
  {
   "cell_type": "code",
   "execution_count": 8,
   "id": "dd615ecb",
   "metadata": {},
   "outputs": [],
   "source": [
    "cluster_size100=100\n",
    "cad_L100=np.zeros((run,cluster_size100,12))\n",
    "for i in range(run):\n",
    "    for j in range(cluster_size100):\n",
    "        for k in range(len(t_list_cadence)):\n",
    "                cad_L100[i,j,k]=L100[i,j,t_list_cadence[k]]"
   ]
  },
  {
   "cell_type": "code",
   "execution_count": 9,
   "id": "5dc2c9d1",
   "metadata": {},
   "outputs": [],
   "source": [
    "num100=0\n",
    "num100_list=[]\n",
    "for i in range(run):\n",
    "    for j in range(1,12):\n",
    "        for k in range(cluster_size100):\n",
    "            if cad_L100[i,k,j]-cad_L100[i,k,j-1]==5 or cad_L100[i,k,j-1]-cad_L100[i,k,j]==5:\n",
    "                num100+=1\n",
    "    num100_list.append(num100)\n",
    "    num100=0"
   ]
  },
  {
   "cell_type": "markdown",
   "id": "b0b0c729",
   "metadata": {},
   "source": [
    "## 500 stars"
   ]
  },
  {
   "cell_type": "code",
   "execution_count": 10,
   "id": "ab9d78c6",
   "metadata": {},
   "outputs": [],
   "source": [
    "burst500=np.load('/home/lee/data/cluster_size_change/burst500.npy')\n",
    "L500=np.load('/home/lee/data/cluster_size_change/L500.npy')\n",
    "C500=np.load('/home/lee/data/cluster_size_change/C500.npy')"
   ]
  },
  {
   "cell_type": "code",
   "execution_count": 11,
   "id": "c05257dc",
   "metadata": {},
   "outputs": [],
   "source": [
    "cluster_size500=500\n",
    "cad_L500=np.zeros((run,cluster_size500,12))\n",
    "for i in range(run):\n",
    "    for j in range(cluster_size500):\n",
    "        for k in range(len(t_list_cadence)):\n",
    "                cad_L500[i,j,k]=L500[i,j,t_list_cadence[k]]"
   ]
  },
  {
   "cell_type": "code",
   "execution_count": 12,
   "id": "04753120",
   "metadata": {},
   "outputs": [],
   "source": [
    "num500=0\n",
    "num500_list=[]\n",
    "for i in range(run):\n",
    "    for j in range(1,12):\n",
    "        for k in range(cluster_size500):\n",
    "            if cad_L500[i,k,j]-cad_L500[i,k,j-1]==5 or cad_L500[i,k,j-1]-cad_L500[i,k,j]==5:\n",
    "                num500+=1\n",
    "    num500_list.append(num500)\n",
    "    num500=0"
   ]
  },
  {
   "cell_type": "markdown",
   "id": "c4529f57",
   "metadata": {},
   "source": [
    "## 1000 stars"
   ]
  },
  {
   "cell_type": "code",
   "execution_count": 13,
   "id": "3e9de121",
   "metadata": {},
   "outputs": [],
   "source": [
    "burst1000=np.load('/home/lee/data/cluster_size_change/burst1000.npy')\n",
    "L1000=np.load('/home/lee/data/cluster_size_change/L1000.npy')\n",
    "C1000=np.load('/home/lee/data/cluster_size_change/C1000.npy')"
   ]
  },
  {
   "cell_type": "code",
   "execution_count": 14,
   "id": "d458c661",
   "metadata": {},
   "outputs": [],
   "source": [
    "cluster_size1000=1000\n",
    "cad_L1000=np.zeros((run,cluster_size1000,12))\n",
    "for i in range(run):\n",
    "    for j in range(cluster_size1000):\n",
    "        for k in range(len(t_list_cadence)):\n",
    "                cad_L1000[i,j,k]=L1000[i,j,t_list_cadence[k]]"
   ]
  },
  {
   "cell_type": "code",
   "execution_count": 15,
   "id": "3afa2f81",
   "metadata": {},
   "outputs": [],
   "source": [
    "num1000=0\n",
    "num1000_list=[]\n",
    "for i in range(run):\n",
    "    for j in range(1,12):\n",
    "        for k in range(cluster_size1000):\n",
    "            if cad_L1000[i,k,j]-cad_L1000[i,k,j-1]==5 or cad_L1000[i,k,j-1]-cad_L1000[i,k,j]==5:\n",
    "                num1000+=1\n",
    "    num1000_list.append(num1000)\n",
    "    num1000=0"
   ]
  },
  {
   "cell_type": "markdown",
   "id": "ee775e69",
   "metadata": {},
   "source": [
    "## 2000 stars"
   ]
  },
  {
   "cell_type": "code",
   "execution_count": 16,
   "id": "c0e15177",
   "metadata": {},
   "outputs": [],
   "source": [
    "burst2000=np.load('/home/lee/data/cluster_size_change/burst2000.npy')\n",
    "L2000=np.load('/home/lee/data/cluster_size_change/L2000.npy')\n",
    "C2000=np.load('/home/lee/data/cluster_size_change/C2000.npy')"
   ]
  },
  {
   "cell_type": "code",
   "execution_count": 17,
   "id": "d0083552",
   "metadata": {},
   "outputs": [],
   "source": [
    "cluster_size2000=2000\n",
    "cad_L2000=np.zeros((run,cluster_size2000,12))\n",
    "for i in range(run):\n",
    "    for j in range(cluster_size2000):\n",
    "        for k in range(len(t_list_cadence)):\n",
    "                cad_L2000[i,j,k]=L2000[i,j,t_list_cadence[k]]"
   ]
  },
  {
   "cell_type": "code",
   "execution_count": 18,
   "id": "87aa5e85",
   "metadata": {},
   "outputs": [],
   "source": [
    "num2000=0\n",
    "num2000_list=[]\n",
    "for i in range(run):\n",
    "    for j in range(1,12):\n",
    "        for k in range(cluster_size2000):\n",
    "            if cad_L2000[i,k,j]-cad_L2000[i,k,j-1]==5 or cad_L2000[i,k,j-1]-cad_L2000[i,k,j]==5:\n",
    "                num2000+=1\n",
    "    num2000_list.append(num2000)\n",
    "    num2000=0"
   ]
  },
  {
   "cell_type": "markdown",
   "id": "a0dfe0c4",
   "metadata": {},
   "source": [
    "## 5000 stars"
   ]
  },
  {
   "cell_type": "code",
   "execution_count": 19,
   "id": "4bd73a06",
   "metadata": {},
   "outputs": [],
   "source": [
    "burst5000=np.load('/home/lee/data/cluster_size_change/burst5000.npy')\n",
    "L5000=np.load('/home/lee/data/cluster_size_change/L5000.npy')\n",
    "C5000=np.load('/home/lee/data/cluster_size_change/C5000.npy')"
   ]
  },
  {
   "cell_type": "code",
   "execution_count": 20,
   "id": "cbf57d46",
   "metadata": {},
   "outputs": [],
   "source": [
    "cluster_size5000=5000\n",
    "cad_L5000=np.zeros((run,cluster_size5000,12))\n",
    "for i in range(run):\n",
    "    for j in range(cluster_size5000):\n",
    "        for k in range(len(t_list_cadence)):\n",
    "                cad_L5000[i,j,k]=L5000[i,j,t_list_cadence[k]]"
   ]
  },
  {
   "cell_type": "code",
   "execution_count": 21,
   "id": "92174ee4",
   "metadata": {},
   "outputs": [],
   "source": [
    "num5000=0\n",
    "num5000_list=[]\n",
    "for i in range(run):\n",
    "    for j in range(1,12):\n",
    "        for k in range(cluster_size5000):\n",
    "            if cad_L5000[i,k,j]-cad_L5000[i,k,j-1]==5 or cad_L5000[i,k,j-1]-cad_L5000[i,k,j]==5:\n",
    "                num5000+=1\n",
    "    num5000_list.append(num5000)\n",
    "    num5000=0"
   ]
  },
  {
   "cell_type": "code",
   "execution_count": 22,
   "id": "ff1e05cd",
   "metadata": {},
   "outputs": [],
   "source": [
    "num_new50=[]\n",
    "num_new100=[]\n",
    "num_new500=[]\n",
    "num_new1000=[]\n",
    "num_new2000=[]\n",
    "num_new5000=[]\n",
    "for i in range(len(num50_list)):\n",
    "    if num50_list[i]!=0:\n",
    "        num_new50.append(num50_list[i])\n",
    "        \n",
    "for i in range(len(num100_list)):\n",
    "    if num100_list[i]!=0:\n",
    "        num_new100.append(num100_list[i])\n",
    "        \n",
    "for i in range(len(num500_list)):\n",
    "    if num500_list[i]!=0:\n",
    "        num_new500.append(num500_list[i])\n",
    "        \n",
    "for i in range(len(num1000_list)):\n",
    "    if num1000_list[i]!=0:\n",
    "        num_new1000.append(num1000_list[i])\n",
    "        \n",
    "for i in range(len(num2000_list)):\n",
    "    if num2000_list[i]!=0:\n",
    "        num_new2000.append(num2000_list[i])\n",
    "        \n",
    "for i in range(len(num5000_list)):\n",
    "    if num5000_list[i]!=0:\n",
    "        num_new5000.append(num5000_list[i])"
   ]
  },
  {
   "cell_type": "code",
   "execution_count": 23,
   "id": "63a05f7d",
   "metadata": {},
   "outputs": [],
   "source": [
    "data_num=[num_new50,num_new100,num_new500,num_new1000,num_new2000,num_new5000]"
   ]
  },
  {
   "cell_type": "code",
   "execution_count": 29,
   "id": "3bd17ded",
   "metadata": {},
   "outputs": [
    {
     "data": {
      "image/png": "[encoded data removed]",
      "text/plain": [
       "<Figure size 648x576 with 1 Axes>"
      ]
     },
     "metadata": {
      "needs_background": "light"
     },
     "output_type": "display_data"
    }
   ],
   "source": [
    "labels=[50,100,500,1000,2000,5000]\n",
    "fig,ax=plt.subplots()\n",
    "fig.set_size_inches(9,8)\n",
    "plt.rcParams['text.usetex']='False'\n",
    "plt.rcParams['font.family']='sans serif'\n",
    "plt.rcParams['axes.labelweight']='normal'\n",
    "plt.rcParams['font.weight']='normal'\n",
    "ax.violinplot(data_num,vert=True, widths=0.5, showmeans=True, showextrema=True, showmedians=False)\n",
    "plt.xticks([1,2,3,4,5,6,],['50','100','500','1000','2000','5000'])\n",
    "ax.set_xlabel('Number of Stars in Cluster',fontsize=13)\n",
    "ax.set_ylabel('Number of Stars',fontsize=13)\n",
    "ax.set_title('Number of 100x Bursts for Different Cluster Sizes',fontsize=15)\n",
    "plt.plot()\n",
    "plt.savefig('/home/lee/research/figs/observational/observationally_bursting_100xonly.jpeg',dpi=300,bbox_inches='tight')"
   ]
  },
  {
   "cell_type": "markdown",
   "id": "c2894a5b",
   "metadata": {},
   "source": [
    "## 1000 stars"
   ]
  },
  {
   "cell_type": "markdown",
   "id": "5d7a95cf",
   "metadata": {},
   "source": [
    "## 1 bin"
   ]
  },
  {
   "cell_type": "code",
   "execution_count": 2,
   "id": "84d7682e",
   "metadata": {},
   "outputs": [],
   "source": [
    "burst1000_1bin=np.load('/home/lee/data/1000stars_only/burst1000_1.npy')\n",
    "L1000_1bin=np.load('/home/lee/data/1000stars_only/L1000_1.npy')\n",
    "C1000_1bin=np.load('/home/lee/data/1000stars_only/C1000_1.npy')"
   ]
  },
  {
   "cell_type": "code",
   "execution_count": 4,
   "id": "36008a5c",
   "metadata": {},
   "outputs": [],
   "source": [
    "cadence=26\n",
    "t_list_years=[200,220,220.5,221,221.5,222,222.5,223,223.5,224,224.5,225]\n",
    "t_list_cadence=[int(i*cadence) for i in t_list_years]\n",
    "run=50\n",
    "cluster_size1000=1000\n",
    "steps=7800"
   ]
  },
  {
   "cell_type": "code",
   "execution_count": 6,
   "id": "7cbd6816",
   "metadata": {},
   "outputs": [
    {
     "name": "stdout",
     "output_type": "stream",
     "text": [
      "(50, 1000, 12)\n"
     ]
    }
   ],
   "source": [
    "L1bin_1000=np.zeros((run,cluster_size1000,12))\n",
    "for i in range(run):\n",
    "    for j in range(cluster_size1000):\n",
    "        for k in range(len(t_list_cadence)):\n",
    "                L1bin_1000[i,j,k]=L1000_1bin[i,j,t_list_cadence[k]]\n",
    "                \n",
    "print(np.shape(L1bin_1000))"
   ]
  },
  {
   "cell_type": "code",
   "execution_count": 7,
   "id": "d5ff6675",
   "metadata": {},
   "outputs": [],
   "source": [
    "num1_1000=0\n",
    "num1_1000list=[]\n",
    "for i in range(run):\n",
    "    for j in range(1,12):\n",
    "        for k in range(cluster_size1000):\n",
    "            if L1bin_1000[i,k,j]-L1bin_1000[i,k,j-1]==5 or L1bin_1000[i,k,j-1]-L1bin_1000[i,k,j]==5:\n",
    "                num1_1000+=1\n",
    "                #print(i,k,j)\n",
    "                #print(L1bin[i,k,j])\n",
    "                #print(L1bin[i,k,j-1])\n",
    "    num1_1000list.append(num1_1000)\n",
    "    num1_1000=0"
   ]
  },
  {
   "cell_type": "markdown",
   "id": "7099f44c",
   "metadata": {},
   "source": [
    "## 2 bins"
   ]
  },
  {
   "cell_type": "code",
   "execution_count": 11,
   "id": "0d21ba06",
   "metadata": {},
   "outputs": [],
   "source": [
    "burst1000_2bin=np.load('/home/lee/data/1000stars_only/burst1000_2.npy')\n",
    "L1000_2bin=np.load('/home/lee/data/1000stars_only/L1000_2.npy')\n",
    "C1000_2bin=np.load('/home/lee/data/1000stars_only/C1000_2.npy')"
   ]
  },
  {
   "cell_type": "code",
   "execution_count": 12,
   "id": "1bd77e03",
   "metadata": {},
   "outputs": [
    {
     "name": "stdout",
     "output_type": "stream",
     "text": [
      "(50, 1000, 12)\n"
     ]
    }
   ],
   "source": [
    "L2bin_1000=np.zeros((run,cluster_size1000,12))\n",
    "for i in range(run):\n",
    "    for j in range(cluster_size1000):\n",
    "        for k in range(len(t_list_cadence)):\n",
    "                L2bin_1000[i,j,k]=L1000_2bin[i,j,t_list_cadence[k]]\n",
    "                \n",
    "print(np.shape(L2bin_1000))"
   ]
  },
  {
   "cell_type": "code",
   "execution_count": 13,
   "id": "816baeda",
   "metadata": {},
   "outputs": [],
   "source": [
    "num2_4x1000=0\n",
    "num2_list4x1000=[]\n",
    "\n",
    "num2_5x1000=0\n",
    "num2_list5x1000=[]\n",
    "for i in range(run):\n",
    "    for j in range(1,12):\n",
    "        for k in range(cluster_size1000):\n",
    "            if L2bin_1000[i,k,j]-L2bin_1000[i,k,j-1]==5 or L2bin_1000[i,k,j-1]-L2bin_1000[i,k,j]==5:\n",
    "                num2_5x1000+=1\n",
    "    num2_list5x1000.append(num2_5x1000)\n",
    "    num2_5x1000=0\n",
    "for i in range(run):\n",
    "    for j in range(1,12):\n",
    "        for k in range(cluster_size1000):\n",
    "            if L2bin_1000[i,k,j]-L2bin_1000[i,k,j-1]==4 or L2bin_1000[i,k,j-1]-L2bin_1000[i,k,j]==4:\n",
    "                num2_4x1000+=1\n",
    "    num2_list4x1000.append(num2_4x1000)\n",
    "    num2_4x1000=0"
   ]
  },
  {
   "cell_type": "markdown",
   "id": "febc7c21",
   "metadata": {},
   "source": [
    "## 3 bins"
   ]
  },
  {
   "cell_type": "code",
   "execution_count": 14,
   "id": "97e29486",
   "metadata": {},
   "outputs": [],
   "source": [
    "burst1000_3bin=np.load('/home/lee/data/1000stars_only/burst1000_3.npy')\n",
    "L1000_3bin=np.load('/home/lee/data/1000stars_only/L1000_3.npy')\n",
    "C1000_3bin=np.load('/home/lee/data/1000stars_only/C1000_3.npy')"
   ]
  },
  {
   "cell_type": "code",
   "execution_count": 15,
   "id": "36cca773",
   "metadata": {},
   "outputs": [
    {
     "name": "stdout",
     "output_type": "stream",
     "text": [
      "(50, 1000, 12)\n"
     ]
    }
   ],
   "source": [
    "L3bin_1000=np.zeros((run,cluster_size1000,12))\n",
    "for i in range(run):\n",
    "    for j in range(cluster_size1000):\n",
    "        for k in range(len(t_list_cadence)):\n",
    "                L3bin_1000[i,j,k]=L1000_3bin[i,j,t_list_cadence[k]]\n",
    "                \n",
    "print(np.shape(L3bin_1000))"
   ]
  },
  {
   "cell_type": "code",
   "execution_count": 17,
   "id": "fe5417f5",
   "metadata": {},
   "outputs": [],
   "source": [
    "num3_3x1000=0\n",
    "num3_list3x1000=[]\n",
    "num3_4x1000=0\n",
    "num3_list4x1000=[]\n",
    "num3_5x1000=0\n",
    "num3_list5x1000=[]\n",
    "for i in range(run):\n",
    "    for j in range(1,12):\n",
    "        for k in range(cluster_size1000):\n",
    "            if L3bin_1000[i,k,j]-L3bin_1000[i,k,j-1]==5 or L3bin_1000[i,k,j-1]-L3bin_1000[i,k,j]==5:\n",
    "                num3_5x1000+=1\n",
    "    num3_list5x1000.append(num3_5x1000)\n",
    "    num3_5x1000=0\n",
    "for i in range(run):\n",
    "    for j in range(1,12):\n",
    "        for k in range(cluster_size1000):\n",
    "            if L3bin_1000[i,k,j]-L3bin_1000[i,k,j-1]==4 or L3bin_1000[i,k,j-1]-L3bin_1000[i,k,j]==4:\n",
    "                num3_4x1000+=1\n",
    "    num3_list4x1000.append(num3_4x1000)\n",
    "    num3_4x1000=0\n",
    "for i in range(run):\n",
    "    for j in range(1,12):\n",
    "        for k in range(cluster_size1000):\n",
    "            if L3bin_1000[i,k,j]-L3bin_1000[i,k,j-1]==3 or L3bin_1000[i,k,j-1]-L3bin_1000[i,k,j]==3:\n",
    "                num3_3x1000+=1\n",
    "    num3_list3x1000.append(num3_3x1000)\n",
    "    num3_3x1000=0"
   ]
  },
  {
   "cell_type": "markdown",
   "id": "5690bc71",
   "metadata": {},
   "source": [
    "## 4 bins"
   ]
  },
  {
   "cell_type": "code",
   "execution_count": 18,
   "id": "88762e8e",
   "metadata": {},
   "outputs": [],
   "source": [
    "burst1000_4bin=np.load('/home/lee/data/1000stars_only/burst1000_4.npy')\n",
    "L1000_4bin=np.load('/home/lee/data/1000stars_only/L1000_4.npy')\n",
    "C1000_4bin=np.load('/home/lee/data/1000stars_only/C1000_4.npy')"
   ]
  },
  {
   "cell_type": "code",
   "execution_count": 19,
   "id": "df39bf4d",
   "metadata": {},
   "outputs": [
    {
     "name": "stdout",
     "output_type": "stream",
     "text": [
      "(50, 1000, 12)\n"
     ]
    }
   ],
   "source": [
    "L4bin_1000=np.zeros((run,cluster_size1000,12))\n",
    "for i in range(run):\n",
    "    for j in range(cluster_size1000):\n",
    "        for k in range(len(t_list_cadence)):\n",
    "                L4bin_1000[i,j,k]=L1000_4bin[i,j,t_list_cadence[k]]\n",
    "                \n",
    "print(np.shape(L4bin_1000))"
   ]
  },
  {
   "cell_type": "code",
   "execution_count": 21,
   "id": "a302ef3f",
   "metadata": {},
   "outputs": [],
   "source": [
    "num4_1x1000=0\n",
    "num4_list1x1000=[]\n",
    "num4_3x1000=0\n",
    "num4_list3x1000=[]\n",
    "num4_4x1000=0\n",
    "num4_list4x1000=[]\n",
    "num4_5x1000=0\n",
    "num4_list5x1000=[]\n",
    "for i in range(run):\n",
    "    for j in range(1,12):\n",
    "        for k in range(cluster_size1000):\n",
    "            if L4bin_1000[i,k,j]-L4bin_1000[i,k,j-1]==5 or L4bin_1000[i,k,j-1]-L4bin_1000[i,k,j]==5:\n",
    "                num4_5x1000+=1\n",
    "            elif L4bin_1000[i,k,j]-L4bin_1000[i,k,j-1]==4 or L4bin_1000[i,k,j-1]-L4bin_1000[i,k,j]==4:\n",
    "                num4_4x1000+=1\n",
    "            elif L4bin_1000[i,k,j]-L4bin_1000[i,k,j-1]==3 or L4bin_1000[i,k,j-1]-L4bin_1000[i,k,j]==3:\n",
    "                num4_3x1000+=1\n",
    "            elif L4bin_1000[i,k,j]-L4bin_1000[i,k,j-1]==1.25 or L4bin_1000[i,k,j-1]-L4bin_1000[i,k,j]==1.25:\n",
    "                num4_1x1000+=1\n",
    "    num4_list1x1000.append(num4_1x1000)\n",
    "    num4_1x1000=0\n",
    "    num4_list3x1000.append(num4_3x1000)\n",
    "    num4_3x1000=0\n",
    "    num4_list4x1000.append(num4_4x1000)\n",
    "    num4_4x1000=0\n",
    "    num4_list5x1000.append(num4_5x1000)\n",
    "    num4_5x1000=0"
   ]
  },
  {
   "cell_type": "markdown",
   "id": "2a525802",
   "metadata": {},
   "source": [
    "## 5 bins"
   ]
  },
  {
   "cell_type": "code",
   "execution_count": 22,
   "id": "f751b65a",
   "metadata": {},
   "outputs": [],
   "source": [
    "burst1000_5bin=np.load('/home/lee/data/1000stars_only/burst1000_5.npy')\n",
    "L1000_5bin=np.load('/home/lee/data/1000stars_only/L1000_5.npy')\n",
    "C1000_5bin=np.load('/home/lee/data/1000stars_only/C1000_5.npy')"
   ]
  },
  {
   "cell_type": "code",
   "execution_count": 23,
   "id": "9791f415",
   "metadata": {},
   "outputs": [
    {
     "name": "stdout",
     "output_type": "stream",
     "text": [
      "(50, 1000, 12)\n"
     ]
    }
   ],
   "source": [
    "L5bin_1000=np.zeros((run,cluster_size1000,12))\n",
    "for i in range(run):\n",
    "    for j in range(cluster_size1000):\n",
    "        for k in range(len(t_list_cadence)):\n",
    "                L5bin_1000[i,j,k]=L1000_5bin[i,j,t_list_cadence[k]]\n",
    "                \n",
    "print(np.shape(L5bin_1000))"
   ]
  },
  {
   "cell_type": "code",
   "execution_count": 24,
   "id": "d18bc584",
   "metadata": {},
   "outputs": [],
   "source": [
    "num5_2x1000=0\n",
    "num5_list2x1000=[]\n",
    "num5_1x1000=0\n",
    "num5_list1x1000=[]\n",
    "num5_3x1000=0\n",
    "num5_list3x1000=[]\n",
    "num5_4x1000=0\n",
    "num5_list4x1000=[]\n",
    "num5_5x1000=0\n",
    "num5_list5x1000=[]\n",
    "for i in range(run):\n",
    "    for j in range(1,12):\n",
    "        for k in range(cluster_size1000):\n",
    "            if L5bin_1000[i,k,j]-L5bin_1000[i,k,j-1]==5 or L5bin_1000[i,k,j-1]-L5bin_1000[i,k,j]==5:\n",
    "                num5_5x1000+=1\n",
    "            elif L5bin_1000[i,k,j]-L5bin_1000[i,k,j-1]==4 or L5bin_1000[i,k,j-1]-L5bin_1000[i,k,j]==4:\n",
    "                num5_4x1000+=1\n",
    "            elif L5bin_1000[i,k,j]-L5bin_1000[i,k,j-1]==3 or L5bin_1000[i,k,j-1]-L5bin_1000[i,k,j]==3:\n",
    "                num5_3x1000+=1\n",
    "            elif L5bin_1000[i,k,j]-L5bin_1000[i,k,j-1]==1.25 or L5bin_1000[i,k,j-1]-L5bin_1000[i,k,j]==1.25:\n",
    "                num5_1x1000+=1\n",
    "            elif L5bin_1000[i,k,j]-L5bin_1000[i,k,j-1]==2 or L5bin_1000[i,k,j-1]-L5bin_1000[i,k,j]==2:\n",
    "                num5_2x1000+=1\n",
    "    num5_list2x1000.append(num5_2x1000)\n",
    "    num5_2x1000=0\n",
    "    num5_list1x1000.append(num5_1x1000)\n",
    "    num5_1x1000=0\n",
    "    num5_list3x1000.append(num5_3x1000)\n",
    "    num5_3x1000=0\n",
    "    num5_list4x1000.append(num5_4x1000)\n",
    "    num5_4x1000=0\n",
    "    num5_list5x1000.append(num5_5x1000)\n",
    "    num5_5x1000=0"
   ]
  },
  {
   "cell_type": "code",
   "execution_count": 27,
   "id": "dff04d3a",
   "metadata": {},
   "outputs": [
    {
     "data": {
      "text/plain": [
       "{'bodies': [<matplotlib.collections.PolyCollection at 0x7f9e40376610>],\n",
       " 'cmeans': <matplotlib.collections.LineCollection at 0x7f9e40376460>,\n",
       " 'cmaxes': <matplotlib.collections.LineCollection at 0x7f9e40376a90>,\n",
       " 'cmins': <matplotlib.collections.LineCollection at 0x7f9e40376d90>,\n",
       " 'cbars': <matplotlib.collections.LineCollection at 0x7f9e403830d0>}"
      ]
     },
     "execution_count": 27,
     "metadata": {},
     "output_type": "execute_result"
    },
    {
     "data": {
      "image/png": "[encoded data removed]",
      "text/plain": [
       "<Figure size 432x288 with 1 Axes>"
      ]
     },
     "metadata": {
      "needs_background": "light"
     },
     "output_type": "display_data"
    }
   ],
   "source": [
    "plt.violinplot(num1_1000list,vert=True, widths=0.5, showmeans=True, showextrema=True)\n",
    "plt.violinplot(num2_list5x1000,positions=[2],vert=True, widths=0.5, showmeans=True, showextrema=True)\n",
    "plt.violinplot(num3_list5x1000,positions=[3],vert=True, widths=0.5, showmeans=True, showextrema=True)\n",
    "plt.violinplot(num4_list5x1000,positions=[4],vert=True, widths=0.5, showmeans=True, showextrema=True)\n",
    "plt.violinplot(num5_list5x1000,positions=[5],vert=True, widths=0.5, showmeans=True, showextrema=True)"
   ]
  },
  {
   "cell_type": "code",
   "execution_count": 28,
   "id": "6bbd0bed",
   "metadata": {},
   "outputs": [],
   "source": [
    "data100_1000=[num1_1000list,num2_list5x1000,num3_list5x1000,num4_list5x1000,num5_list5x1000]\n",
    "data40_1000=[num2_list4x1000,num3_list4x1000,num4_list4x1000,num5_list4x1000]\n",
    "data16_1000=[num3_list3x1000,num4_list3x1000,num5_list3x1000]\n",
    "data3_1000=[num4_list1x1000,num5_list1x1000]\n",
    "data6_1000=[num5_list2x1000]"
   ]
  },
  {
   "cell_type": "code",
   "execution_count": 29,
   "id": "ff9ab252",
   "metadata": {},
   "outputs": [],
   "source": [
    "#make it log scale?\n",
    "data100new_1000=[]\n",
    "list100_1000=[]\n",
    "for i in range(5):\n",
    "    for j in range(50):\n",
    "        if data100_1000[i][j]!=0:\n",
    "            list100_1000.append(data100_1000[i][j])\n",
    "    data100new_1000.append(list100_1000)\n",
    "    list100_1000=[]\n",
    "    \n",
    "data40new_1000=[]\n",
    "list40_1000=[]\n",
    "for i in range(4):\n",
    "    for j in range(50):\n",
    "        if data40_1000[i][j]!=0:\n",
    "            list40_1000.append(data40_1000[i][j])\n",
    "    data40new_1000.append(list40_1000)\n",
    "    list40_1000=[]\n",
    "    \n",
    "data16new_1000=[]\n",
    "list16_1000=[]\n",
    "for i in range(3):\n",
    "    for j in range(50):\n",
    "        if data16_1000[i][j]!=0:\n",
    "            list16_1000.append(data16_1000[i][j])\n",
    "    data16new_1000.append(list16_1000)\n",
    "    list16_1000=[]\n",
    "    \n",
    "data6new_1000=[]\n",
    "list6_1000=[]\n",
    "for i in range(1):\n",
    "    for j in range(50):\n",
    "        if data6_1000[i][j]!=0:\n",
    "            list6_1000.append(data6_1000[i][j])\n",
    "    data6new_1000.append(list6_1000)\n",
    "    list6_1000=[]\n",
    "    \n",
    "data3new_1000=[]\n",
    "list3_1000=[]\n",
    "for i in range(2):\n",
    "    for j in range(50):\n",
    "        if data3_1000[i][j]!=0:\n",
    "            list3_1000.append(data3_1000[i][j])\n",
    "    data3new_1000.append(list3_1000)\n",
    "    list3_1000=[]"
   ]
  },
  {
   "cell_type": "code",
   "execution_count": 30,
   "id": "4e95212b",
   "metadata": {},
   "outputs": [
    {
     "data": {
      "image/png": "[encoded data removed]",
      "text/plain": [
       "<Figure size 576x504 with 1 Axes>"
      ]
     },
     "metadata": {
      "needs_background": "light"
     },
     "output_type": "display_data"
    }
   ],
   "source": [
    "fig,ax1=plt.subplots()\n",
    "fig.set_size_inches(8,7)\n",
    "plt.rcParams['text.usetex']='False'\n",
    "plt.rcParams['font.family']='sans serif'\n",
    "plt.rcParams['axes.labelweight']='normal'\n",
    "plt.rcParams['font.weight']='normal'\n",
    "\n",
    "#ax1\n",
    "v100=ax1.violinplot(data100new_1000,vert=True, widths=0.5, showmeans=True, showextrema=True)\n",
    "for pc in v100['bodies']:\n",
    "    pc.set_facecolor('#1f77b4')\n",
    "    pc.set_edgecolor('#1f77b4')\n",
    "    pc.set_alpha(0.3)\n",
    "for partname in ('cbars','cmins','cmaxes','cmeans',):\n",
    "    vp=v100[partname]\n",
    "    vp.set_edgecolor('#1f77b4')\n",
    "    vp.set_linewidth(2)\n",
    "\n",
    "v40=ax1.violinplot(data40new_1000,positions=[2,3,4,5],vert=True, widths=0.5, showmeans=True, showextrema=True)\n",
    "for pc in v40['bodies']:\n",
    "    pc.set_facecolor('#ff7f0e')\n",
    "    pc.set_edgecolor('#ff7f0e')\n",
    "    pc.set_alpha(0.3)\n",
    "for partname in ('cbars','cmins','cmaxes','cmeans',):\n",
    "    vp=v40[partname]\n",
    "    vp.set_edgecolor('#ff7f0e')\n",
    "    vp.set_linewidth(2)\n",
    "\n",
    "v16=ax1.violinplot(data16new_1000,positions=[3,4,5],vert=True, widths=0.5, showmeans=True, showextrema=True)\n",
    "for pc in v16['bodies']:\n",
    "    pc.set_facecolor('#2ca02c')\n",
    "    pc.set_edgecolor('#2ca02c')\n",
    "    pc.set_alpha(0.3)\n",
    "for partname in ('cbars','cmins','cmaxes','cmeans',):\n",
    "    vp=v16[partname]\n",
    "    vp.set_edgecolor('#2ca02c')\n",
    "    vp.set_linewidth(2)\n",
    "    \n",
    "v6=ax1.violinplot(data6new_1000,positions=[5],vert=True, widths=0.5, showmeans=True, showextrema=True)\n",
    "for pc in v6['bodies']:\n",
    "    pc.set_facecolor('#d62728')\n",
    "    pc.set_edgecolor('#d62728')\n",
    "    pc.set_alpha(0.3)\n",
    "for partname in ('cbars','cmins','cmaxes','cmeans',):\n",
    "    vp=v6[partname]\n",
    "    vp.set_edgecolor('#d62728')\n",
    "    vp.set_linewidth(2)\n",
    "\n",
    "v3=ax1.violinplot(data3new_1000,positions=[4,5],vert=True, widths=0.5, showmeans=True, showextrema=True)\n",
    "for pc in v3['bodies']:\n",
    "    pc.set_facecolor('#9467bd')\n",
    "    pc.set_edgecolor('#9467bd')\n",
    "    pc.set_alpha(0.3)\n",
    "for partname in ('cbars','cmins','cmaxes','cmeans',):\n",
    "    vp=v3[partname]\n",
    "    vp.set_edgecolor('#9467bd')\n",
    "    vp.set_linewidth(2)\n",
    "    \n",
    "ax1.minorticks_on()\n",
    "ax1.locator_params(axis='y',nbins=6)\n",
    "#ax1.yaxis.set_ticks_position('both')\n",
    "#ax1.tick_params(axis='both',right=True,top=True,which='both')\n",
    "ax1.tick_params(axis='both',which='major', length=10, width=1, direction='in',labelsize=15)\n",
    "ax1.tick_params(axis='both',which='minor', length=5, width=1, direction='in',labelsize=15)\n",
    "    \n",
    "ax1.scatter(1,np.mean(data100new_1000[0]),marker='_',s=300,color='#1f77b4',label='100x')\n",
    "ax1.scatter(2,np.mean(data40new_1000[0]),marker='_',s=300,color='#ff7f0e',label='40x')\n",
    "ax1.scatter(3,np.mean(data16new_1000[0]),marker='_',s=300,color='#2ca02c',label='16x')\n",
    "ax1.scatter(5,np.mean(data6new_1000[0]),marker='_',s=300,color='#d62728',label='6x')\n",
    "ax1.scatter(4,np.mean(data3new_1000[0]),marker='_',s=300,color='#9467bd',label='3x') \n",
    "plt.legend(loc='upper left',fontsize=13)\n",
    "\n",
    "ax1.set_ylabel(r'Number of stars undergoing a burst',fontsize=15)\n",
    "ax1.set_xlabel('Number of burst types',fontsize=15)\n",
    "ax1.set_title('Number of bursts for each burst type (size=1000)',fontsize=18)\n",
    "plt.yscale('log')\n",
    "\n",
    "plt.plot()\n",
    "plt.savefig('/home/lee/research/figs/observational/comp_observational1000_All_log.jpeg',dpi=300,bbox_inches='tight')"
   ]
  },
  {
   "cell_type": "code",
   "execution_count": 32,
   "id": "80f74b84",
   "metadata": {},
   "outputs": [],
   "source": [
    "data5x_new1000=[]\n",
    "for i in range(len(num5_list5x1000)):\n",
    "    if num5_list5x1000[i]!=0:\n",
    "        data5x_new1000.append(num5_list5x1000[i])\n",
    "        \n",
    "data4x_new1000=[]\n",
    "for i in range(len(num5_list4x1000)):\n",
    "    if num5_list4x1000[i]!=0:\n",
    "        data4x_new1000.append(num5_list4x1000[i])\n",
    "        \n",
    "data3x_new1000=[]\n",
    "for i in range(len(num5_list3x1000)):\n",
    "    if num5_list3x1000[i]!=0:\n",
    "        data3x_new1000.append(num5_list3x1000[i])\n",
    "        \n",
    "data1x_new1000=[]\n",
    "for i in range(len(num5_list1x1000)):\n",
    "    if num5_list1x1000[i]!=0:\n",
    "        data1x_new1000.append(num5_list1x1000[i])\n",
    "        \n",
    "data2x_new1000=[]\n",
    "for i in range(len(num5_list2x1000)):\n",
    "    if num5_list2x1000[i]!=0:\n",
    "        data2x_new1000.append(num5_list2x1000[i])"
   ]
  },
  {
   "cell_type": "code",
   "execution_count": 33,
   "id": "532ee197",
   "metadata": {},
   "outputs": [
    {
     "name": "stderr",
     "output_type": "stream",
     "text": [
      "<ipython-input-33-0e6df9595474>:66: UserWarning: FixedFormatter should only be used together with FixedLocator\n",
      "  ax1.set_xticklabels(['0','0','20','40','60','80','100'])\n"
     ]
    },
    {
     "data": {
      "image/png": "[encoded data removed]",
      "text/plain": [
       "<Figure size 648x504 with 1 Axes>"
      ]
     },
     "metadata": {
      "needs_background": "light"
     },
     "output_type": "display_data"
    }
   ],
   "source": [
    "fig,ax1=plt.subplots()\n",
    "fig.set_size_inches(9,7)\n",
    "plt.rcParams['text.usetex']='False'\n",
    "plt.rcParams['font.family']='sans serif'\n",
    "plt.rcParams['axes.labelweight']='normal'\n",
    "plt.rcParams['font.weight']='normal'\n",
    "\n",
    "#ax1\n",
    "v100=ax1.violinplot(data5x_new1000,positions=[10],vert=True, widths=0.5, showmeans=True, showextrema=True, showmedians=False)\n",
    "for pc in v100['bodies']:\n",
    "    pc.set_facecolor('#1f77b4')\n",
    "    pc.set_edgecolor('#1f77b4')\n",
    "    pc.set_alpha(0.3)\n",
    "for partname in ('cbars','cmins','cmaxes','cmeans',):\n",
    "    vp=v100[partname]\n",
    "    vp.set_edgecolor('#1f77b4')\n",
    "    vp.set_linewidth(2)\n",
    "    \n",
    "v40=ax1.violinplot(data4x_new1000,positions=[4],vert=True, widths=0.5, showmeans=True, showextrema=True, showmedians=False)\n",
    "for pc in v40['bodies']:\n",
    "    pc.set_facecolor('#ff7f0e')\n",
    "    pc.set_edgecolor('#ff7f0e')\n",
    "    pc.set_alpha(0.3)\n",
    "for partname in ('cbars','cmins','cmaxes','cmeans',):\n",
    "    vp=v40[partname]\n",
    "    vp.set_edgecolor('#ff7f0e')\n",
    "    vp.set_linewidth(2)\n",
    "    \n",
    "v16=ax1.violinplot(data3x_new1000,positions=[1.6],vert=True, widths=0.5, showmeans=True, showextrema=True, showmedians=False)\n",
    "for pc in v16['bodies']:\n",
    "    pc.set_facecolor('#2ca02c')\n",
    "    pc.set_edgecolor('#2ca02c')\n",
    "    pc.set_alpha(0.3)\n",
    "for partname in ('cbars','cmins','cmaxes','cmeans',):\n",
    "    vp=v16[partname]\n",
    "    vp.set_edgecolor('#2ca02c')\n",
    "    vp.set_linewidth(2)\n",
    "    \n",
    "v3=ax1.violinplot(data1x_new1000,positions=[0.3],vert=True, widths=0.5, showmeans=True, showextrema=True, showmedians=False)\n",
    "for pc in v3['bodies']:\n",
    "    pc.set_facecolor('#9467bd')\n",
    "    pc.set_edgecolor('#9467bd')\n",
    "    pc.set_alpha(0.3)\n",
    "for partname in ('cbars','cmins','cmaxes','cmeans',):\n",
    "    vp=v3[partname]\n",
    "    vp.set_edgecolor('#9467bd')\n",
    "    vp.set_linewidth(2)   \n",
    "    \n",
    "v6=ax1.violinplot(data2x_new1000,positions=[0.6],vert=True, widths=0.5, showmeans=True, showextrema=True)\n",
    "for pc in v6['bodies']:\n",
    "    pc.set_facecolor('#d62728')\n",
    "    pc.set_edgecolor('#d62728')\n",
    "    pc.set_alpha(0.3)\n",
    "for partname in ('cbars','cmins','cmaxes','cmeans',):\n",
    "    vp=v6[partname]\n",
    "    vp.set_edgecolor('#d62728')\n",
    "    vp.set_linewidth(2)\n",
    "\n",
    "ax1.minorticks_on()\n",
    "ax1.locator_params(axis='y',nbins=6)\n",
    "#ax1.yaxis.set_ticks_position('both')\n",
    "#ax1.tick_params(axis='both',right=True,top=True,which='both')\n",
    "ax1.tick_params(axis='both',which='major', length=10, width=1, direction='in',labelsize=15)\n",
    "ax1.tick_params(axis='both',which='minor', length=5, width=1, direction='in',labelsize=15)\n",
    "\n",
    "ax1.set_xticklabels(['0','0','20','40','60','80','100'])\n",
    "\n",
    "ax1.set_ylabel(r'Number of stars undergoing a burst',fontsize=15)\n",
    "ax1.set_xlabel('Burst Amplitude',fontsize=15)\n",
    "ax1.set_title('Number of bursts for each burst type (size=1000)',fontsize=20)\n",
    "\n",
    "#ax1.set_xlim(1,200)\n",
    "plt.yscale('log')\n",
    "#plt.xscale('log')\n",
    "\n",
    "plt.plot()\n",
    "plt.savefig('/home/lee/research/figs/observational/comp_observational1000_5bins_2week_log.jpeg',dpi=300,bbox_inches='tight')"
   ]
  },
  {
   "cell_type": "code",
   "execution_count": 1,
   "id": "7446013e",
   "metadata": {},
   "outputs": [
    {
     "ename": "NameError",
     "evalue": "name 'np' is not defined",
     "output_type": "error",
     "traceback": [
      "\u001b[0;31m---------------------------------------------------------------------------\u001b[0m",
      "\u001b[0;31mNameError\u001b[0m                                 Traceback (most recent call last)",
      "\u001b[0;32m<ipython-input-1-2369a867f35a>\u001b[0m in \u001b[0;36m<module>\u001b[0;34m\u001b[0m\n\u001b[0;32m----> 1\u001b[0;31m \u001b[0mprint\u001b[0m\u001b[0;34m(\u001b[0m\u001b[0;34m'max='\u001b[0m\u001b[0;34m,\u001b[0m\u001b[0mnp\u001b[0m\u001b[0;34m.\u001b[0m\u001b[0mmax\u001b[0m\u001b[0;34m(\u001b[0m\u001b[0mnum100_total_2000\u001b[0m\u001b[0;34m)\u001b[0m\u001b[0;34m)\u001b[0m\u001b[0;34m\u001b[0m\u001b[0;34m\u001b[0m\u001b[0m\n\u001b[0m\u001b[1;32m      2\u001b[0m \u001b[0mprint\u001b[0m\u001b[0;34m(\u001b[0m\u001b[0;34m'min='\u001b[0m\u001b[0;34m,\u001b[0m\u001b[0mnp\u001b[0m\u001b[0;34m.\u001b[0m\u001b[0mmin\u001b[0m\u001b[0;34m(\u001b[0m\u001b[0mnum100_total_2000\u001b[0m\u001b[0;34m)\u001b[0m\u001b[0;34m)\u001b[0m\u001b[0;34m\u001b[0m\u001b[0;34m\u001b[0m\u001b[0m\n\u001b[1;32m      3\u001b[0m \u001b[0mprint\u001b[0m\u001b[0;34m(\u001b[0m\u001b[0;34m'mean='\u001b[0m\u001b[0;34m,\u001b[0m\u001b[0mnp\u001b[0m\u001b[0;34m.\u001b[0m\u001b[0mmean\u001b[0m\u001b[0;34m(\u001b[0m\u001b[0mnum100_total_2000\u001b[0m\u001b[0;34m)\u001b[0m\u001b[0;34m)\u001b[0m\u001b[0;34m\u001b[0m\u001b[0;34m\u001b[0m\u001b[0m\n\u001b[1;32m      4\u001b[0m \u001b[0merror2000up\u001b[0m\u001b[0;34m=\u001b[0m\u001b[0;34m(\u001b[0m\u001b[0mnp\u001b[0m\u001b[0;34m.\u001b[0m\u001b[0mmax\u001b[0m\u001b[0;34m(\u001b[0m\u001b[0mnum100_total_2000\u001b[0m\u001b[0;34m)\u001b[0m\u001b[0;34m-\u001b[0m\u001b[0mnp\u001b[0m\u001b[0;34m.\u001b[0m\u001b[0mmean\u001b[0m\u001b[0;34m(\u001b[0m\u001b[0mnum100_total_2000\u001b[0m\u001b[0;34m)\u001b[0m\u001b[0;34m)\u001b[0m\u001b[0;34m/\u001b[0m\u001b[0;34m(\u001b[0m\u001b[0;34m(\u001b[0m\u001b[0mnp\u001b[0m\u001b[0;34m.\u001b[0m\u001b[0mmax\u001b[0m\u001b[0;34m(\u001b[0m\u001b[0mnum100_total_2000\u001b[0m\u001b[0;34m)\u001b[0m\u001b[0;34m+\u001b[0m\u001b[0mnp\u001b[0m\u001b[0;34m.\u001b[0m\u001b[0mmean\u001b[0m\u001b[0;34m(\u001b[0m\u001b[0mnum100_total_2000\u001b[0m\u001b[0;34m)\u001b[0m\u001b[0;34m)\u001b[0m\u001b[0;34m/\u001b[0m\u001b[0;36m2\u001b[0m\u001b[0;34m)\u001b[0m\u001b[0;34m\u001b[0m\u001b[0;34m\u001b[0m\u001b[0m\n\u001b[1;32m      5\u001b[0m \u001b[0merror2000down\u001b[0m\u001b[0;34m=\u001b[0m\u001b[0;34m(\u001b[0m\u001b[0mnp\u001b[0m\u001b[0;34m.\u001b[0m\u001b[0mmean\u001b[0m\u001b[0;34m(\u001b[0m\u001b[0mnum100_total_2000\u001b[0m\u001b[0;34m)\u001b[0m\u001b[0;34m-\u001b[0m\u001b[0mnp\u001b[0m\u001b[0;34m.\u001b[0m\u001b[0mmin\u001b[0m\u001b[0;34m(\u001b[0m\u001b[0mnum100_total_2000\u001b[0m\u001b[0;34m)\u001b[0m\u001b[0;34m)\u001b[0m\u001b[0;34m/\u001b[0m\u001b[0;34m(\u001b[0m\u001b[0;34m(\u001b[0m\u001b[0mnp\u001b[0m\u001b[0;34m.\u001b[0m\u001b[0mmin\u001b[0m\u001b[0;34m(\u001b[0m\u001b[0mnum100_total_2000\u001b[0m\u001b[0;34m)\u001b[0m\u001b[0;34m+\u001b[0m\u001b[0mnp\u001b[0m\u001b[0;34m.\u001b[0m\u001b[0mmean\u001b[0m\u001b[0;34m(\u001b[0m\u001b[0mnum100_total_2000\u001b[0m\u001b[0;34m)\u001b[0m\u001b[0;34m)\u001b[0m\u001b[0;34m/\u001b[0m\u001b[0;36m2\u001b[0m\u001b[0;34m)\u001b[0m\u001b[0;34m\u001b[0m\u001b[0;34m\u001b[0m\u001b[0m\n",
      "\u001b[0;31mNameError\u001b[0m: name 'np' is not defined"
     ]
    }
   ],
   "source": [
    "print('max=',np.max(num100_total_2000))\n",
    "print('min=',np.min(num100_total_2000))\n",
    "print('mean=',np.mean(num100_total_2000))\n",
    "error2000up=(np.max(num100_total_2000)-np.mean(num100_total_2000))/((np.max(num100_total_2000)+np.mean(num100_total_2000))/2)\n",
    "error2000down=(np.mean(num100_total_2000)-np.min(num100_total_2000))/((np.min(num100_total_2000)+np.mean(num100_total_2000))/2)\n",
    "print(error2000up)\n",
    "print(error2000down)\n",
    "avg2000=(error2000up+error2000down)/2\n",
    "print(avg2000*100)"
   ]
  },
  {
   "cell_type": "code",
   "execution_count": 14,
   "id": "48bbe1d3",
   "metadata": {},
   "outputs": [
    {
     "name": "stdout",
     "output_type": "stream",
     "text": [
      "max= 19.154265507588036\n",
      "min= 6.784260515603799\n",
      "mean= 12.039894292817234\n",
      "1.590899807070158\n",
      "0.4561348188437743\n",
      "0.55839253668508\n",
      "50.726367776442714\n"
     ]
    }
   ],
   "source": [
    "print('max=',np.max(num100_total_1000))\n",
    "print('min=',np.min(num100_total_1000))\n",
    "print('mean=',np.mean(num100_total_1000))\n",
    "print(np.max(num100_total_1000)/np.mean(num100_total_1000))\n",
    "error1000up=(np.max(num100_total_1000)-np.mean(num100_total_1000))/((np.max(num100_total_1000)+np.mean(num100_total_1000))/2)\n",
    "print(error1000up)\n",
    "error1000down=(np.mean(num100_total_1000)-np.min(num100_total_1000))/((np.min(num100_total_1000)+np.mean(num100_total_1000))/2)\n",
    "print(error1000down)\n",
    "avg1000=(error1000up+error1000down)/2\n",
    "print(avg1000*100)"
   ]
  },
  {
   "cell_type": "code",
   "execution_count": null,
   "id": "6d86b48e-99e9-4e17-b671-4e05eef3a9a4",
   "metadata": {},
   "outputs": [],
   "source": []
  }
 ],
 "metadata": {
  "kernelspec": {
   "display_name": "Python 3 (ipykernel)",
   "language": "python",
   "name": "python3"
  },
  "language_info": {
   "codemirror_mode": {
    "name": "ipython",
    "version": 3
   },
   "file_extension": ".py",
   "mimetype": "text/x-python",
   "name": "python",
   "nbconvert_exporter": "python",
   "pygments_lexer": "ipython3",
   "version": "3.8.10"
  }
 },
 "nbformat": 4,
 "nbformat_minor": 5
}
