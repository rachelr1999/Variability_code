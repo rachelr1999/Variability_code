{
 "cells": [
  {
   "cell_type": "code",
   "execution_count": 1,
   "id": "13c365ca-fab3-4859-a5d9-24e585ec8250",
   "metadata": {},
   "outputs": [],
   "source": [
    "import numpy as np\n",
    "import math\n",
    "import matplotlib.pyplot as plt\n",
    "import random\n",
    "import numpy as np\n",
    "from astropy.io import ascii\n",
    "from astropy.table import Table\n",
    "import csv"
   ]
  },
  {
   "cell_type": "code",
   "execution_count": 2,
   "id": "a9c929b8-9924-4017-b062-43fc76476487",
   "metadata": {},
   "outputs": [],
   "source": [
    "cadence=26\n",
    "t_list_years1=[200,205]\n",
    "t_list_cadence1=[int(i*cadence) for i in t_list_years1]\n",
    "\n",
    "t_list_years2=[200,210]\n",
    "t_list_cadence2=[int(i*cadence) for i in t_list_years2]\n",
    "\n",
    "t_list_years3=[200,215]\n",
    "t_list_cadence3=[int(i*cadence) for i in t_list_years3]\n",
    "\n",
    "t_list_years4=[200,220]\n",
    "t_list_cadence4=[int(i*cadence) for i in t_list_years4]\n",
    "\n",
    "t_list_years5=[200,225]\n",
    "t_list_cadence5=[int(i*cadence) for i in t_list_years5]\n",
    "\n",
    "t_list_years6=[200,230]\n",
    "t_list_cadence6=[int(i*cadence) for i in t_list_years6]\n",
    "\n",
    "t_list_years7=[200,250]\n",
    "t_list_cadence7=[int(i*cadence) for i in t_list_years7]\n",
    "\n",
    "t_list_years8=[200,275]\n",
    "t_list_cadence8=[int(i*cadence) for i in t_list_years8]\n",
    "\n",
    "run=50\n",
    "cluster_size=2000\n",
    "steps=7800"
   ]
  },
  {
   "cell_type": "code",
   "execution_count": 3,
   "id": "6df18561-99aa-4a25-a92c-1cdaccb946fd",
   "metadata": {},
   "outputs": [],
   "source": [
    "burst5000=np.load('/home/lee/data/cluster_size_change/100x_burst/burst5000.npy')\n",
    "L5000=np.load('/home/lee/data/cluster_size_change/100x_burst/L5000.npy')\n",
    "C5000=np.load('/home/lee/data/cluster_size_change/100x_burst/C5000.npy')"
   ]
  },
  {
   "cell_type": "markdown",
   "id": "b1f39b67-babe-41dd-ab93-ae33788b8395",
   "metadata": {},
   "source": [
    "## 5 year gap"
   ]
  },
  {
   "cell_type": "code",
   "execution_count": 4,
   "id": "d71cb436-7622-41e0-afde-6b203b5ca1aa",
   "metadata": {},
   "outputs": [],
   "source": [
    "cluster_size5000=5000\n",
    "cad_L5=np.zeros((run,cluster_size5000,2))\n",
    "for i in range(run):\n",
    "    for j in range(cluster_size5000):\n",
    "        for k in range(len(t_list_cadence1)):\n",
    "            cad_L5[i,j,k]=L5000[i,j,t_list_cadence1[k]]"
   ]
  },
  {
   "cell_type": "code",
   "execution_count": 5,
   "id": "3d72b782-1371-4b7a-bf09-8f0aca7be28b",
   "metadata": {},
   "outputs": [],
   "source": [
    "obs_burst5=np.zeros((run,cluster_size5000,2))\n",
    "for i in range(run):\n",
    "    for k in range(cluster_size5000):\n",
    "        for j in range(1,2):\n",
    "            if cad_L5[i,k,j]-cad_L5[i,k,j-1]==5:\n",
    "                obs_burst5[i,k,j-1]=1\n",
    "            elif cad_L5[i,k,j-1]-cad_L5[i,k,j]==5:\n",
    "                obs_burst5[i,k,j]=1"
   ]
  },
  {
   "cell_type": "code",
   "execution_count": 6,
   "id": "0b42b1a6-cb4b-44f3-8440-fddbb2b42683",
   "metadata": {},
   "outputs": [],
   "source": [
    "num100_5=0\n",
    "list100_5=[]\n",
    "num0_5=0\n",
    "list0_5=[]\n",
    "\n",
    "for i in range(run):\n",
    "    for k in range(cluster_size5000):\n",
    "        for j in range(0,2):\n",
    "            if obs_burst5[i,k,j]==1:\n",
    "                num100_5+=1\n",
    "            elif obs_burst5[i,k,j]==0:\n",
    "                num0_5+=1\n",
    "    list100_5.append(num100_5)\n",
    "    num100_5=0\n",
    "    list0_5.append(num0_5)\n",
    "    num0_5=0"
   ]
  },
  {
   "cell_type": "code",
   "execution_count": 7,
   "id": "66648c55-44c5-4b93-967d-8f1b5b9d98ec",
   "metadata": {},
   "outputs": [
    {
     "name": "stdout",
     "output_type": "stream",
     "text": [
      "[13, 14, 19, 13, 19, 26, 16, 12, 14, 14, 21, 14, 15, 18, 19, 15, 17, 17, 15, 15, 15, 14, 15, 21, 15, 11, 16, 13, 13, 23, 13, 15, 20, 18, 23, 21, 11, 12, 10, 14, 12, 19, 24, 18, 10, 15, 9, 14, 19, 22]\n"
     ]
    }
   ],
   "source": [
    "print(list100_5)"
   ]
  },
  {
   "cell_type": "markdown",
   "id": "4349f42f-2aed-4a2b-ace5-365fd3d72305",
   "metadata": {},
   "source": [
    "## 10 year gap"
   ]
  },
  {
   "cell_type": "code",
   "execution_count": 8,
   "id": "d9f08572-de2d-4d04-b14d-21671e31bc28",
   "metadata": {},
   "outputs": [],
   "source": [
    "cluster_size5000=5000\n",
    "cad_L10=np.zeros((run,cluster_size5000,2))\n",
    "for i in range(run):\n",
    "    for j in range(cluster_size5000):\n",
    "        for k in range(len(t_list_cadence2)):\n",
    "            cad_L10[i,j,k]=L5000[i,j,t_list_cadence2[k]]"
   ]
  },
  {
   "cell_type": "code",
   "execution_count": 9,
   "id": "1fc3d91d-1a4f-4e2e-b8c2-a451aba2c79e",
   "metadata": {},
   "outputs": [],
   "source": [
    "obs_burst10=np.zeros((run,cluster_size5000,2))\n",
    "for i in range(run):\n",
    "    for k in range(cluster_size5000):\n",
    "        for j in range(1,2):\n",
    "            if cad_L10[i,k,j]-cad_L10[i,k,j-1]==5:\n",
    "                obs_burst10[i,k,j-1]=1\n",
    "            elif cad_L10[i,k,j-1]-cad_L10[i,k,j]==5:\n",
    "                obs_burst10[i,k,j]=1"
   ]
  },
  {
   "cell_type": "code",
   "execution_count": 10,
   "id": "d8a31ed6-450e-4e7e-a475-055ac3fc5904",
   "metadata": {},
   "outputs": [],
   "source": [
    "num100_10=0\n",
    "list100_10=[]\n",
    "num0_10=0\n",
    "list0_10=[]\n",
    "\n",
    "for i in range(run):\n",
    "    for k in range(cluster_size5000):\n",
    "        for j in range(0,2):\n",
    "            if obs_burst10[i,k,j]==1:\n",
    "                num100_10+=1\n",
    "            elif obs_burst10[i,k,j]==0:\n",
    "                num0_10+=1\n",
    "    list100_10.append(num100_10)\n",
    "    num100_10=0\n",
    "    list0_10.append(num0_10)\n",
    "    num0_10=0"
   ]
  },
  {
   "cell_type": "code",
   "execution_count": 11,
   "id": "be7ca694-e5e0-4cd6-8445-d3890c655e5b",
   "metadata": {},
   "outputs": [
    {
     "name": "stdout",
     "output_type": "stream",
     "text": [
      "[27, 32, 41, 24, 38, 48, 29, 22, 29, 25, 35, 28, 35, 35, 36, 25, 30, 36, 37, 25, 28, 27, 30, 32, 29, 27, 29, 36, 24, 31, 30, 27, 36, 31, 41, 43, 29, 34, 31, 29, 29, 35, 40, 33, 18, 37, 33, 27, 36, 39]\n"
     ]
    }
   ],
   "source": [
    "print(list100_10)"
   ]
  },
  {
   "cell_type": "markdown",
   "id": "76dfddc1-0396-432f-94af-5b0884608b37",
   "metadata": {},
   "source": [
    "## 15 year gap"
   ]
  },
  {
   "cell_type": "code",
   "execution_count": 12,
   "id": "af5110df-f977-448a-9da3-99add5147c6b",
   "metadata": {},
   "outputs": [],
   "source": [
    "cluster_size5000=5000\n",
    "cad_L15=np.zeros((run,cluster_size5000,2))\n",
    "for i in range(run):\n",
    "    for j in range(cluster_size5000):\n",
    "        for k in range(len(t_list_cadence3)):\n",
    "            cad_L15[i,j,k]=L5000[i,j,t_list_cadence3[k]]"
   ]
  },
  {
   "cell_type": "code",
   "execution_count": 13,
   "id": "9a7206d6-e588-4d5c-8bb5-82ce39b52628",
   "metadata": {},
   "outputs": [],
   "source": [
    "obs_burst15=np.zeros((run,cluster_size5000,2))\n",
    "for i in range(run):\n",
    "    for k in range(cluster_size5000):\n",
    "        for j in range(1,2):\n",
    "            if cad_L15[i,k,j]-cad_L15[i,k,j-1]==5:\n",
    "                obs_burst15[i,k,j-1]=1\n",
    "            elif cad_L15[i,k,j-1]-cad_L15[i,k,j]==5:\n",
    "                obs_burst15[i,k,j]=1"
   ]
  },
  {
   "cell_type": "code",
   "execution_count": 14,
   "id": "8b6791bd-87ed-4675-a69e-2c19aafd16a4",
   "metadata": {},
   "outputs": [],
   "source": [
    "num100_15=0\n",
    "list100_15=[]\n",
    "num0_15=0\n",
    "list0_15=[]\n",
    "\n",
    "for i in range(run):\n",
    "    for k in range(cluster_size5000):\n",
    "        for j in range(0,2):\n",
    "            if obs_burst15[i,k,j]==1:\n",
    "                num100_15+=1\n",
    "            elif obs_burst15[i,k,j]==0:\n",
    "                num0_15+=1\n",
    "    list100_15.append(num100_15)\n",
    "    num100_15=0\n",
    "    list0_15.append(num0_15)\n",
    "    num0_15=0"
   ]
  },
  {
   "cell_type": "code",
   "execution_count": 15,
   "id": "45ead676-406f-4da4-9b28-cf673ca36f73",
   "metadata": {},
   "outputs": [
    {
     "name": "stdout",
     "output_type": "stream",
     "text": [
      "[44, 49, 57, 47, 59, 64, 44, 47, 41, 43, 53, 37, 45, 49, 53, 44, 45, 50, 52, 44, 44, 44, 46, 53, 44, 40, 47, 51, 40, 50, 43, 43, 52, 53, 54, 54, 43, 47, 55, 45, 42, 54, 58, 49, 32, 49, 46, 39, 51, 55]\n"
     ]
    }
   ],
   "source": [
    "print(list100_15)"
   ]
  },
  {
   "cell_type": "markdown",
   "id": "94bee0fe-4d71-4a9e-aea4-eab966e34a3c",
   "metadata": {},
   "source": [
    "## 20 year gap"
   ]
  },
  {
   "cell_type": "code",
   "execution_count": 16,
   "id": "d4883f62-2571-4028-9ffe-b88e749e96f8",
   "metadata": {},
   "outputs": [],
   "source": [
    "cluster_size5000=5000\n",
    "cad_L20=np.zeros((run,cluster_size5000,2))\n",
    "for i in range(run):\n",
    "    for j in range(cluster_size5000):\n",
    "        for k in range(len(t_list_cadence4)):\n",
    "            cad_L20[i,j,k]=L5000[i,j,t_list_cadence4[k]]"
   ]
  },
  {
   "cell_type": "code",
   "execution_count": 17,
   "id": "a4cee7b7-7b32-4c23-83a9-d9480ca07294",
   "metadata": {},
   "outputs": [],
   "source": [
    "obs_burst20=np.zeros((run,cluster_size5000,2))\n",
    "for i in range(run):\n",
    "    for k in range(cluster_size5000):\n",
    "        for j in range(1,2):\n",
    "            if cad_L20[i,k,j]-cad_L20[i,k,j-1]==5:\n",
    "                obs_burst20[i,k,j-1]=1\n",
    "            elif cad_L20[i,k,j-1]-cad_L20[i,k,j]==5:\n",
    "                obs_burst20[i,k,j]=1"
   ]
  },
  {
   "cell_type": "code",
   "execution_count": 18,
   "id": "207024df-66dc-4eb1-920a-dc78e4d0bfe3",
   "metadata": {},
   "outputs": [],
   "source": [
    "num100_20=0\n",
    "list100_20=[]\n",
    "num0_20=0\n",
    "list0_20=[]\n",
    "\n",
    "for i in range(run):\n",
    "    for k in range(cluster_size5000):\n",
    "        for j in range(0,2):\n",
    "            if obs_burst20[i,k,j]==1:\n",
    "                num100_20+=1\n",
    "            elif obs_burst20[i,k,j]==0:\n",
    "                num0_20+=1\n",
    "    list100_20.append(num100_20)\n",
    "    num100_20=0\n",
    "    list0_20.append(num0_20)\n",
    "    num0_20=0"
   ]
  },
  {
   "cell_type": "code",
   "execution_count": 19,
   "id": "f9b3412a-bbe1-4a1e-a3d6-3ab9883ba256",
   "metadata": {},
   "outputs": [
    {
     "name": "stdout",
     "output_type": "stream",
     "text": [
      "[62, 69, 76, 61, 78, 77, 55, 64, 60, 57, 67, 44, 56, 63, 66, 67, 58, 64, 61, 58, 56, 56, 65, 74, 60, 52, 66, 67, 57, 63, 56, 54, 76, 68, 75, 70, 59, 61, 70, 65, 59, 71, 72, 60, 45, 62, 60, 57, 69, 70]\n"
     ]
    }
   ],
   "source": [
    "print(list100_20)"
   ]
  },
  {
   "cell_type": "markdown",
   "id": "39cdcc69-3ae1-4c50-a509-508d58b589d8",
   "metadata": {},
   "source": [
    "## 25 year gap"
   ]
  },
  {
   "cell_type": "code",
   "execution_count": 22,
   "id": "5e0d9abf-475e-47c6-92f1-e3dc185da071",
   "metadata": {},
   "outputs": [],
   "source": [
    "cluster_size5000=5000\n",
    "cad_L25=np.zeros((run,cluster_size5000,2))\n",
    "for i in range(run):\n",
    "    for j in range(cluster_size5000):\n",
    "        for k in range(len(t_list_cadence5)):\n",
    "            cad_L25[i,j,k]=L5000[i,j,t_list_cadence5[k]]"
   ]
  },
  {
   "cell_type": "code",
   "execution_count": 23,
   "id": "821fe6e6-09ac-42c4-9db3-25459d51c480",
   "metadata": {},
   "outputs": [],
   "source": [
    "obs_burst25=np.zeros((run,cluster_size5000,2))\n",
    "for i in range(run):\n",
    "    for k in range(cluster_size5000):\n",
    "        for j in range(1,2):\n",
    "            if cad_L25[i,k,j]-cad_L25[i,k,j-1]==5:\n",
    "                obs_burst25[i,k,j-1]=1\n",
    "            elif cad_L25[i,k,j-1]-cad_L25[i,k,j]==5:\n",
    "                obs_burst25[i,k,j]=1"
   ]
  },
  {
   "cell_type": "code",
   "execution_count": 24,
   "id": "af7f5f17-d3ad-4a2d-98f2-a5a05382fbc7",
   "metadata": {},
   "outputs": [],
   "source": [
    "num100_25=0\n",
    "list100_25=[]\n",
    "num0_25=0\n",
    "list0_25=[]\n",
    "\n",
    "for i in range(run):\n",
    "    for k in range(cluster_size5000):\n",
    "        for j in range(0,2):\n",
    "            if obs_burst25[i,k,j]==1:\n",
    "                num100_25+=1\n",
    "            elif obs_burst25[i,k,j]==0:\n",
    "                num0_25+=1\n",
    "    list100_25.append(num100_25)\n",
    "    num100_25=0\n",
    "    list0_25.append(num0_25)\n",
    "    num0_25=0"
   ]
  },
  {
   "cell_type": "code",
   "execution_count": 25,
   "id": "e1a151b3-f6f6-4fb4-913d-811cdeef3316",
   "metadata": {},
   "outputs": [
    {
     "name": "stdout",
     "output_type": "stream",
     "text": [
      "[76, 83, 88, 79, 90, 93, 75, 79, 74, 65, 84, 53, 72, 76, 86, 75, 70, 84, 74, 67, 77, 62, 80, 96, 71, 70, 92, 82, 84, 80, 66, 70, 90, 80, 96, 91, 70, 72, 86, 79, 75, 89, 85, 83, 60, 76, 71, 70, 90, 82]\n"
     ]
    }
   ],
   "source": [
    "print(list100_25)"
   ]
  },
  {
   "cell_type": "markdown",
   "id": "498c446e-fb6a-4ee6-8fe2-f57c093ec0c8",
   "metadata": {},
   "source": [
    "## 30 year gap"
   ]
  },
  {
   "cell_type": "code",
   "execution_count": 26,
   "id": "2324ed70-1a7e-42b9-89f9-d6dde73bb5e8",
   "metadata": {},
   "outputs": [],
   "source": [
    "cluster_size5000=5000\n",
    "cad_L30=np.zeros((run,cluster_size5000,2))\n",
    "for i in range(run):\n",
    "    for j in range(cluster_size5000):\n",
    "        for k in range(len(t_list_cadence6)):\n",
    "            cad_L30[i,j,k]=L5000[i,j,t_list_cadence6[k]]"
   ]
  },
  {
   "cell_type": "code",
   "execution_count": 27,
   "id": "70256719-b88d-424b-849c-17f43d3e3a90",
   "metadata": {},
   "outputs": [],
   "source": [
    "obs_burst30=np.zeros((run,cluster_size5000,2))\n",
    "for i in range(run):\n",
    "    for k in range(cluster_size5000):\n",
    "        for j in range(1,2):\n",
    "            if cad_L30[i,k,j]-cad_L30[i,k,j-1]==5:\n",
    "                obs_burst30[i,k,j-1]=1\n",
    "            elif cad_L30[i,k,j-1]-cad_L30[i,k,j]==5:\n",
    "                obs_burst30[i,k,j]=1"
   ]
  },
  {
   "cell_type": "code",
   "execution_count": 28,
   "id": "d0524e0a-3797-481c-bac4-ed056d38bb3e",
   "metadata": {},
   "outputs": [],
   "source": [
    "num100_30=0\n",
    "list100_30=[]\n",
    "num0_30=0\n",
    "list0_30=[]\n",
    "\n",
    "for i in range(run):\n",
    "    for k in range(cluster_size5000):\n",
    "        for j in range(0,2):\n",
    "            if obs_burst30[i,k,j]==1:\n",
    "                num100_30+=1\n",
    "            elif obs_burst30[i,k,j]==0:\n",
    "                num0_30+=1\n",
    "    list100_30.append(num100_30)\n",
    "    num100_30=0\n",
    "    list0_30.append(num0_30)\n",
    "    num0_30=0"
   ]
  },
  {
   "cell_type": "code",
   "execution_count": 29,
   "id": "1e85aef6-b130-401e-b5b3-4ca2de326504",
   "metadata": {},
   "outputs": [
    {
     "name": "stdout",
     "output_type": "stream",
     "text": [
      "[93, 98, 96, 99, 103, 102, 90, 95, 87, 83, 96, 65, 88, 92, 102, 91, 80, 99, 92, 85, 90, 71, 96, 108, 87, 90, 114, 102, 104, 96, 84, 86, 110, 99, 116, 112, 79, 94, 103, 90, 93, 103, 96, 93, 78, 92, 87, 87, 102, 97]\n"
     ]
    }
   ],
   "source": [
    "print(list100_30)"
   ]
  },
  {
   "cell_type": "markdown",
   "id": "13d52de0-6694-423e-a4df-e9920fbe5ae9",
   "metadata": {},
   "source": [
    "## 50 year gap"
   ]
  },
  {
   "cell_type": "code",
   "execution_count": 30,
   "id": "4cc240c7-0126-4b77-9d27-ffd773d0c82f",
   "metadata": {},
   "outputs": [],
   "source": [
    "cluster_size5000=5000\n",
    "cad_L50=np.zeros((run,cluster_size5000,2))\n",
    "for i in range(run):\n",
    "    for j in range(cluster_size5000):\n",
    "        for k in range(len(t_list_cadence7)):\n",
    "            cad_L50[i,j,k]=L5000[i,j,t_list_cadence7[k]]"
   ]
  },
  {
   "cell_type": "code",
   "execution_count": 31,
   "id": "f9f04dbb-93ac-4aeb-af2b-391d15b3f61c",
   "metadata": {},
   "outputs": [],
   "source": [
    "obs_burst50=np.zeros((run,cluster_size5000,2))\n",
    "for i in range(run):\n",
    "    for k in range(cluster_size5000):\n",
    "        for j in range(1,2):\n",
    "            if cad_L50[i,k,j]-cad_L50[i,k,j-1]==5:\n",
    "                obs_burst50[i,k,j-1]=1\n",
    "            elif cad_L50[i,k,j-1]-cad_L50[i,k,j]==5:\n",
    "                obs_burst50[i,k,j]=1"
   ]
  },
  {
   "cell_type": "code",
   "execution_count": 32,
   "id": "12aadff7-f2f7-4f64-99a6-0245374963ad",
   "metadata": {},
   "outputs": [],
   "source": [
    "num100_50=0\n",
    "list100_50=[]\n",
    "num0_50=0\n",
    "list0_50=[]\n",
    "\n",
    "for i in range(run):\n",
    "    for k in range(cluster_size5000):\n",
    "        for j in range(0,2):\n",
    "            if obs_burst50[i,k,j]==1:\n",
    "                num100_50+=1\n",
    "            elif obs_burst50[i,k,j]==0:\n",
    "                num0_50+=1\n",
    "    list100_50.append(num100_50)\n",
    "    num100_50=0\n",
    "    list0_50.append(num0_50)\n",
    "    num0_50=0"
   ]
  },
  {
   "cell_type": "code",
   "execution_count": 33,
   "id": "eacf2f8a-c3f8-47db-a5ad-66561e69bc4a",
   "metadata": {},
   "outputs": [
    {
     "name": "stdout",
     "output_type": "stream",
     "text": [
      "[102, 77, 87, 103, 103, 94, 92, 94, 81, 83, 95, 74, 85, 91, 98, 94, 75, 103, 93, 88, 109, 78, 89, 108, 92, 89, 109, 95, 98, 99, 90, 82, 95, 88, 114, 117, 80, 92, 97, 85, 93, 103, 87, 103, 89, 91, 93, 88, 94, 83]\n"
     ]
    }
   ],
   "source": [
    "print(list100_50)"
   ]
  },
  {
   "cell_type": "markdown",
   "id": "f9251313-437d-4ae0-863a-187a53f01a65",
   "metadata": {},
   "source": [
    "## 75 year gap"
   ]
  },
  {
   "cell_type": "code",
   "execution_count": 34,
   "id": "2ebb3b13-5cac-456e-b976-5f24659fb74a",
   "metadata": {},
   "outputs": [],
   "source": [
    "cluster_size5000=5000\n",
    "cad_L75=np.zeros((run,cluster_size5000,2))\n",
    "for i in range(run):\n",
    "    for j in range(cluster_size5000):\n",
    "        for k in range(len(t_list_cadence8)):\n",
    "            cad_L75[i,j,k]=L5000[i,j,t_list_cadence8[k]]"
   ]
  },
  {
   "cell_type": "code",
   "execution_count": 35,
   "id": "8cffbb52-e6b3-448c-9eb9-e223e605cecb",
   "metadata": {},
   "outputs": [],
   "source": [
    "obs_burst75=np.zeros((run,cluster_size5000,2))\n",
    "for i in range(run):\n",
    "    for k in range(cluster_size5000):\n",
    "        for j in range(1,2):\n",
    "            if cad_L75[i,k,j]-cad_L75[i,k,j-1]==5:\n",
    "                obs_burst75[i,k,j-1]=1\n",
    "            elif cad_L75[i,k,j-1]-cad_L75[i,k,j]==5:\n",
    "                obs_burst75[i,k,j]=1"
   ]
  },
  {
   "cell_type": "code",
   "execution_count": 36,
   "id": "b44c6e42-bf5b-4478-9439-6067b96e8ee8",
   "metadata": {},
   "outputs": [],
   "source": [
    "num100_75=0\n",
    "list100_75=[]\n",
    "num0_75=0\n",
    "list0_75=[]\n",
    "\n",
    "for i in range(run):\n",
    "    for k in range(cluster_size5000):\n",
    "        for j in range(0,2):\n",
    "            if obs_burst75[i,k,j]==1:\n",
    "                num100_75+=1\n",
    "            elif obs_burst75[i,k,j]==0:\n",
    "                num0_75+=1\n",
    "    list100_75.append(num100_75)\n",
    "    num100_75=0\n",
    "    list0_75.append(num0_75)\n",
    "    num0_75=0"
   ]
  },
  {
   "cell_type": "code",
   "execution_count": 37,
   "id": "5bf583be-9992-4396-9a37-62aeb6f98c06",
   "metadata": {},
   "outputs": [
    {
     "name": "stdout",
     "output_type": "stream",
     "text": [
      "[96, 91, 97, 99, 103, 90, 98, 91, 79, 102, 92, 79, 92, 90, 81, 89, 84, 96, 98, 96, 109, 72, 98, 97, 91, 90, 94, 88, 73, 116, 88, 85, 100, 98, 104, 106, 86, 97, 108, 91, 86, 107, 96, 102, 76, 92, 89, 88, 95, 89]\n"
     ]
    }
   ],
   "source": [
    "print(list100_75)"
   ]
  },
  {
   "cell_type": "markdown",
   "id": "cd58665a-fe2d-4f70-91dc-350632f5e91e",
   "metadata": {},
   "source": [
    "## plot it"
   ]
  },
  {
   "cell_type": "code",
   "execution_count": 39,
   "id": "7a948912-a851-4b1e-9437-d791065287b6",
   "metadata": {},
   "outputs": [
    {
     "name": "stderr",
     "output_type": "stream",
     "text": [
      "/tmp/ipykernel_121661/3214278073.py:18: UserWarning: FixedFormatter should only be used together with FixedLocator\n",
      "  ax1.set_xticklabels(['0','5','10','15','20','25','30','35','40','45','50','55','60','65','70','75'])\n"
     ]
    },
    {
     "data": {
      "image/png": "[encoded data removed]",
      "text/plain": [
       "<Figure size 1000x700 with 1 Axes>"
      ]
     },
     "metadata": {},
     "output_type": "display_data"
    }
   ],
   "source": [
    "fig,ax1=plt.subplots()\n",
    "fig.set_size_inches(10,7)\n",
    "plt.rcParams['text.usetex']='False'\n",
    "plt.rcParams['font.family']='sans serif'\n",
    "plt.rcParams['axes.labelweight']='normal'\n",
    "plt.rcParams['font.weight']='normal'\n",
    "\n",
    "\n",
    "v5=ax1.violinplot(list100_5,positions=[1],vert=True, widths=0.5, showmeans=True, showextrema=True)    \n",
    "v10=ax1.violinplot(list100_10,positions=[2],vert=True, widths=0.5, showmeans=True, showextrema=True)\n",
    "v15=ax1.violinplot(list100_15,positions=[3],vert=True, widths=0.5, showmeans=True, showextrema=True) \n",
    "v20=ax1.violinplot(list100_20,positions=[4],vert=True, widths=0.5, showmeans=True, showextrema=True)\n",
    "v25=ax1.violinplot(list100_25,positions=[5],vert=True, widths=0.5, showmeans=True, showextrema=True)\n",
    "v30=ax1.violinplot(list100_30,positions=[6],vert=True, widths=0.5, showmeans=True, showextrema=True)\n",
    "v50=ax1.violinplot(list100_50,positions=[10],vert=True, widths=0.5, showmeans=True, showextrema=True)\n",
    "v75=ax1.violinplot(list100_75,positions=[15],vert=True, widths=0.5, showmeans=True, showextrema=True)\n",
    "    \n",
    "ax1.set_xticklabels(['0','5','10','15','20','25','30','35','40','45','50','55','60','65','70','75'])\n",
    "ax1.set_ylabel('Number of Bursts',fontsize=14)\n",
    "ax1.set_xlabel('Observation Gap (yrs)',fontsize=14)\n",
    "\n",
    "ax1.text(14,6,'size=5000',size=12)\n",
    "\n",
    "ax1.locator_params(axis='x',nbins=16)\n",
    "#ax1.text(1,np.max(frac0_5000)+1,string0,ha='center')\n",
    "#ax1.text(2,np.max(frac100_5000)+1,string100,ha='center')\n",
    "plt.title('Number of bursts detected in a 2 observation observing program',fontsize=16)\n",
    "plt.show()    "
   ]
  },
  {
   "cell_type": "markdown",
   "id": "55659843-4079-48ad-ac95-66c24bdb1744",
   "metadata": {},
   "source": [
    "## make it a fraction"
   ]
  },
  {
   "cell_type": "code",
   "execution_count": 43,
   "id": "8ffea570-f2d3-4420-a928-3a46f0e27f5b",
   "metadata": {},
   "outputs": [],
   "source": [
    "frac5=[]\n",
    "frac10=[]\n",
    "frac15=[]\n",
    "frac20=[]\n",
    "frac25=[]\n",
    "frac30=[]\n",
    "frac50=[]\n",
    "frac75=[]\n",
    "for i in range(len(list100_5)):\n",
    "    frac5.append(list100_5[i]/5000)\n",
    "    frac10.append(list100_10[i]/5000)\n",
    "    frac15.append(list100_15[i]/5000)\n",
    "    frac20.append(list100_20[i]/5000)\n",
    "    frac25.append(list100_25[i]/5000)\n",
    "    frac30.append(list100_30[i]/5000)\n",
    "    frac50.append(list100_50[i]/5000)\n",
    "    frac75.append(list100_75[i]/5000)"
   ]
  },
  {
   "cell_type": "code",
   "execution_count": 50,
   "id": "361051fa-55cb-4455-8f28-c156b1a65eca",
   "metadata": {},
   "outputs": [
    {
     "name": "stderr",
     "output_type": "stream",
     "text": [
      "/tmp/ipykernel_121661/3112503425.py:18: UserWarning: FixedFormatter should only be used together with FixedLocator\n",
      "  ax1.set_xticklabels(['0','5','10','15','20','25','30','35','40','45','50','55','60','65','70','75'])\n"
     ]
    },
    {
     "data": {
      "image/png": "[encoded data removed]",
      "text/plain": [
       "<Figure size 1000x700 with 1 Axes>"
      ]
     },
     "metadata": {},
     "output_type": "display_data"
    }
   ],
   "source": [
    "fig,ax1=plt.subplots()\n",
    "fig.set_size_inches(10,7)\n",
    "plt.rcParams['text.usetex']='False'\n",
    "plt.rcParams['font.family']='sans serif'\n",
    "plt.rcParams['axes.labelweight']='normal'\n",
    "plt.rcParams['font.weight']='normal'\n",
    "\n",
    "\n",
    "v5=ax1.violinplot(frac5,positions=[1],vert=True, widths=0.5, showmeans=True, showextrema=True)    \n",
    "v10=ax1.violinplot(frac10,positions=[2],vert=True, widths=0.5, showmeans=True, showextrema=True)\n",
    "v15=ax1.violinplot(frac15,positions=[3],vert=True, widths=0.5, showmeans=True, showextrema=True) \n",
    "v20=ax1.violinplot(frac20,positions=[4],vert=True, widths=0.5, showmeans=True, showextrema=True)\n",
    "v25=ax1.violinplot(frac25,positions=[5],vert=True, widths=0.5, showmeans=True, showextrema=True)\n",
    "v30=ax1.violinplot(frac30,positions=[6],vert=True, widths=0.5, showmeans=True, showextrema=True)\n",
    "v50=ax1.violinplot(frac50,positions=[10],vert=True, widths=0.5, showmeans=True, showextrema=True)\n",
    "v75=ax1.violinplot(frac75,positions=[15],vert=True, widths=0.5, showmeans=True, showextrema=True)\n",
    "    \n",
    "ax1.set_xticklabels(['0','5','10','15','20','25','30','35','40','45','50','55','60','65','70','75'])\n",
    "ax1.set_ylabel('Fraction Stars with a Burst',fontsize=14)\n",
    "ax1.set_xlabel('Observation Gap (yrs)',fontsize=14)\n",
    "\n",
    "ax1.text(14,0.001,'size=5000',size=12)\n",
    "\n",
    "ax1.locator_params(axis='x',nbins=16)\n",
    "#ax1.text(1,np.max(frac0_5000)+1,string0,ha='center')\n",
    "#ax1.text(2,np.max(frac100_5000)+1,string100,ha='center')\n",
    "plt.title('Fraction of stars with detected burst in a 2 observation program',fontsize=16)\n",
    "plt.show()    "
   ]
  },
  {
   "cell_type": "code",
   "execution_count": null,
   "id": "7cd982b2-9ab2-4541-bdd5-339417338fb9",
   "metadata": {},
   "outputs": [],
   "source": []
  }
 ],
 "metadata": {
  "kernelspec": {
   "display_name": "Python 3 (ipykernel)",
   "language": "python",
   "name": "python3"
  },
  "language_info": {
   "codemirror_mode": {
    "name": "ipython",
    "version": 3
   },
   "file_extension": ".py",
   "mimetype": "text/x-python",
   "name": "python",
   "nbconvert_exporter": "python",
   "pygments_lexer": "ipython3",
   "version": "3.8.10"
  }
 },
 "nbformat": 4,
 "nbformat_minor": 5
}
