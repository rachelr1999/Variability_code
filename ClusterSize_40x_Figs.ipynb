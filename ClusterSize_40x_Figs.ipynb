{
 "cells": [
  {
   "cell_type": "code",
   "execution_count": 1,
   "id": "f779a49c",
   "metadata": {},
   "outputs": [],
   "source": [
    "import numpy as np\n",
    "import math\n",
    "import matplotlib.pyplot as plt\n",
    "import random\n",
    "import numpy as np\n",
    "from astropy.io import ascii\n",
    "from astropy.table import Table\n",
    "import csv\n",
    "\n",
    "run=50\n",
    "t=300\n",
    "cadence=26\n",
    "t_list_years=[200,220,220.5,221,221.5,222,222.5,223,223.5,224,224.5,225]\n",
    "t_list_cadence=[int(i*cadence) for i in t_list_years]"
   ]
  },
  {
   "cell_type": "markdown",
   "id": "42f9f7d6",
   "metadata": {},
   "source": [
    "## Number of bursts happening at any given time\n",
    "This is the number of bursts that are physically happening at any given time during the simulation, specifically \n",
    "the times at which we want to observe"
   ]
  },
  {
   "cell_type": "code",
   "execution_count": 2,
   "id": "57c3e062",
   "metadata": {},
   "outputs": [],
   "source": [
    "values50table_2week=ascii.read('/Users/rachellee/Downloads/data/cluster_size_change/40x_burst/values50_40x')\n",
    "burst_total50_2week=values50table_2week['burst_total'] \n",
    "burst_fraction50_2week=values50table_2week['burst_number'] \n",
    "\n",
    "values100table_2week=ascii.read('/Users/rachellee/Downloads/data/cluster_size_change/40x_burst/values100_40x')\n",
    "burst_total100_2week=values100table_2week['burst_total'] \n",
    "burst_fraction100_2week=values100table_2week['burst_number'] \n",
    "\n",
    "values500table_2week=ascii.read('/Users/rachellee/Downloads/data/cluster_size_change/40x_burst/values500_40x')\n",
    "burst_total500_2week=values500table_2week['burst_total'] \n",
    "burst_fraction500_2week=values500table_2week['burst_number'] \n",
    "\n",
    "values1000table_2week=ascii.read('/Users/rachellee/Downloads/data/cluster_size_change/40x_burst/values1000_40x')\n",
    "burst_total1000_2week=values1000table_2week['burst_total'] \n",
    "burst_fraction1000_2week=values1000table_2week['burst_number'] \n",
    "\n",
    "values2000table_2week=ascii.read('/Users/rachellee/Downloads/data/cluster_size_change/40x_burst/values2000_40x')\n",
    "burst_total2000_2week=values2000table_2week['burst_total'] \n",
    "burst_fraction2000_2week=values2000table_2week['burst_number'] \n",
    "\n",
    "values5000table_2week=ascii.read('/Users/rachellee/Downloads/data/cluster_size_change/40x_burst/values5000_40x')\n",
    "burst_total5000_2week=values5000table_2week['burst_total'] \n",
    "burst_fraction5000_2week=values5000table_2week['burst_number'] "
   ]
  },
  {
   "cell_type": "code",
   "execution_count": 3,
   "id": "3e1d8331",
   "metadata": {},
   "outputs": [
    {
     "name": "stdout",
     "output_type": "stream",
     "text": [
      "[111, 119, 124, 126, 138, 136, 134, 133, 133, 129, 122, 116, 128, 132, 126, 132, 130, 116, 109, 111, 111, 94, 89, 98, 117, 127, 137, 137, 123, 128, 136, 142, 142, 139, 146, 137, 115, 109, 113, 116, 116, 121, 131, 128, 127, 139, 136, 130, 121, 142, 131, 122, 123, 125, 124, 114, 117, 126, 136, 133, 128, 125, 122, 120, 122, 119, 120, 110, 116, 122, 127, 131, 127, 119, 107, 110, 117, 120, 123, 120, 131, 139, 143, 135, 124, 99, 113, 107, 111, 121, 113, 104, 114, 124, 125, 119, 123, 109, 121, 114, 117, 128, 132, 141, 135, 141, 141, 119, 121, 128, 137, 135, 132, 133, 130, 127, 121, 110, 111, 108, 107, 112, 112, 110, 117, 122, 124, 120, 128, 136, 127, 124, 124, 121, 129, 122, 132, 129, 138, 130, 122, 116, 109, 111, 108, 119, 119, 126, 125, 132, 132, 117, 114, 110, 110, 110, 122, 101, 102, 102, 103, 122, 123, 136, 146, 137, 143, 131, 118, 123, 123, 119, 116, 130, 131, 129, 129, 133, 127, 126, 136, 111, 118, 128, 124, 119, 124, 131, 122, 115, 107, 111, 115, 142, 140, 138, 129, 126, 132, 135, 131, 136, 137, 129, 121, 125, 122, 121, 117, 132, 132, 126, 121, 117, 113, 106, 114, 113, 111, 118, 124, 113, 119, 124, 120, 114, 106, 109, 114, 142, 149, 133, 126, 112, 112, 113, 106, 120, 118, 124, 125, 136, 125, 136, 127, 120, 114, 109, 111, 112, 117, 114, 143, 105, 106, 111, 105, 100, 102, 113, 112, 111, 119, 118, 115, 114, 111, 108, 116, 112, 113, 109, 124, 137, 137, 144, 118, 117, 119, 126, 126, 121, 120, 128, 130, 131, 128, 135, 112, 132, 137, 141, 142, 134, 117, 118, 121, 115, 109, 118, 126, 125, 134, 134, 141, 151, 143, 140, 137, 133, 122, 111, 122, 123, 127, 127, 125, 125, 128, 130, 131, 136, 136, 137, 111, 119, 122, 117, 117, 126, 124, 133, 126, 120, 117, 107, 125, 118, 122, 128, 140, 150, 145, 142, 143, 134, 124, 109, 136, 119, 122, 116, 118, 118, 107, 109, 106, 116, 112, 119, 128, 130, 131, 133, 140, 139, 146, 143, 138, 129, 123, 120, 119, 116, 126, 130, 114, 119, 119, 110, 112, 107, 110, 103, 136, 108, 114, 117, 117, 113, 121, 119, 124, 131, 126, 132, 127, 125, 124, 128, 129, 123, 135, 123, 118, 123, 123, 122, 133, 132, 122, 133, 138, 141, 138, 134, 137, 122, 111, 107, 104, 123, 124, 123, 116, 111, 115, 103, 102, 111, 106, 115, 123, 122, 112, 110, 115, 121, 129, 127, 135, 131, 129, 119, 113, 129, 138, 129, 116, 113, 112, 118, 118, 126, 127, 128, 128, 114, 110, 109, 106, 103, 106, 121, 124, 121, 128, 126, 125, 138, 133, 134, 135, 126, 126, 127, 139, 140, 126, 130, 103, 112, 124, 112, 112, 128, 131, 130, 134, 143, 147, 135, 110, 109, 110, 121, 114, 118, 119, 130, 127, 131, 139, 129, 129, 128, 122, 119, 104, 92, 99, 98, 106, 106, 123, 131, 139, 110, 119, 115, 122, 111, 109, 108, 106, 114, 111, 121, 116, 123, 114, 105, 108, 109, 115, 112, 124, 123, 129, 131, 111, 126, 132, 131, 133, 128, 132, 132, 126, 127, 122, 121, 119, 102, 106, 110, 105, 118, 118, 119, 116, 114, 118, 124, 134, 126, 119, 118, 115, 109, 110, 112, 117, 118, 121, 126, 141, 115, 119, 125, 123, 121, 120, 125, 129, 127, 130, 130, 109, 109, 111, 111, 120, 126, 126, 120, 118, 122, 122, 119]\n"
     ]
    }
   ],
   "source": [
    "cadence_num_bursts50_2week=[]\n",
    "for i in range(run):\n",
    "    for j in t_list_cadence:\n",
    "        cadence_num_bursts50_2week.append(burst_fraction50_2week[i][j])\n",
    "        \n",
    "cadence_num_bursts100_2week=[]\n",
    "for i in range(run):\n",
    "    for j in t_list_cadence:\n",
    "        cadence_num_bursts100_2week.append(burst_fraction100_2week[i][j])\n",
    "        \n",
    "cadence_num_bursts500_2week=[]\n",
    "for i in range(run):\n",
    "    for j in t_list_cadence:\n",
    "        cadence_num_bursts500_2week.append(burst_fraction500_2week[i][j])\n",
    "        \n",
    "cadence_num_bursts1000_2week=[]\n",
    "for i in range(run):\n",
    "    for j in t_list_cadence:\n",
    "        cadence_num_bursts1000_2week.append(burst_fraction1000_2week[i][j])\n",
    "        \n",
    "cadence_num_bursts2000_2week=[]\n",
    "for i in range(run):\n",
    "    for j in t_list_cadence:\n",
    "        cadence_num_bursts2000_2week.append(burst_fraction2000_2week[i][j])\n",
    "\n",
    "cadence_num_bursts5000_2week=[]\n",
    "for i in range(run):\n",
    "    for j in t_list_cadence:\n",
    "        cadence_num_bursts5000_2week.append(burst_fraction5000_2week[i][j])\n",
    "\n",
    "print(cadence_num_bursts5000_2week)"
   ]
  },
  {
   "cell_type": "code",
   "execution_count": 4,
   "id": "6ac2c941",
   "metadata": {},
   "outputs": [
    {
     "data": {
      "image/png": "[encoded data removed]",
      "text/plain": [
       "<Figure size 648x576 with 1 Axes>"
      ]
     },
     "metadata": {
      "needs_background": "light"
     },
     "output_type": "display_data"
    }
   ],
   "source": [
    "data_num_2week=[cadence_num_bursts50_2week,cadence_num_bursts100_2week,cadence_num_bursts500_2week,\\\n",
    "                cadence_num_bursts1000_2week,cadence_num_bursts2000_2week,cadence_num_bursts5000_2week]\n",
    "\n",
    "labels=[50,100,500,1000,2000,5000]\n",
    "fig,ax=plt.subplots()\n",
    "fig.set_size_inches(9,8)\n",
    "plt.rcParams['text.usetex']='False'\n",
    "plt.rcParams['font.family']='sans serif'\n",
    "plt.rcParams['axes.labelweight']='normal'\n",
    "plt.rcParams['font.weight']='normal'\n",
    "ax.violinplot(data_num_2week,vert=True, widths=0.5, showmeans=True, showextrema=True, showmedians=False)\n",
    "plt.xticks([1,2,3,4,5,6,],['50','100','500','1000','2000','5000'])\n",
    "ax.set_xlabel('Number of Stars in Cluster',fontsize=13)\n",
    "ax.set_ylabel('Number of Bursts',fontsize=13)\n",
    "ax.set_title('Number of 40x Burst for Different Cluster Sizes (Any Time)',fontsize=15)\n",
    "plt.plot()\n",
    "plt.savefig('/Users/rachellee/Desktop/research/figs/SizeChange/violinplots/number/40x_burst/violin_plot_50run_40x_normal.jpeg',dpi=300,bbox_inches='tight')"
   ]
  },
  {
   "cell_type": "markdown",
   "id": "178452be",
   "metadata": {},
   "source": [
    "## Number of bursts that are happening during an entire observing program\n",
    "This is the number of bursts physically happening during our observing program, taking only the data from the dates\n",
    "in which we would like to observe the cluster "
   ]
  },
  {
   "cell_type": "markdown",
   "id": "2d66540b",
   "metadata": {},
   "source": [
    "## 50 stars"
   ]
  },
  {
   "cell_type": "code",
   "execution_count": 5,
   "id": "755dda77",
   "metadata": {},
   "outputs": [],
   "source": [
    "burst50=np.load('/Users/rachellee/Downloads/data/cluster_size_change/40x_burst/burst50_40x.npy')\n",
    "L50=np.load('/Users/rachellee/Downloads/data/cluster_size_change/40x_burst/L50_40x.npy')\n",
    "C50=np.load('/Users/rachellee/Downloads/data/cluster_size_change/40x_burst/C50_40x.npy')"
   ]
  },
  {
   "cell_type": "code",
   "execution_count": 6,
   "id": "addd34b9",
   "metadata": {},
   "outputs": [],
   "source": [
    "cluster_size50=50\n",
    "cad_C50=np.zeros((run,cluster_size50,12))\n",
    "for i in range(run):\n",
    "    for j in range(cluster_size50):\n",
    "        for k in range(len(t_list_cadence)):\n",
    "                cad_C50[i,j,k]=C50[i,j,t_list_cadence[k]]"
   ]
  },
  {
   "cell_type": "code",
   "execution_count": 7,
   "id": "69845d08",
   "metadata": {},
   "outputs": [
    {
     "name": "stdout",
     "output_type": "stream",
     "text": [
      "(50, 50, 12)\n"
     ]
    }
   ],
   "source": [
    "print(np.shape(cad_C50))"
   ]
  },
  {
   "cell_type": "code",
   "execution_count": 22,
   "id": "a1fe7389",
   "metadata": {},
   "outputs": [],
   "source": [
    "num50=0\n",
    "num50_list=[]\n",
    "for i in range(run):\n",
    "    for j in range(0,12):\n",
    "        for k in range(cluster_size50):\n",
    "            if cad_C50[i,k,j]==40 and cad_C50[i,k,j]!=cad_C50[i,k,j-1]:\n",
    "                num50+=1\n",
    "    num50_list.append(num50)\n",
    "    num50=0"
   ]
  },
  {
   "cell_type": "code",
   "execution_count": 23,
   "id": "6d7e29a8",
   "metadata": {},
   "outputs": [
    {
     "name": "stdout",
     "output_type": "stream",
     "text": [
      "[7, 5, 2, 7, 7, 6, 7, 4, 3, 5, 3, 6, 9, 5, 0, 2, 7, 7, 5, 5, 6, 2, 3, 2, 1, 5, 6, 3, 2, 6, 0, 5, 9, 5, 9, 3, 6, 4, 6, 4, 1, 3, 9, 5, 6, 6, 4, 6, 5, 5]\n"
     ]
    }
   ],
   "source": [
    "print(num50_list)"
   ]
  },
  {
   "cell_type": "markdown",
   "id": "5dbad7d7",
   "metadata": {},
   "source": [
    "## 100 stars"
   ]
  },
  {
   "cell_type": "code",
   "execution_count": 10,
   "id": "84ac642b",
   "metadata": {},
   "outputs": [],
   "source": [
    "burst100=np.load('/Users/rachellee/Downloads/data/cluster_size_change/40x_burst/burst100_40x.npy')\n",
    "L100=np.load('/Users/rachellee/Downloads/data/cluster_size_change/40x_burst/L100_40x.npy')\n",
    "C100=np.load('/Users/rachellee/Downloads/data/cluster_size_change/40x_burst/C100_40x.npy')"
   ]
  },
  {
   "cell_type": "code",
   "execution_count": 11,
   "id": "f4ef8221",
   "metadata": {},
   "outputs": [],
   "source": [
    "cluster_size100=100\n",
    "cad_C100=np.zeros((run,cluster_size100,12))\n",
    "for i in range(run):\n",
    "    for j in range(cluster_size100):\n",
    "        for k in range(len(t_list_cadence)):\n",
    "                cad_C100[i,j,k]=C100[i,j,t_list_cadence[k]]"
   ]
  },
  {
   "cell_type": "code",
   "execution_count": 24,
   "id": "42b622b7",
   "metadata": {},
   "outputs": [],
   "source": [
    "num100=0\n",
    "num100_list=[]\n",
    "for i in range(run):\n",
    "    for j in range(0,12):\n",
    "        for k in range(cluster_size100):\n",
    "            if cad_C100[i,k,j]==40 and cad_C100[i,k,j]!=cad_C100[i,k,j-1]:\n",
    "                num100+=1\n",
    "    num100_list.append(num100)\n",
    "    num100=0"
   ]
  },
  {
   "cell_type": "code",
   "execution_count": 25,
   "id": "79afda41",
   "metadata": {},
   "outputs": [
    {
     "name": "stdout",
     "output_type": "stream",
     "text": [
      "[7, 8, 13, 11, 9, 5, 4, 6, 10, 16, 7, 11, 10, 6, 9, 15, 7, 15, 12, 10, 6, 8, 10, 8, 10, 13, 13, 12, 9, 11, 11, 11, 12, 9, 12, 4, 9, 11, 8, 6, 12, 8, 10, 10, 10, 14, 10, 12, 9, 5]\n"
     ]
    }
   ],
   "source": [
    "print(num100_list)"
   ]
  },
  {
   "cell_type": "markdown",
   "id": "310a0f95",
   "metadata": {},
   "source": [
    "## 500 stars"
   ]
  },
  {
   "cell_type": "code",
   "execution_count": 14,
   "id": "0575581c",
   "metadata": {},
   "outputs": [],
   "source": [
    "burst500=np.load('/Users/rachellee/Downloads/data/cluster_size_change/40x_burst/burst500_40x.npy')\n",
    "L500=np.load('/Users/rachellee/Downloads/data/cluster_size_change/40x_burst/L500_40x.npy')\n",
    "C500=np.load('/Users/rachellee/Downloads/data/cluster_size_change/40x_burst/C500_40x.npy')"
   ]
  },
  {
   "cell_type": "code",
   "execution_count": 47,
   "id": "dda194e0",
   "metadata": {},
   "outputs": [],
   "source": [
    "cluster_size500=500\n",
    "cad_C500=np.zeros((run,cluster_size500,12))\n",
    "for i in range(run):\n",
    "    for j in range(cluster_size500):\n",
    "        for k in range(len(t_list_cadence)):\n",
    "                cad_C500[i,j,k]=C500[i,j,t_list_cadence[k]]"
   ]
  },
  {
   "cell_type": "code",
   "execution_count": 48,
   "id": "b055a2bf",
   "metadata": {},
   "outputs": [],
   "source": [
    "num500=0\n",
    "num500_list=[]\n",
    "for i in range(run):\n",
    "    for j in range(0,12):\n",
    "        for k in range(cluster_size500):\n",
    "            if cad_C500[i,k,j]==40 and cad_C500[i,k,j]!=cad_C500[i,k,j-1]:\n",
    "                num500+=1\n",
    "    num500_list.append(num500)\n",
    "    num500=0"
   ]
  },
  {
   "cell_type": "code",
   "execution_count": 49,
   "id": "551cfae7",
   "metadata": {},
   "outputs": [
    {
     "name": "stdout",
     "output_type": "stream",
     "text": [
      "[45, 48, 36, 38, 43, 36, 37, 42, 51, 38, 43, 40, 41, 46, 44, 49, 44, 37, 34, 41, 54, 33, 43, 55, 37, 52, 40, 43, 39, 47, 37, 50, 56, 39, 46, 39, 57, 39, 44, 43, 46, 38, 37, 44, 39, 37, 36, 38, 52, 36]\n"
     ]
    }
   ],
   "source": [
    "print(num500_list)"
   ]
  },
  {
   "cell_type": "markdown",
   "id": "3b21ce57",
   "metadata": {},
   "source": [
    "## 1000 stars"
   ]
  },
  {
   "cell_type": "code",
   "execution_count": 18,
   "id": "ea9a4ee5",
   "metadata": {},
   "outputs": [],
   "source": [
    "burst1000=np.load('/Users/rachellee/Downloads/data/cluster_size_change/40x_burst/burst1000_40x.npy')\n",
    "L1000=np.load('/Users/rachellee/Downloads/data/cluster_size_change/40x_burst/L1000_40x.npy')\n",
    "C1000=np.load('/Users/rachellee/Downloads/data/cluster_size_change/40x_burst/C1000_40x.npy')"
   ]
  },
  {
   "cell_type": "code",
   "execution_count": 19,
   "id": "092f100f",
   "metadata": {},
   "outputs": [],
   "source": [
    "cluster_size1000=1000\n",
    "cad_C1000=np.zeros((run,cluster_size1000,12))\n",
    "for i in range(run):\n",
    "    for j in range(cluster_size1000):\n",
    "        for k in range(len(t_list_cadence)):\n",
    "                cad_C1000[i,j,k]=C1000[i,j,t_list_cadence[k]]"
   ]
  },
  {
   "cell_type": "code",
   "execution_count": 26,
   "id": "2b8c1b5c",
   "metadata": {},
   "outputs": [],
   "source": [
    "num1000=0\n",
    "num1000_list=[]\n",
    "for i in range(run):\n",
    "    for j in range(0,12):\n",
    "        for k in range(cluster_size1000):\n",
    "            if cad_C1000[i,k,j]==40 and cad_C1000[i,k,j]!=cad_C1000[i,k,j-1]:\n",
    "                num1000+=1\n",
    "    num1000_list.append(num1000)\n",
    "    num1000=0"
   ]
  },
  {
   "cell_type": "code",
   "execution_count": 27,
   "id": "cb3a5e8c",
   "metadata": {},
   "outputs": [
    {
     "name": "stdout",
     "output_type": "stream",
     "text": [
      "[82, 72, 89, 72, 83, 84, 91, 96, 90, 91, 89, 77, 97, 86, 103, 96, 92, 83, 86, 98, 96, 87, 89, 67, 87, 73, 80, 79, 92, 82, 88, 92, 94, 94, 89, 86, 76, 91, 95, 75, 88, 96, 98, 87, 92, 83, 105, 91, 88, 85]\n"
     ]
    }
   ],
   "source": [
    "print(num1000_list)"
   ]
  },
  {
   "cell_type": "markdown",
   "id": "4b0c2972",
   "metadata": {},
   "source": [
    "## 2000 stars"
   ]
  },
  {
   "cell_type": "code",
   "execution_count": 38,
   "id": "1964e72e",
   "metadata": {},
   "outputs": [],
   "source": [
    "burst2000=np.load('/Users/rachellee/Downloads/data/cluster_size_change/40x_burst/burst2000_40x.npy')\n",
    "L2000=np.load('/Users/rachellee/Downloads/data/cluster_size_change/40x_burst/L2000_40x.npy')\n",
    "C2000=np.load('/Users/rachellee/Downloads/data/cluster_size_change/40x_burst/C2000_40x.npy')"
   ]
  },
  {
   "cell_type": "code",
   "execution_count": 39,
   "id": "2a033d34",
   "metadata": {},
   "outputs": [],
   "source": [
    "cluster_size2000=2000\n",
    "cad_C2000=np.zeros((run,cluster_size2000,12))\n",
    "for i in range(run):\n",
    "    for j in range(cluster_size2000):\n",
    "        for k in range(len(t_list_cadence)):\n",
    "                cad_C2000[i,j,k]=C2000[i,j,t_list_cadence[k]]"
   ]
  },
  {
   "cell_type": "code",
   "execution_count": 40,
   "id": "617922f5",
   "metadata": {},
   "outputs": [],
   "source": [
    "num2000=0\n",
    "num2000_list=[]\n",
    "for i in range(run):\n",
    "    for j in range(0,12):\n",
    "        for k in range(cluster_size2000):\n",
    "            if cad_C2000[i,k,j]==40 and cad_C2000[i,k,j]!=cad_C2000[i,k,j-1]:\n",
    "                num2000+=1\n",
    "    num2000_list.append(num2000)\n",
    "    num2000=0"
   ]
  },
  {
   "cell_type": "code",
   "execution_count": 41,
   "id": "f881a59f",
   "metadata": {},
   "outputs": [
    {
     "name": "stdout",
     "output_type": "stream",
     "text": [
      "[172, 176, 181, 179, 169, 169, 175, 168, 171, 179, 179, 206, 155, 162, 184, 169, 153, 173, 175, 170, 170, 200, 165, 171, 187, 195, 164, 179, 187, 167, 176, 180, 177, 167, 167, 159, 185, 193, 159, 152, 193, 182, 155, 200, 176, 183, 168, 184, 193, 189]\n"
     ]
    }
   ],
   "source": [
    "print(num2000_list)"
   ]
  },
  {
   "cell_type": "markdown",
   "id": "9f8819a0",
   "metadata": {},
   "source": [
    "## 5000 stars"
   ]
  },
  {
   "cell_type": "code",
   "execution_count": 30,
   "id": "24f63e9f",
   "metadata": {},
   "outputs": [],
   "source": [
    "burst5000=np.load('/Users/rachellee/Downloads/data/cluster_size_change/40x_burst/burst5000_40x.npy')\n",
    "L5000=np.load('/Users/rachellee/Downloads/data/cluster_size_change/40x_burst/L5000_40x.npy')\n",
    "C5000=np.load('/Users/rachellee/Downloads/data/cluster_size_change/40x_burst/C5000_40x.npy')"
   ]
  },
  {
   "cell_type": "code",
   "execution_count": 31,
   "id": "b37e716f",
   "metadata": {},
   "outputs": [],
   "source": [
    "cluster_size5000=5000\n",
    "cad_C5000=np.zeros((run,cluster_size5000,12))\n",
    "for i in range(run):\n",
    "    for j in range(cluster_size5000):\n",
    "        for k in range(len(t_list_cadence)):\n",
    "                cad_C5000[i,j,k]=C5000[i,j,t_list_cadence[k]]"
   ]
  },
  {
   "cell_type": "code",
   "execution_count": 32,
   "id": "44ca743d",
   "metadata": {},
   "outputs": [],
   "source": [
    "num5000=0\n",
    "num5000_list=[]\n",
    "for i in range(run):\n",
    "    for j in range(0,12):\n",
    "        for k in range(cluster_size5000):\n",
    "            if cad_C5000[i,k,j]==40 and cad_C5000[i,k,j]!=cad_C5000[i,k,j-1]:\n",
    "                num5000+=1\n",
    "    num5000_list.append(num5000)\n",
    "    num5000=0"
   ]
  },
  {
   "cell_type": "code",
   "execution_count": 33,
   "id": "b8d8ccb6",
   "metadata": {},
   "outputs": [
    {
     "name": "stdout",
     "output_type": "stream",
     "text": [
      "[437, 434, 467, 436, 460, 451, 453, 414, 442, 439, 414, 438, 420, 431, 453, 441, 462, 433, 411, 443, 435, 431, 435, 446, 439, 453, 456, 427, 454, 439, 465, 400, 443, 447, 460, 407, 442, 444, 430, 471, 439, 429, 432, 435, 439, 438, 413, 447, 458, 411]\n"
     ]
    }
   ],
   "source": [
    "print(num5000_list)"
   ]
  },
  {
   "cell_type": "markdown",
   "id": "e7cf5e20",
   "metadata": {},
   "source": [
    "## log scale"
   ]
  },
  {
   "cell_type": "code",
   "execution_count": 50,
   "id": "e8b52286",
   "metadata": {},
   "outputs": [],
   "source": [
    "num_new50=[]\n",
    "num_new100=[]\n",
    "num_new500=[]\n",
    "num_new1000=[]\n",
    "num_new2000=[]\n",
    "num_new5000=[]\n",
    "for i in range(len(num50_list)):\n",
    "    if num50_list[i]!=0:\n",
    "        num_new50.append(num50_list[i])\n",
    "        \n",
    "for i in range(len(num100_list)):\n",
    "    if num100_list[i]!=0:\n",
    "        num_new100.append(num100_list[i])\n",
    "        \n",
    "for i in range(len(num500_list)):\n",
    "    if num500_list[i]!=0:\n",
    "        num_new500.append(num500_list[i])\n",
    "        \n",
    "for i in range(len(num1000_list)):\n",
    "    if num1000_list[i]!=0:\n",
    "        num_new1000.append(num1000_list[i])\n",
    "        \n",
    "for i in range(len(num2000_list)):\n",
    "    if num2000_list[i]!=0:\n",
    "        num_new2000.append(num2000_list[i])\n",
    "        \n",
    "for i in range(len(num5000_list)):\n",
    "    if num5000_list[i]!=0:\n",
    "        num_new5000.append(num5000_list[i])"
   ]
  },
  {
   "cell_type": "code",
   "execution_count": 51,
   "id": "6c760283",
   "metadata": {},
   "outputs": [
    {
     "name": "stdout",
     "output_type": "stream",
     "text": [
      "[[7, 5, 2, 7, 7, 6, 7, 4, 3, 5, 3, 6, 9, 5, 2, 7, 7, 5, 5, 6, 2, 3, 2, 1, 5, 6, 3, 2, 6, 5, 9, 5, 9, 3, 6, 4, 6, 4, 1, 3, 9, 5, 6, 6, 4, 6, 5, 5], [7, 8, 13, 11, 9, 5, 4, 6, 10, 16, 7, 11, 10, 6, 9, 15, 7, 15, 12, 10, 6, 8, 10, 8, 10, 13, 13, 12, 9, 11, 11, 11, 12, 9, 12, 4, 9, 11, 8, 6, 12, 8, 10, 10, 10, 14, 10, 12, 9, 5], [45, 48, 36, 38, 43, 36, 37, 42, 51, 38, 43, 40, 41, 46, 44, 49, 44, 37, 34, 41, 54, 33, 43, 55, 37, 52, 40, 43, 39, 47, 37, 50, 56, 39, 46, 39, 57, 39, 44, 43, 46, 38, 37, 44, 39, 37, 36, 38, 52, 36], [82, 72, 89, 72, 83, 84, 91, 96, 90, 91, 89, 77, 97, 86, 103, 96, 92, 83, 86, 98, 96, 87, 89, 67, 87, 73, 80, 79, 92, 82, 88, 92, 94, 94, 89, 86, 76, 91, 95, 75, 88, 96, 98, 87, 92, 83, 105, 91, 88, 85], [172, 176, 181, 179, 169, 169, 175, 168, 171, 179, 179, 206, 155, 162, 184, 169, 153, 173, 175, 170, 170, 200, 165, 171, 187, 195, 164, 179, 187, 167, 176, 180, 177, 167, 167, 159, 185, 193, 159, 152, 193, 182, 155, 200, 176, 183, 168, 184, 193, 189], [437, 434, 467, 436, 460, 451, 453, 414, 442, 439, 414, 438, 420, 431, 453, 441, 462, 433, 411, 443, 435, 431, 435, 446, 439, 453, 456, 427, 454, 439, 465, 400, 443, 447, 460, 407, 442, 444, 430, 471, 439, 429, 432, 435, 439, 438, 413, 447, 458, 411]]\n"
     ]
    }
   ],
   "source": [
    "data_num=[num_new50,num_new100,num_new500,num_new1000,num_new2000,num_new5000]\n",
    "print(data_num)"
   ]
  },
  {
   "cell_type": "code",
   "execution_count": 52,
   "id": "b47a1f77",
   "metadata": {},
   "outputs": [
    {
     "data": {
      "image/png": "[encoded data removed]",
      "text/plain": [
       "<Figure size 648x576 with 1 Axes>"
      ]
     },
     "metadata": {
      "needs_background": "light"
     },
     "output_type": "display_data"
    }
   ],
   "source": [
    "labels=[50,100,500,1000,2000,5000]\n",
    "fig,ax=plt.subplots()\n",
    "fig.set_size_inches(9,8)\n",
    "plt.rcParams['text.usetex']='False'\n",
    "plt.rcParams['font.family']='sans serif'\n",
    "plt.rcParams['axes.labelweight']='normal'\n",
    "plt.rcParams['font.weight']='normal'\n",
    "ax.violinplot(data_num,vert=True, widths=0.5, showmeans=True, showextrema=True, showmedians=False)\n",
    "plt.xticks([1,2,3,4,5,6,],['50','100','500','1000','2000','5000'])\n",
    "ax.set_xlabel('Number of Stars in Cluster',fontsize=13)\n",
    "ax.set_ylabel('Number of Bursts',fontsize=13)\n",
    "ax.set_title('Number of 40x Bursts for Different Cluster Sizes (Entire Observing Program)',fontsize=14)\n",
    "plt.plot()\n",
    "plt.savefig('/Users/rachellee/Desktop/research/figs/SizeChange/violinplots/number/40x_burst/observing_run_40x.jpeg',dpi=300,bbox_inches='tight')"
   ]
  },
  {
   "cell_type": "code",
   "execution_count": null,
   "id": "f45952b6",
   "metadata": {},
   "outputs": [],
   "source": []
  }
 ],
 "metadata": {
  "kernelspec": {
   "display_name": "Python 3 (ipykernel)",
   "language": "python",
   "name": "python3"
  },
  "language_info": {
   "codemirror_mode": {
    "name": "ipython",
    "version": 3
   },
   "file_extension": ".py",
   "mimetype": "text/x-python",
   "name": "python",
   "nbconvert_exporter": "python",
   "pygments_lexer": "ipython3",
   "version": "3.8.10"
  }
 },
 "nbformat": 4,
 "nbformat_minor": 5
}
