{
 "cells": [
  {
   "cell_type": "code",
   "execution_count": 2,
   "id": "2c5f9453-f18a-4663-98e2-89a9f469d70b",
   "metadata": {},
   "outputs": [
    {
     "name": "stdout",
     "output_type": "stream",
     "text": [
      "[5200, 5720, 5733, 5746, 5759, 5772, 5785, 5798, 5811, 5824, 5837, 5850]\n"
     ]
    }
   ],
   "source": [
    "import numpy as np\n",
    "import math\n",
    "import matplotlib.pyplot as plt\n",
    "import random\n",
    "import numpy as np\n",
    "from astropy.io import ascii\n",
    "from astropy.table import Table\n",
    "import csv\n",
    "\n",
    "run=50\n",
    "t=300\n",
    "cadence=26\n",
    "t_list_years=[200,220,220.5,221,221.5,222,222.5,223,223.5,224,224.5,225]\n",
    "t_list_cadence=[int(i*cadence) for i in t_list_years]\n",
    "\n",
    "print(t_list_cadence)"
   ]
  },
  {
   "cell_type": "markdown",
   "id": "893776cd-32ce-440c-ad30-cc2706623195",
   "metadata": {},
   "source": [
    "# Observational capabilities"
   ]
  },
  {
   "cell_type": "markdown",
   "id": "3ec5fd16-791f-47d4-b87b-3c337c11c060",
   "metadata": {},
   "source": [
    "## Number of bursts at any given time\n",
    "\n",
    "This is the number of bursts that we can physical detect based on observations"
   ]
  },
  {
   "cell_type": "markdown",
   "id": "2796a444-b651-4d9e-8cae-4ec09db281fe",
   "metadata": {},
   "source": [
    "## 50 stars"
   ]
  },
  {
   "cell_type": "code",
   "execution_count": 6,
   "id": "7dd30456-07af-4817-8812-1c5a6809546e",
   "metadata": {
    "scrolled": true
   },
   "outputs": [],
   "source": [
    "L50=np.load('/home/lee/data/cluster_size_change/100x_burst/L50.npy')\n",
    "\n",
    "cluster_size50=50\n",
    "cad_L50=np.zeros((run,cluster_size50,12))\n",
    "for i in range(run):\n",
    "    for j in range(cluster_size50):\n",
    "        for k in range(len(t_list_cadence)):\n",
    "            cad_L50[i,j,k]=L50[i,j,t_list_cadence[k]]\n",
    "\n",
    "obs_burst50=np.zeros((run,cluster_size50,12))\n",
    "for i in range(run):\n",
    "    for k in range(cluster_size50):\n",
    "        for j in range(1,12):\n",
    "            if cad_L50[i,k,j]-cad_L50[i,k,j-1]==5:\n",
    "                obs_burst50[i,k,j-30:j]=100\n",
    "            elif cad_L50[i,k,j-1]-cad_L50[i,k,j]==5:\n",
    "                obs_burst50[i,k,j:j+30]=100\n",
    "\n",
    "num100_50=0\n",
    "list100_50=[]\n",
    "for i in range(run):\n",
    "    for j in range(1,12):\n",
    "        for k in range(cluster_size50):\n",
    "            if obs_burst50[i,k,j]==100:\n",
    "                num100_50+=1\n",
    "        list100_50.append(num100_50)\n",
    "        num100_50=0"
   ]
  },
  {
   "cell_type": "code",
   "execution_count": 7,
   "id": "5fd34126-3019-4b86-9653-d1f9233816ab",
   "metadata": {},
   "outputs": [
    {
     "name": "stdout",
     "output_type": "stream",
     "text": [
      "[0.46538061 0.46538061 0.46538061 0.46538061 0.46538061 0.46538061\n",
      " 0.46538061 0.46538061 0.46538061 0.46538061 0.46538061 0.46538061]\n",
      "[ 0.14212968 -4.85787032 -4.85787032 -4.85787032 -4.85787032 -4.85787032\n",
      " -4.85787032 -4.85787032 -4.85787032 -4.85787032 -4.85787032 -4.85787032]\n"
     ]
    }
   ],
   "source": [
    "print(cad_L50[0,19])\n",
    "print(cad_L50[0,22])"
   ]
  },
  {
   "cell_type": "code",
   "execution_count": 8,
   "id": "72bdf7ab-f1d5-417e-992a-2e8e5620ff38",
   "metadata": {},
   "outputs": [
    {
     "name": "stdout",
     "output_type": "stream",
     "text": [
      "[2, 2, 2, 2, 2, 2, 2, 2, 2, 2, 2, 0, 0, 0, 0, 0, 0, 0, 0, 0, 0, 0, 1, 1, 1, 1, 1, 1, 1, 1, 1, 1, 1, 0, 0, 0, 0, 0, 0, 0, 0, 0, 0, 0, 1, 1, 1, 1, 1, 1, 1, 1, 1, 1, 1, 0, 0, 0, 0, 0, 0, 0, 0, 0, 0, 0, 0, 0, 0, 0, 0, 0, 0, 0, 0, 0, 0, 1, 1, 1, 1, 1, 1, 1, 1, 1, 1, 1, 2, 2, 2, 2, 2, 2, 2, 2, 2, 2, 2, 2, 2, 2, 2, 2, 2, 2, 2, 2, 2, 2, 0, 0, 0, 0, 0, 0, 0, 0, 0, 0, 0, 0, 1, 1, 1, 1, 2, 2, 2, 2, 2, 3, 0, 0, 0, 0, 0, 0, 0, 0, 0, 0, 0, 0, 0, 0, 0, 0, 0, 0, 0, 0, 0, 0, 0, 0, 0, 0, 0, 0, 0, 0, 1, 1, 1, 0, 0, 0, 0, 0, 0, 0, 0, 0, 0, 0, 2, 2, 2, 2, 2, 2, 2, 2, 2, 2, 2, 0, 0, 0, 0, 0, 0, 0, 0, 0, 0, 0, 0, 0, 0, 0, 0, 0, 0, 0, 0, 0, 0, 0, 0, 0, 0, 0, 0, 0, 0, 0, 0, 0, 0, 0, 0, 0, 0, 0, 0, 0, 0, 0, 0, 0, 0, 0, 0, 0, 0, 0, 0, 0, 0, 0, 0, 0, 0, 0, 0, 0, 0, 0, 0, 0, 0, 0, 0, 0, 0, 0, 0, 0, 0, 0, 0, 0, 0, 0, 0, 0, 0, 0, 0, 0, 0, 0, 0, 1, 1, 1, 1, 1, 1, 1, 1, 1, 1, 1, 0, 0, 0, 0, 0, 0, 0, 0, 0, 0, 0, 1, 1, 1, 1, 1, 1, 0, 0, 0, 0, 0, 0, 0, 0, 0, 0, 0, 0, 0, 0, 0, 0, 1, 1, 1, 1, 1, 1, 1, 1, 1, 1, 1, 0, 0, 0, 0, 0, 0, 0, 0, 0, 0, 0, 0, 0, 0, 0, 0, 0, 0, 0, 0, 0, 1, 1, 1, 1, 1, 1, 1, 1, 0, 0, 0, 0, 0, 0, 0, 0, 0, 0, 0, 0, 0, 0, 0, 0, 0, 0, 0, 0, 0, 0, 0, 0, 0, 0, 0, 0, 0, 0, 0, 0, 0, 0, 0, 0, 0, 2, 2, 2, 2, 2, 2, 2, 2, 2, 2, 2, 0, 0, 0, 0, 0, 0, 0, 0, 0, 0, 0, 0, 0, 0, 0, 0, 0, 0, 0, 0, 0, 0, 1, 1, 1, 1, 0, 0, 0, 0, 0, 0, 0, 0, 0, 0, 0, 0, 0, 0, 0, 0, 0, 0, 0, 0, 0, 0, 0, 0, 0, 0, 0, 0, 0, 0, 0, 0, 0, 0, 0, 0, 0, 0, 0, 0, 0, 0, 0, 0, 0, 0, 0, 0, 0, 0, 0, 0, 0, 0, 0, 0, 0, 0, 0, 0, 0, 0, 0, 0, 0, 0, 0, 0, 0, 0, 0, 0, 0, 0, 0, 0, 0, 0, 0, 0, 0, 0, 0, 0, 0, 0, 0, 0, 0, 0, 0, 0, 0, 0, 0, 0, 0, 0, 0, 0, 0, 0, 0, 0, 0, 0, 2, 2, 2, 2, 2, 2, 2, 2, 2, 2, 1]\n"
     ]
    }
   ],
   "source": [
    "print(list100_50)"
   ]
  },
  {
   "cell_type": "markdown",
   "id": "5c2b5eb5-e009-4a2a-9e91-4520ae04c0c2",
   "metadata": {},
   "source": [
    "## 100 stars"
   ]
  },
  {
   "cell_type": "code",
   "execution_count": 9,
   "id": "b284f5b9-a513-4294-984c-748001ea88bd",
   "metadata": {},
   "outputs": [],
   "source": [
    "L100=np.load('/home/lee/data/cluster_size_change/100x_burst/L100.npy')\n",
    "\n",
    "cluster_size100=100\n",
    "cad_L100=np.zeros((run,cluster_size100,12))\n",
    "for i in range(run):\n",
    "    for j in range(cluster_size100):\n",
    "        for k in range(len(t_list_cadence)):\n",
    "            cad_L100[i,j,k]=L100[i,j,t_list_cadence[k]]\n",
    "\n",
    "obs_burst100=np.zeros((run,cluster_size100,12))\n",
    "for i in range(run):\n",
    "    for k in range(cluster_size100):\n",
    "        for j in range(1,12):\n",
    "            if cad_L100[i,k,j]-cad_L100[i,k,j-1]==5:\n",
    "                obs_burst100[i,k,j-30:j]=100\n",
    "            elif cad_L100[i,k,j-1]-cad_L100[i,k,j]==5:\n",
    "                obs_burst100[i,k,j:j+30]=100\n",
    "\n",
    "num100_100=0\n",
    "list100_100=[]\n",
    "for i in range(run):\n",
    "    for j in range(1,12):\n",
    "        for k in range(cluster_size100):\n",
    "            if obs_burst100[i,k,j]==100:\n",
    "                num100_100+=1\n",
    "        list100_100.append(num100_100)\n",
    "        num100_100=0"
   ]
  },
  {
   "cell_type": "markdown",
   "id": "ef6f928e-5e6e-49e9-8e32-aa233079c169",
   "metadata": {},
   "source": [
    "## 500 stars"
   ]
  },
  {
   "cell_type": "code",
   "execution_count": 10,
   "id": "66f33e20-0ad6-468e-bea2-8358e75d5703",
   "metadata": {},
   "outputs": [],
   "source": [
    "L500=np.load('/home/lee/data/cluster_size_change/100x_burst/L500.npy')\n",
    "\n",
    "cluster_size500=500\n",
    "cad_L500=np.zeros((run,cluster_size500,12))\n",
    "for i in range(run):\n",
    "    for j in range(cluster_size500):\n",
    "        for k in range(len(t_list_cadence)):\n",
    "            cad_L500[i,j,k]=L500[i,j,t_list_cadence[k]]\n",
    "\n",
    "\n",
    "obs_burst500=np.zeros((run,cluster_size500,12))\n",
    "for i in range(run):\n",
    "    for k in range(cluster_size500):\n",
    "        for j in range(1,12):\n",
    "            if cad_L500[i,k,j]-cad_L500[i,k,j-1]==5:\n",
    "                obs_burst500[i,k,j-30:j]=100\n",
    "            elif cad_L500[i,k,j-1]-cad_L500[i,k,j]==5:\n",
    "                obs_burst500[i,k,j:j+30]=100\n",
    "\n",
    "num100_500=0\n",
    "list100_500=[]\n",
    "for i in range(run):\n",
    "    for j in range(1,12):\n",
    "        for k in range(cluster_size500):\n",
    "            if obs_burst500[i,k,j]==100:\n",
    "                num100_500+=1\n",
    "        list100_500.append(num100_500)\n",
    "        num100_500=0"
   ]
  },
  {
   "cell_type": "markdown",
   "id": "d28e7489-d43d-4cba-933b-65348680fb69",
   "metadata": {},
   "source": [
    "## 1000 stars"
   ]
  },
  {
   "cell_type": "code",
   "execution_count": 11,
   "id": "60487a3c-2d96-40f9-b68b-fe7511ae9b4c",
   "metadata": {},
   "outputs": [],
   "source": [
    "L1000=np.load('/home/lee/data/cluster_size_change/100x_burst/L1000.npy')\n",
    "\n",
    "cluster_size1000=1000\n",
    "cad_L1000=np.zeros((run,cluster_size1000,12))\n",
    "for i in range(run):\n",
    "    for j in range(cluster_size1000):\n",
    "        for k in range(len(t_list_cadence)):\n",
    "            cad_L1000[i,j,k]=L1000[i,j,t_list_cadence[k]]\n",
    "\n",
    "obs_burst1000=np.zeros((run,cluster_size1000,12))\n",
    "for i in range(run):\n",
    "    for k in range(cluster_size1000):\n",
    "        for j in range(1,12):\n",
    "            if cad_L1000[i,k,j]-cad_L1000[i,k,j-1]==5:\n",
    "                obs_burst1000[i,k,j-30:j]=100\n",
    "            elif cad_L1000[i,k,j-1]-cad_L1000[i,k,j]==5:\n",
    "                obs_burst1000[i,k,j:j+30]=100\n",
    "\n",
    "num100_1000=0\n",
    "list100_1000=[]\n",
    "for i in range(run):\n",
    "    for j in range(1,12):\n",
    "        for k in range(cluster_size1000):\n",
    "            if obs_burst1000[i,k,j]==100:\n",
    "                num100_1000+=1\n",
    "        list100_1000.append(num100_1000)\n",
    "        num100_1000=0"
   ]
  },
  {
   "cell_type": "markdown",
   "id": "c308f083-0e02-4b42-9d21-d65bcafeb215",
   "metadata": {},
   "source": [
    "## 2000 stars"
   ]
  },
  {
   "cell_type": "code",
   "execution_count": 12,
   "id": "a727d62c-4dc2-40fa-8ee4-c60bab822f40",
   "metadata": {},
   "outputs": [],
   "source": [
    "L2000=np.load('/home/lee/data/cluster_size_change/100x_burst/L2000.npy')\n",
    "\n",
    "cluster_size2000=2000\n",
    "cad_L2000=np.zeros((run,cluster_size2000,12))\n",
    "for i in range(run):\n",
    "    for j in range(cluster_size2000):\n",
    "        for k in range(len(t_list_cadence)):\n",
    "            cad_L2000[i,j,k]=L2000[i,j,t_list_cadence[k]]\n",
    "\n",
    "obs_burst2000=np.zeros((run,cluster_size2000,12))\n",
    "for i in range(run):\n",
    "    for k in range(cluster_size2000):\n",
    "        for j in range(1,12):\n",
    "            if cad_L2000[i,k,j]-cad_L2000[i,k,j-1]==5:\n",
    "                obs_burst2000[i,k,j-30:j]=100\n",
    "            elif cad_L2000[i,k,j-1]-cad_L2000[i,k,j]==5:\n",
    "                obs_burst2000[i,k,j:j+30]=100\n",
    "\n",
    "num100_2000=0\n",
    "list100_2000=[]\n",
    "for i in range(run):\n",
    "    for j in range(1,12):\n",
    "        for k in range(cluster_size2000):\n",
    "            if obs_burst2000[i,k,j]==100:\n",
    "                num100_2000+=1\n",
    "        list100_2000.append(num100_2000)\n",
    "        num100_2000=0"
   ]
  },
  {
   "cell_type": "markdown",
   "id": "8e5e766a-76c9-4288-97f0-46b6dd94cc4f",
   "metadata": {},
   "source": [
    "## 5000 stars"
   ]
  },
  {
   "cell_type": "code",
   "execution_count": 13,
   "id": "05836ca7-a345-4b83-8c16-f6578a58ce79",
   "metadata": {},
   "outputs": [],
   "source": [
    "L5000=np.load('/home/lee/data/cluster_size_change/100x_burst/L5000.npy')\n",
    "\n",
    "cluster_size5000=5000\n",
    "cad_L5000=np.zeros((run,cluster_size5000,12))\n",
    "for i in range(run):\n",
    "    for j in range(cluster_size5000):\n",
    "        for k in range(len(t_list_cadence)):\n",
    "            cad_L5000[i,j,k]=L5000[i,j,t_list_cadence[k]]\n",
    "\n",
    "obs_burst5000=np.zeros((run,cluster_size5000,12))\n",
    "for i in range(run):\n",
    "    for k in range(cluster_size5000):\n",
    "        for j in range(1,12):\n",
    "            if cad_L5000[i,k,j]-cad_L5000[i,k,j-1]==5:\n",
    "                obs_burst5000[i,k,j-30:j]=100\n",
    "            elif cad_L5000[i,k,j-1]-cad_L5000[i,k,j]==5:\n",
    "                obs_burst5000[i,k,j:j+30]=100\n",
    "\n",
    "num100_5000=0\n",
    "list100_5000=[]\n",
    "for i in range(run):\n",
    "    for j in range(1,12):\n",
    "        for k in range(cluster_size5000):\n",
    "            if obs_burst5000[i,k,j]==100:\n",
    "                num100_5000+=1\n",
    "        list100_5000.append(num100_5000)\n",
    "        num100_5000=0"
   ]
  },
  {
   "cell_type": "code",
   "execution_count": 14,
   "id": "cea2c9c8-2dc3-4bda-9910-1932505af7f9",
   "metadata": {},
   "outputs": [
    {
     "name": "stdout",
     "output_type": "stream",
     "text": [
      "53\n"
     ]
    }
   ],
   "source": [
    "print(np.max(list100_5000))"
   ]
  },
  {
   "cell_type": "markdown",
   "id": "9c12cfc8-44f2-4198-b03b-f409dd6a70ae",
   "metadata": {},
   "source": [
    "## Number of bursts for a full program\n",
    "\n",
    "This is the total number of bursts that we can physically detect based on observations"
   ]
  },
  {
   "cell_type": "markdown",
   "id": "3c1d1f98-a2d7-46db-873f-ddebd8040451",
   "metadata": {},
   "source": [
    "## 50 stars"
   ]
  },
  {
   "cell_type": "code",
   "execution_count": 36,
   "id": "998c8b8f-284e-47bd-ad6c-7a8b79ad35fa",
   "metadata": {},
   "outputs": [
    {
     "name": "stdout",
     "output_type": "stream",
     "text": [
      "6 24 1\n",
      "6 28 1\n",
      "6 38 1\n",
      "13 30 1\n",
      "18 9 1\n",
      "27 3 7\n",
      "28 7 1\n",
      "32 22 1\n",
      "32 33 8\n",
      "34 23 1\n",
      "39 43 5\n",
      "40 23 1\n",
      "41 34 1\n",
      "45 17 1\n",
      "47 4 1\n",
      "47 11 1\n",
      "49 27 11\n"
     ]
    }
   ],
   "source": [
    "L50=np.load('/home/lee/data/cluster_size_change/100x_burst/L50.npy')\n",
    "\n",
    "cluster_size50=50\n",
    "cad_L50=np.zeros((run,cluster_size50,12))\n",
    "for i in range(run):\n",
    "    for j in range(cluster_size50):\n",
    "        for k in range(len(t_list_cadence)):\n",
    "            cad_L50[i,j,k]=L50[i,j,t_list_cadence[k]]\n",
    "\n",
    "num100_50_total=0\n",
    "list100_50_total=[]\n",
    "for i in range(run):\n",
    "    for j in range(1,12):\n",
    "        for k in range(cluster_size50):\n",
    "            if cad_L50[i,k,j]-cad_L50[i,k,j-1]==5:\n",
    "                num100_50_total+=1\n",
    "                print(i,k,j)\n",
    "    list100_50_total.append(num100_50_total)\n",
    "    num100_50_total=0"
   ]
  },
  {
   "cell_type": "code",
   "execution_count": 40,
   "id": "966ee9a9-8c7b-49fe-935b-9a45c1c0d958",
   "metadata": {},
   "outputs": [
    {
     "name": "stdout",
     "output_type": "stream",
     "text": [
      "[-2.77899631  2.22100369  2.22100369  2.22100369  2.22100369  2.22100369\n",
      "  2.22100369  2.22100369  2.22100369  2.22100369  2.22100369  2.22100369]\n"
     ]
    }
   ],
   "source": [
    "print(cad_L50[6,24,:])\n",
    "print("
   ]
  },
  {
   "cell_type": "markdown",
   "id": "36f133ab-26c4-4bbd-be08-b8c6cae15a13",
   "metadata": {},
   "source": [
    "## 100 stars"
   ]
  },
  {
   "cell_type": "code",
   "execution_count": 16,
   "id": "1e39668c-bd7c-48b5-b856-c1f4a6d9796f",
   "metadata": {},
   "outputs": [],
   "source": [
    "L100=np.load('/home/lee/data/cluster_size_change/100x_burst/L100.npy')\n",
    "\n",
    "cluster_size100=100\n",
    "cad_L100=np.zeros((run,cluster_size100,12))\n",
    "for i in range(run):\n",
    "    for j in range(cluster_size100):\n",
    "        for k in range(len(t_list_cadence)):\n",
    "            cad_L100[i,j,k]=L100[i,j,t_list_cadence[k]]\n",
    "\n",
    "num100_100_total=0\n",
    "list100_100_total=[]\n",
    "for i in range(run):\n",
    "    for j in range(1,12):\n",
    "        for k in range(cluster_size100):\n",
    "            if cad_L100[i,k,j]==100 and cad_L100[i,k,j]!=cad_L100[i,k,j-1]:\n",
    "                num100_100_total+=1\n",
    "    list100_100_total.append(num100_100_total)\n",
    "    num100_100_total=0"
   ]
  },
  {
   "cell_type": "markdown",
   "id": "f0c1c6ad-a510-4fbc-b423-5ebcf87c15b3",
   "metadata": {},
   "source": [
    "## 500 stars"
   ]
  },
  {
   "cell_type": "code",
   "execution_count": 17,
   "id": "522bcf72-944c-4230-96aa-6aa6d6f129d0",
   "metadata": {},
   "outputs": [],
   "source": [
    "L500=np.load('/home/lee/data/cluster_size_change/100x_burst/L500.npy')\n",
    "\n",
    "cluster_size500=500\n",
    "cad_L500=np.zeros((run,cluster_size500,12))\n",
    "for i in range(run):\n",
    "    for j in range(cluster_size500):\n",
    "        for k in range(len(t_list_cadence)):\n",
    "            cad_L500[i,j,k]=L500[i,j,t_list_cadence[k]]\n",
    "\n",
    "num100_500_total=0\n",
    "list100_500_total=[]\n",
    "for i in range(run):\n",
    "    for j in range(1,12):\n",
    "        for k in range(cluster_size500):\n",
    "            if cad_L500[i,k,j]==100 and cad_L500[i,k,j]!=cad_L500[i,k,j-1]:\n",
    "                num100_500_total+=1\n",
    "    list100_500_total.append(num100_500_total)\n",
    "    num100_500_total=0"
   ]
  },
  {
   "cell_type": "markdown",
   "id": "48e253f6-1a6b-43c2-8ab8-ce92bd037deb",
   "metadata": {},
   "source": [
    "## 1000 stars"
   ]
  },
  {
   "cell_type": "code",
   "execution_count": 18,
   "id": "bb0147c6-6356-4151-b7e3-02d7bc3562f9",
   "metadata": {},
   "outputs": [],
   "source": [
    "L1000=np.load('/home/lee/data/cluster_size_change/100x_burst/L1000.npy')\n",
    "\n",
    "cluster_size1000=1000\n",
    "cad_L1000=np.zeros((run,cluster_size1000,12))\n",
    "for i in range(run):\n",
    "    for j in range(cluster_size1000):\n",
    "        for k in range(len(t_list_cadence)):\n",
    "            cad_L1000[i,j,k]=L1000[i,j,t_list_cadence[k]]\n",
    "\n",
    "num100_1000_total=0\n",
    "list100_1000_total=[]\n",
    "for i in range(run):\n",
    "    for j in range(1,12):\n",
    "        for k in range(cluster_size1000):\n",
    "            if cad_L1000[i,k,j]==100 and cad_L1000[i,k,j]!=cad_L1000[i,k,j-1]:\n",
    "                num100_1000_total+=1\n",
    "    list100_1000_total.append(num100_1000_total)\n",
    "    num100_1000_total=0"
   ]
  },
  {
   "cell_type": "markdown",
   "id": "07fbce48-78b4-4aba-be89-77f808ab9c6c",
   "metadata": {},
   "source": [
    "## 2000 stars"
   ]
  },
  {
   "cell_type": "code",
   "execution_count": 19,
   "id": "45c737af-1de0-4fbd-b4cb-972211746ee4",
   "metadata": {},
   "outputs": [],
   "source": [
    "L2000=np.load('/home/lee/data/cluster_size_change/100x_burst/L2000.npy')\n",
    "\n",
    "cluster_size2000=2000\n",
    "cad_L2000=np.zeros((run,cluster_size2000,12))\n",
    "for i in range(run):\n",
    "    for j in range(cluster_size2000):\n",
    "        for k in range(len(t_list_cadence)):\n",
    "            cad_L2000[i,j,k]=L2000[i,j,t_list_cadence[k]]\n",
    "\n",
    "num100_2000_total=0\n",
    "list100_2000_total=[]\n",
    "for i in range(run):\n",
    "    for j in range(1,12):\n",
    "        for k in range(cluster_size2000):\n",
    "            if cad_L2000[i,k,j]==100 and cad_L2000[i,k,j]!=cad_L2000[i,k,j-1]:\n",
    "                num100_2000_total+=1\n",
    "    list100_2000_total.append(num100_2000_total)\n",
    "    num100_2000_total=0"
   ]
  },
  {
   "cell_type": "code",
   "execution_count": 31,
   "id": "4b9a5ac7-e7a8-4d47-8464-4276b27a3220",
   "metadata": {},
   "outputs": [
    {
     "name": "stdout",
     "output_type": "stream",
     "text": [
      "[[[ 4.35640358  4.35640358  4.35640358 ...  4.35640358  4.35640358\n",
      "    4.35640358]\n",
      "  [ 2.02067402  2.02067402  2.02067402 ...  2.02067402  2.02067402\n",
      "    2.02067402]\n",
      "  [ 1.75943428  1.75943428  1.75943428 ...  1.75943428  1.75943428\n",
      "    1.75943428]\n",
      "  ...\n",
      "  [-2.10917181 -2.10917181 -2.10917181 ... -2.10917181 -2.10917181\n",
      "   -2.10917181]\n",
      "  [ 0.32941783  0.32941783  0.32941783 ...  0.32941783  0.32941783\n",
      "    0.32941783]\n",
      "  [-2.10636709 -2.10636709 -2.10636709 ... -2.10636709 -2.10636709\n",
      "   -2.10636709]]\n",
      "\n",
      " [[ 0.88570765  0.88570765  0.88570765 ...  0.88570765  0.88570765\n",
      "    0.88570765]\n",
      "  [-1.23677756 -1.23677756 -1.23677756 ... -1.23677756 -1.23677756\n",
      "   -1.23677756]\n",
      "  [-0.34417634 -0.34417634 -0.34417634 ... -0.34417634 -0.34417634\n",
      "   -0.34417634]\n",
      "  ...\n",
      "  [-4.59680798 -4.59680798 -4.59680798 ... -4.59680798 -4.59680798\n",
      "   -4.59680798]\n",
      "  [-3.01436385 -3.01436385 -3.01436385 ... -3.01436385 -3.01436385\n",
      "   -3.01436385]\n",
      "  [-3.90543466 -3.90543466 -3.90543466 ... -3.90543466 -3.90543466\n",
      "   -3.90543466]]\n",
      "\n",
      " [[ 0.88325567  0.88325567  0.88325567 ...  0.88325567  0.88325567\n",
      "    0.88325567]\n",
      "  [ 0.90053697  0.90053697  0.90053697 ...  0.90053697  0.90053697\n",
      "    0.90053697]\n",
      "  [-1.13673112 -1.13673112 -1.13673112 ... -1.13673112 -1.13673112\n",
      "   -1.13673112]\n",
      "  ...\n",
      "  [ 1.37437723 -3.62562277 -3.62562277 ... -3.62562277 -3.62562277\n",
      "   -3.62562277]\n",
      "  [ 0.61183777  0.61183777  0.61183777 ...  0.61183777  0.61183777\n",
      "    0.61183777]\n",
      "  [ 2.20682176  2.20682176  2.20682176 ...  2.20682176  2.20682176\n",
      "    2.20682176]]\n",
      "\n",
      " ...\n",
      "\n",
      " [[-1.16531468 -1.16531468 -1.16531468 ... -1.16531468 -1.16531468\n",
      "   -1.16531468]\n",
      "  [ 1.37437723  1.37437723  1.37437723 ...  1.37437723  1.37437723\n",
      "    1.37437723]\n",
      "  [-1.30969119 -1.30969119 -1.30969119 ... -1.30969119 -1.30969119\n",
      "   -1.30969119]\n",
      "  ...\n",
      "  [-0.02680966 -0.02680966 -0.02680966 ... -0.02680966 -0.02680966\n",
      "   -0.02680966]\n",
      "  [-2.9467231  -2.9467231  -2.9467231  ... -2.9467231  -2.9467231\n",
      "   -2.9467231 ]\n",
      "  [-2.31431132 -2.31431132 -2.31431132 ... -2.31431132 -2.31431132\n",
      "   -2.31431132]]\n",
      "\n",
      " [[ 1.35908492  1.35908492  1.35908492 ...  1.35908492  1.35908492\n",
      "    1.35908492]\n",
      "  [ 0.9582862   0.9582862   0.9582862  ...  0.9582862   0.9582862\n",
      "    0.9582862 ]\n",
      "  [ 0.42256651  0.42256651  0.42256651 ...  0.42256651  0.42256651\n",
      "    0.42256651]\n",
      "  ...\n",
      "  [-0.63031138 -0.63031138 -0.63031138 ... -0.63031138 -0.63031138\n",
      "   -0.63031138]\n",
      "  [-0.3055397  -0.3055397  -0.3055397  ... -0.3055397  -0.3055397\n",
      "   -0.3055397 ]\n",
      "  [ 2.28677355  2.28677355  2.28677355 ...  2.28677355  2.28677355\n",
      "    2.28677355]]\n",
      "\n",
      " [[-3.90543466 -3.90543466 -3.90543466 ... -3.90543466 -3.90543466\n",
      "   -3.90543466]\n",
      "  [-0.33064922 -0.33064922 -0.33064922 ... -0.33064922 -0.33064922\n",
      "   -0.33064922]\n",
      "  [ 0.65801311  0.65801311  0.65801311 ...  0.65801311  0.65801311\n",
      "    0.65801311]\n",
      "  ...\n",
      "  [ 1.46214912  1.46214912  1.46214912 ...  1.46214912  1.46214912\n",
      "    1.46214912]\n",
      "  [-5.54370986 -5.54370986 -5.54370986 ... -5.54370986 -5.54370986\n",
      "   -5.54370986]\n",
      "  [ 4.53756202  4.53756202  4.53756202 ...  4.53756202  4.53756202\n",
      "    4.53756202]]]\n"
     ]
    }
   ],
   "source": [
    "print(cad_L50)"
   ]
  },
  {
   "cell_type": "markdown",
   "id": "2ee63035-6a57-4c29-a0ca-5ae51af42664",
   "metadata": {},
   "source": [
    "## 5000 stars"
   ]
  },
  {
   "cell_type": "code",
   "execution_count": 20,
   "id": "64784c02-a40e-439d-9c47-caab1961562d",
   "metadata": {},
   "outputs": [],
   "source": [
    "L5000=np.load('/home/lee/data/cluster_size_change/100x_burst/L5000.npy')\n",
    "\n",
    "cluster_size5000=5000\n",
    "cad_L5000=np.zeros((run,cluster_size5000,12))\n",
    "for i in range(run):\n",
    "    for j in range(cluster_size5000):\n",
    "        for k in range(len(t_list_cadence)):\n",
    "            cad_L5000[i,j,k]=L5000[i,j,t_list_cadence[k]]\n",
    "\n",
    "num100_5000_total=0\n",
    "list100_5000_total=[]\n",
    "for i in range(run):\n",
    "    for j in range(1,12):\n",
    "        for k in range(cluster_size5000):\n",
    "            if cad_L5000[i,k,j]==100 and cad_L5000[i,k,j]!=cad_L5000[i,k,j-1]:\n",
    "                num100_5000_total+=1\n",
    "    list100_5000_total.append(num100_5000_total)\n",
    "    num100_5000_total=0"
   ]
  },
  {
   "cell_type": "code",
   "execution_count": 26,
   "id": "5f2015e7-0985-451e-90fe-cd5843407a14",
   "metadata": {},
   "outputs": [
    {
     "name": "stdout",
     "output_type": "stream",
     "text": [
      "[[[-1.97536091 -1.97536091 -1.97536091 ... -1.97536091 -1.97536091\n",
      "   -1.97536091]\n",
      "  [-3.09448748 -3.09448748 -3.09448748 ... -3.09448748 -3.09448748\n",
      "   -3.09448748]\n",
      "  [-0.31938129 -0.31938129 -0.31938129 ... -0.31938129 -0.31938129\n",
      "   -0.31938129]\n",
      "  ...\n",
      "  [-2.88529881 -2.88529881 -2.88529881 ... -2.88529881 -2.88529881\n",
      "   -2.88529881]\n",
      "  [-3.65449639 -3.65449639 -3.65449639 ... -3.65449639 -3.65449639\n",
      "   -3.65449639]\n",
      "  [-0.3055397  -0.3055397  -0.3055397  ... -0.3055397  -0.3055397\n",
      "   -0.3055397 ]]\n",
      "\n",
      " [[ 0.1061015   0.1061015   0.1061015  ...  0.1061015   0.1061015\n",
      "    0.1061015 ]\n",
      "  [-0.33064922 -0.33064922 -0.33064922 ... -0.33064922 -0.33064922\n",
      "   -0.33064922]\n",
      "  [ 0.06199509  0.06199509  0.06199509 ...  0.06199509  0.06199509\n",
      "    0.06199509]\n",
      "  ...\n",
      "  [-0.49113135 -0.49113135 -0.49113135 ... -0.49113135 -0.49113135\n",
      "   -0.49113135]\n",
      "  [-0.55809068 -0.55809068 -0.55809068 ... -0.55809068 -0.55809068\n",
      "   -0.55809068]\n",
      "  [-1.23677756 -1.23677756 -1.23677756 ... -1.23677756 -1.23677756\n",
      "   -1.23677756]]\n",
      "\n",
      " [[-7.49259178 -7.49259178 -7.49259178 ... -7.49259178 -7.49259178\n",
      "   -7.49259178]\n",
      "  [ 1.9283576   1.9283576   1.9283576  ...  1.9283576   1.9283576\n",
      "    1.9283576 ]\n",
      "  [ 0.13879332  0.13879332  0.13879332 ...  0.13879332  0.13879332\n",
      "    0.13879332]\n",
      "  ...\n",
      "  [ 2.66249212  2.66249212  2.66249212 ...  2.66249212  2.66249212\n",
      "    2.66249212]\n",
      "  [ 0.47441871  0.47441871  0.47441871 ...  0.47441871  0.47441871\n",
      "    0.47441871]\n",
      "  [-1.13406018 -1.13406018 -1.13406018 ... -1.13406018 -1.13406018\n",
      "   -1.13406018]]\n",
      "\n",
      " ...\n",
      "\n",
      " [[-2.462218   -2.462218   -2.462218   ... -2.462218   -2.462218\n",
      "   -2.462218  ]\n",
      "  [ 3.03134881  3.03134881  3.03134881 ...  3.03134881  3.03134881\n",
      "    3.03134881]\n",
      "  [-7.28981803 -7.28981803 -7.28981803 ... -7.28981803 -7.28981803\n",
      "   -7.28981803]\n",
      "  ...\n",
      "  [-0.52713341 -0.52713341 -0.52713341 ... -0.52713341 -0.52713341\n",
      "   -0.52713341]\n",
      "  [ 0.97601398  0.97601398  0.97601398 ...  0.97601398  0.97601398\n",
      "    0.97601398]\n",
      "  [ 1.46675059  1.46675059  1.46675059 ...  1.46675059  1.46675059\n",
      "    1.46675059]]\n",
      "\n",
      " [[ 1.7334014   1.7334014   1.7334014  ...  1.7334014   1.7334014\n",
      "    1.7334014 ]\n",
      "  [-1.60070657 -1.60070657 -1.60070657 ... -1.60070657 -1.60070657\n",
      "   -1.60070657]\n",
      "  [ 1.35908492  1.35908492  1.35908492 ...  1.35908492  1.35908492\n",
      "    1.35908492]\n",
      "  ...\n",
      "  [-1.89500752 -1.89500752 -1.89500752 ... -1.89500752 -1.89500752\n",
      "   -1.89500752]\n",
      "  [-0.01187789 -0.01187789 -0.01187789 ... -0.01187789 -0.01187789\n",
      "   -0.01187789]\n",
      "  [-3.25420237 -3.25420237 -3.25420237 ... -3.25420237 -3.25420237\n",
      "   -3.25420237]]\n",
      "\n",
      " [[-0.36841777 -0.36841777 -0.36841777 ... -0.36841777 -0.36841777\n",
      "   -0.36841777]\n",
      "  [ 1.34101399  1.34101399  1.34101399 ...  1.34101399  1.34101399\n",
      "    1.34101399]\n",
      "  [-1.41962363 -1.41962363 -1.41962363 ... -1.41962363 -1.41962363\n",
      "   -1.41962363]\n",
      "  ...\n",
      "  [-0.37612352 -0.37612352 -0.37612352 ... -0.37612352 -0.37612352\n",
      "   -0.37612352]\n",
      "  [-1.60070657 -1.60070657 -1.60070657 ... -1.60070657 -1.60070657\n",
      "   -1.60070657]\n",
      "  [ 0.46438101  0.46438101  0.46438101 ...  0.46438101  0.46438101\n",
      "    0.46438101]]]\n"
     ]
    }
   ],
   "source": [
    "print(L5000)"
   ]
  },
  {
   "cell_type": "code",
   "execution_count": 22,
   "id": "f3b6a557-5eee-4035-8bff-6b3a6f84b485",
   "metadata": {},
   "outputs": [],
   "source": [
    "list100_50_new=[]\n",
    "list100_100_new=[]\n",
    "list100_500_new=[]\n",
    "list100_1000_new=[]\n",
    "list100_2000_new=[]\n",
    "list100_5000_new=[]\n",
    "for i in range(len(list100_50)):\n",
    "    if list100_50[i]!=0:\n",
    "        list100_50_new.append(list100_50[i])\n",
    "        \n",
    "for i in range(len(list100_100)):\n",
    "    if list100_100[i]!=0:\n",
    "        list100_100_new.append(list100_100[i])\n",
    "        \n",
    "for i in range(len(list100_500)):\n",
    "    if list100_500[i]!=0:\n",
    "        list100_500_new.append(list100_500[i])\n",
    "        \n",
    "for i in range(len(list100_1000)):\n",
    "    if list100_1000[i]!=0:\n",
    "        list100_1000_new.append(list100_1000[i])\n",
    "        \n",
    "for i in range(len(list100_2000)):\n",
    "    if list100_2000[i]!=0:\n",
    "        list100_2000_new.append(list100_2000[i])\n",
    "        \n",
    "for i in range(len(list100_5000)):\n",
    "    if list100_5000[i]!=0:\n",
    "        list100_5000_new.append(list100_5000[i])"
   ]
  },
  {
   "cell_type": "code",
   "execution_count": 23,
   "id": "8afdbbf2-ccd4-41ab-97aa-219e4e448f97",
   "metadata": {},
   "outputs": [],
   "source": [
    "num_new50_full=[]\n",
    "num_new100_full=[]\n",
    "num_new500_full=[]\n",
    "num_new1000_full=[]\n",
    "num_new2000_full=[]\n",
    "num_new5000_full=[]\n",
    "for i in range(len(list100_50_total)):\n",
    "    if list100_50_total[i]!=0:\n",
    "        num_new50_full.append(list100_50_total[i])\n",
    "        \n",
    "for i in range(len(list100_100_total)):\n",
    "    if list100_100_total[i]!=0:\n",
    "        num_new100_full.append(list100_100_total[i])\n",
    "        \n",
    "for i in range(len(list100_500_total)):\n",
    "    if list100_500_total[i]!=0:\n",
    "        num_new500_full.append(list100_500_total[i])\n",
    "        \n",
    "for i in range(len(list100_1000_total)):\n",
    "    if list100_1000_total[i]!=0:\n",
    "        num_new1000_full.append(list100_1000_total[i])\n",
    "        \n",
    "for i in range(len(list100_2000_total)):\n",
    "    if list100_2000_total[i]!=0:\n",
    "        num_new2000_full.append(list100_2000_total[i])\n",
    "        \n",
    "for i in range(len(list100_5000_total)):\n",
    "    if list100_5000_total[i]!=0:\n",
    "        num_new5000_full.append(list100_5000_total[i])"
   ]
  },
  {
   "cell_type": "code",
   "execution_count": 24,
   "id": "39b9411e-9569-4459-a39e-386d26fe2d2c",
   "metadata": {},
   "outputs": [
    {
     "name": "stdout",
     "output_type": "stream",
     "text": [
      "6\n",
      "6\n",
      "6\n"
     ]
    }
   ],
   "source": [
    "data_num_full=[num_new50_full,num_new100_full,num_new500_full,\\\n",
    "                num_new1000_full,num_new2000_full,num_new5000_full]\n",
    "\n",
    "data_num_time=[list100_50_new,list100_100_new,list100_500_new,\\\n",
    "                list100_1000_new,list100_2000_new,list100_5000_new]\n",
    "time=np.linspace(0,6000,6)\n",
    "\n",
    "print(len(data_num_full))\n",
    "print(len(data_num_time))\n",
    "print(len(time))"
   ]
  },
  {
   "cell_type": "code",
   "execution_count": 25,
   "id": "c5a59b77-8b64-4d87-b9d3-9d4e1b4419af",
   "metadata": {},
   "outputs": [
    {
     "ename": "ValueError",
     "evalue": "zero-size array to reduction operation minimum which has no identity",
     "output_type": "error",
     "traceback": [
      "\u001b[0;31m---------------------------------------------------------------------------\u001b[0m",
      "\u001b[0;31mValueError\u001b[0m                                Traceback (most recent call last)",
      "Cell \u001b[0;32mIn[25], line 13\u001b[0m\n\u001b[1;32m     11\u001b[0m plt\u001b[38;5;241m.\u001b[39mrcParams[\u001b[38;5;124m'\u001b[39m\u001b[38;5;124maxes.labelweight\u001b[39m\u001b[38;5;124m'\u001b[39m]\u001b[38;5;241m=\u001b[39m\u001b[38;5;124m'\u001b[39m\u001b[38;5;124mnormal\u001b[39m\u001b[38;5;124m'\u001b[39m\n\u001b[1;32m     12\u001b[0m plt\u001b[38;5;241m.\u001b[39mrcParams[\u001b[38;5;124m'\u001b[39m\u001b[38;5;124mfont.weight\u001b[39m\u001b[38;5;124m'\u001b[39m]\u001b[38;5;241m=\u001b[39m\u001b[38;5;124m'\u001b[39m\u001b[38;5;124mnormal\u001b[39m\u001b[38;5;124m'\u001b[39m\n\u001b[0;32m---> 13\u001b[0m \u001b[43max\u001b[49m\u001b[38;5;241;43m.\u001b[39;49m\u001b[43mviolinplot\u001b[49m\u001b[43m(\u001b[49m\u001b[43mdata_num_full\u001b[49m\u001b[43m,\u001b[49m\u001b[43mvert\u001b[49m\u001b[38;5;241;43m=\u001b[39;49m\u001b[38;5;28;43;01mTrue\u001b[39;49;00m\u001b[43m,\u001b[49m\u001b[43m \u001b[49m\u001b[43mwidths\u001b[49m\u001b[38;5;241;43m=\u001b[39;49m\u001b[38;5;241;43m0.5\u001b[39;49m\u001b[43m,\u001b[49m\u001b[43m \u001b[49m\u001b[43mshowmeans\u001b[49m\u001b[38;5;241;43m=\u001b[39;49m\u001b[38;5;28;43;01mTrue\u001b[39;49;00m\u001b[43m,\u001b[49m\u001b[43m \u001b[49m\u001b[43mshowextrema\u001b[49m\u001b[38;5;241;43m=\u001b[39;49m\u001b[38;5;28;43;01mTrue\u001b[39;49;00m\u001b[43m,\u001b[49m\u001b[43m \u001b[49m\u001b[43mshowmedians\u001b[49m\u001b[38;5;241;43m=\u001b[39;49m\u001b[38;5;28;43;01mFalse\u001b[39;49;00m\u001b[43m)\u001b[49m\n\u001b[1;32m     14\u001b[0m plt\u001b[38;5;241m.\u001b[39mxticks([\u001b[38;5;241m1\u001b[39m,\u001b[38;5;241m2\u001b[39m,\u001b[38;5;241m3\u001b[39m,\u001b[38;5;241m4\u001b[39m,\u001b[38;5;241m5\u001b[39m,\u001b[38;5;241m6\u001b[39m,],[\u001b[38;5;124m'\u001b[39m\u001b[38;5;124m50\u001b[39m\u001b[38;5;124m'\u001b[39m,\u001b[38;5;124m'\u001b[39m\u001b[38;5;124m100\u001b[39m\u001b[38;5;124m'\u001b[39m,\u001b[38;5;124m'\u001b[39m\u001b[38;5;124m500\u001b[39m\u001b[38;5;124m'\u001b[39m,\u001b[38;5;124m'\u001b[39m\u001b[38;5;124m1000\u001b[39m\u001b[38;5;124m'\u001b[39m,\u001b[38;5;124m'\u001b[39m\u001b[38;5;124m2000\u001b[39m\u001b[38;5;124m'\u001b[39m,\u001b[38;5;124m'\u001b[39m\u001b[38;5;124m5000\u001b[39m\u001b[38;5;124m'\u001b[39m])\n\u001b[1;32m     15\u001b[0m ax\u001b[38;5;241m.\u001b[39mset_xlabel(\u001b[38;5;124m'\u001b[39m\u001b[38;5;124mNumber of Stars in Cluster\u001b[39m\u001b[38;5;124m'\u001b[39m,fontsize\u001b[38;5;241m=\u001b[39m\u001b[38;5;241m15\u001b[39m)\n",
      "File \u001b[0;32m~/.local/lib/python3.8/site-packages/matplotlib/__init__.py:1446\u001b[0m, in \u001b[0;36m_preprocess_data.<locals>.inner\u001b[0;34m(ax, data, *args, **kwargs)\u001b[0m\n\u001b[1;32m   1443\u001b[0m \u001b[38;5;129m@functools\u001b[39m\u001b[38;5;241m.\u001b[39mwraps(func)\n\u001b[1;32m   1444\u001b[0m \u001b[38;5;28;01mdef\u001b[39;00m \u001b[38;5;21minner\u001b[39m(ax, \u001b[38;5;241m*\u001b[39margs, data\u001b[38;5;241m=\u001b[39m\u001b[38;5;28;01mNone\u001b[39;00m, \u001b[38;5;241m*\u001b[39m\u001b[38;5;241m*\u001b[39mkwargs):\n\u001b[1;32m   1445\u001b[0m     \u001b[38;5;28;01mif\u001b[39;00m data \u001b[38;5;129;01mis\u001b[39;00m \u001b[38;5;28;01mNone\u001b[39;00m:\n\u001b[0;32m-> 1446\u001b[0m         \u001b[38;5;28;01mreturn\u001b[39;00m \u001b[43mfunc\u001b[49m\u001b[43m(\u001b[49m\u001b[43max\u001b[49m\u001b[43m,\u001b[49m\u001b[43m \u001b[49m\u001b[38;5;241;43m*\u001b[39;49m\u001b[38;5;28;43mmap\u001b[39;49m\u001b[43m(\u001b[49m\u001b[43msanitize_sequence\u001b[49m\u001b[43m,\u001b[49m\u001b[43m \u001b[49m\u001b[43margs\u001b[49m\u001b[43m)\u001b[49m\u001b[43m,\u001b[49m\u001b[43m \u001b[49m\u001b[38;5;241;43m*\u001b[39;49m\u001b[38;5;241;43m*\u001b[39;49m\u001b[43mkwargs\u001b[49m\u001b[43m)\u001b[49m\n\u001b[1;32m   1448\u001b[0m     bound \u001b[38;5;241m=\u001b[39m new_sig\u001b[38;5;241m.\u001b[39mbind(ax, \u001b[38;5;241m*\u001b[39margs, \u001b[38;5;241m*\u001b[39m\u001b[38;5;241m*\u001b[39mkwargs)\n\u001b[1;32m   1449\u001b[0m     auto_label \u001b[38;5;241m=\u001b[39m (bound\u001b[38;5;241m.\u001b[39marguments\u001b[38;5;241m.\u001b[39mget(label_namer)\n\u001b[1;32m   1450\u001b[0m                   \u001b[38;5;129;01mor\u001b[39;00m bound\u001b[38;5;241m.\u001b[39mkwargs\u001b[38;5;241m.\u001b[39mget(label_namer))\n",
      "File \u001b[0;32m~/.local/lib/python3.8/site-packages/matplotlib/axes/_axes.py:8088\u001b[0m, in \u001b[0;36mAxes.violinplot\u001b[0;34m(self, dataset, positions, vert, widths, showmeans, showextrema, showmedians, quantiles, points, bw_method)\u001b[0m\n\u001b[1;32m   8085\u001b[0m     kde \u001b[38;5;241m=\u001b[39m mlab\u001b[38;5;241m.\u001b[39mGaussianKDE(X, bw_method)\n\u001b[1;32m   8086\u001b[0m     \u001b[38;5;28;01mreturn\u001b[39;00m kde\u001b[38;5;241m.\u001b[39mevaluate(coords)\n\u001b[0;32m-> 8088\u001b[0m vpstats \u001b[38;5;241m=\u001b[39m \u001b[43mcbook\u001b[49m\u001b[38;5;241;43m.\u001b[39;49m\u001b[43mviolin_stats\u001b[49m\u001b[43m(\u001b[49m\u001b[43mdataset\u001b[49m\u001b[43m,\u001b[49m\u001b[43m \u001b[49m\u001b[43m_kde_method\u001b[49m\u001b[43m,\u001b[49m\u001b[43m \u001b[49m\u001b[43mpoints\u001b[49m\u001b[38;5;241;43m=\u001b[39;49m\u001b[43mpoints\u001b[49m\u001b[43m,\u001b[49m\n\u001b[1;32m   8089\u001b[0m \u001b[43m                             \u001b[49m\u001b[43mquantiles\u001b[49m\u001b[38;5;241;43m=\u001b[39;49m\u001b[43mquantiles\u001b[49m\u001b[43m)\u001b[49m\n\u001b[1;32m   8090\u001b[0m \u001b[38;5;28;01mreturn\u001b[39;00m \u001b[38;5;28mself\u001b[39m\u001b[38;5;241m.\u001b[39mviolin(vpstats, positions\u001b[38;5;241m=\u001b[39mpositions, vert\u001b[38;5;241m=\u001b[39mvert,\n\u001b[1;32m   8091\u001b[0m                    widths\u001b[38;5;241m=\u001b[39mwidths, showmeans\u001b[38;5;241m=\u001b[39mshowmeans,\n\u001b[1;32m   8092\u001b[0m                    showextrema\u001b[38;5;241m=\u001b[39mshowextrema, showmedians\u001b[38;5;241m=\u001b[39mshowmedians)\n",
      "File \u001b[0;32m~/.local/lib/python3.8/site-packages/matplotlib/cbook/__init__.py:1499\u001b[0m, in \u001b[0;36mviolin_stats\u001b[0;34m(X, method, points, quantiles)\u001b[0m\n\u001b[1;32m   1496\u001b[0m stats \u001b[38;5;241m=\u001b[39m {}\n\u001b[1;32m   1498\u001b[0m \u001b[38;5;66;03m# Calculate basic stats for the distribution\u001b[39;00m\n\u001b[0;32m-> 1499\u001b[0m min_val \u001b[38;5;241m=\u001b[39m \u001b[43mnp\u001b[49m\u001b[38;5;241;43m.\u001b[39;49m\u001b[43mmin\u001b[49m\u001b[43m(\u001b[49m\u001b[43mx\u001b[49m\u001b[43m)\u001b[49m\n\u001b[1;32m   1500\u001b[0m max_val \u001b[38;5;241m=\u001b[39m np\u001b[38;5;241m.\u001b[39mmax(x)\n\u001b[1;32m   1501\u001b[0m quantile_val \u001b[38;5;241m=\u001b[39m np\u001b[38;5;241m.\u001b[39mpercentile(x, \u001b[38;5;241m100\u001b[39m \u001b[38;5;241m*\u001b[39m q)\n",
      "File \u001b[0;32m<__array_function__ internals>:200\u001b[0m, in \u001b[0;36mamin\u001b[0;34m(*args, **kwargs)\u001b[0m\n",
      "File \u001b[0;32m/mnt/data0/local/casa-6.5.5-21-py3.8/lib/py/lib/python3.8/site-packages/numpy/core/fromnumeric.py:2946\u001b[0m, in \u001b[0;36mamin\u001b[0;34m(a, axis, out, keepdims, initial, where)\u001b[0m\n\u001b[1;32m   2829\u001b[0m \u001b[38;5;129m@array_function_dispatch\u001b[39m(_amin_dispatcher)\n\u001b[1;32m   2830\u001b[0m \u001b[38;5;28;01mdef\u001b[39;00m \u001b[38;5;21mamin\u001b[39m(a, axis\u001b[38;5;241m=\u001b[39m\u001b[38;5;28;01mNone\u001b[39;00m, out\u001b[38;5;241m=\u001b[39m\u001b[38;5;28;01mNone\u001b[39;00m, keepdims\u001b[38;5;241m=\u001b[39mnp\u001b[38;5;241m.\u001b[39m_NoValue, initial\u001b[38;5;241m=\u001b[39mnp\u001b[38;5;241m.\u001b[39m_NoValue,\n\u001b[1;32m   2831\u001b[0m          where\u001b[38;5;241m=\u001b[39mnp\u001b[38;5;241m.\u001b[39m_NoValue):\n\u001b[1;32m   2832\u001b[0m \u001b[38;5;250m    \u001b[39m\u001b[38;5;124;03m\"\"\"\u001b[39;00m\n\u001b[1;32m   2833\u001b[0m \u001b[38;5;124;03m    Return the minimum of an array or minimum along an axis.\u001b[39;00m\n\u001b[1;32m   2834\u001b[0m \n\u001b[0;32m   (...)\u001b[0m\n\u001b[1;32m   2944\u001b[0m \u001b[38;5;124;03m    6\u001b[39;00m\n\u001b[1;32m   2945\u001b[0m \u001b[38;5;124;03m    \"\"\"\u001b[39;00m\n\u001b[0;32m-> 2946\u001b[0m     \u001b[38;5;28;01mreturn\u001b[39;00m \u001b[43m_wrapreduction\u001b[49m\u001b[43m(\u001b[49m\u001b[43ma\u001b[49m\u001b[43m,\u001b[49m\u001b[43m \u001b[49m\u001b[43mnp\u001b[49m\u001b[38;5;241;43m.\u001b[39;49m\u001b[43mminimum\u001b[49m\u001b[43m,\u001b[49m\u001b[43m \u001b[49m\u001b[38;5;124;43m'\u001b[39;49m\u001b[38;5;124;43mmin\u001b[39;49m\u001b[38;5;124;43m'\u001b[39;49m\u001b[43m,\u001b[49m\u001b[43m \u001b[49m\u001b[43maxis\u001b[49m\u001b[43m,\u001b[49m\u001b[43m \u001b[49m\u001b[38;5;28;43;01mNone\u001b[39;49;00m\u001b[43m,\u001b[49m\u001b[43m \u001b[49m\u001b[43mout\u001b[49m\u001b[43m,\u001b[49m\n\u001b[1;32m   2947\u001b[0m \u001b[43m                          \u001b[49m\u001b[43mkeepdims\u001b[49m\u001b[38;5;241;43m=\u001b[39;49m\u001b[43mkeepdims\u001b[49m\u001b[43m,\u001b[49m\u001b[43m \u001b[49m\u001b[43minitial\u001b[49m\u001b[38;5;241;43m=\u001b[39;49m\u001b[43minitial\u001b[49m\u001b[43m,\u001b[49m\u001b[43m \u001b[49m\u001b[43mwhere\u001b[49m\u001b[38;5;241;43m=\u001b[39;49m\u001b[43mwhere\u001b[49m\u001b[43m)\u001b[49m\n",
      "File \u001b[0;32m/mnt/data0/local/casa-6.5.5-21-py3.8/lib/py/lib/python3.8/site-packages/numpy/core/fromnumeric.py:86\u001b[0m, in \u001b[0;36m_wrapreduction\u001b[0;34m(obj, ufunc, method, axis, dtype, out, **kwargs)\u001b[0m\n\u001b[1;32m     83\u001b[0m         \u001b[38;5;28;01melse\u001b[39;00m:\n\u001b[1;32m     84\u001b[0m             \u001b[38;5;28;01mreturn\u001b[39;00m reduction(axis\u001b[38;5;241m=\u001b[39maxis, out\u001b[38;5;241m=\u001b[39mout, \u001b[38;5;241m*\u001b[39m\u001b[38;5;241m*\u001b[39mpasskwargs)\n\u001b[0;32m---> 86\u001b[0m \u001b[38;5;28;01mreturn\u001b[39;00m \u001b[43mufunc\u001b[49m\u001b[38;5;241;43m.\u001b[39;49m\u001b[43mreduce\u001b[49m\u001b[43m(\u001b[49m\u001b[43mobj\u001b[49m\u001b[43m,\u001b[49m\u001b[43m \u001b[49m\u001b[43maxis\u001b[49m\u001b[43m,\u001b[49m\u001b[43m \u001b[49m\u001b[43mdtype\u001b[49m\u001b[43m,\u001b[49m\u001b[43m \u001b[49m\u001b[43mout\u001b[49m\u001b[43m,\u001b[49m\u001b[43m \u001b[49m\u001b[38;5;241;43m*\u001b[39;49m\u001b[38;5;241;43m*\u001b[39;49m\u001b[43mpasskwargs\u001b[49m\u001b[43m)\u001b[49m\n",
      "\u001b[0;31mValueError\u001b[0m: zero-size array to reduction operation minimum which has no identity"
     ]
    },
    {
     "data": {
      "image/png": "[encoded data removed]",
      "text/plain": [
       "<Figure size 900x800 with 1 Axes>"
      ]
     },
     "metadata": {},
     "output_type": "display_data"
    }
   ],
   "source": [
    "data_num_full=[num_new50_full,num_new100_full,num_new500_full,\\\n",
    "                num_new1000_full,num_new2000_full,num_new5000_full]\n",
    "\n",
    "data_num_time=[list100_50_new,list100_100_new,list100_500_new,\\\n",
    "                list100_1000_new,list100_2000_new,list100_5000_new]\n",
    "\n",
    "fig,ax=plt.subplots()\n",
    "fig.set_size_inches(9,8)\n",
    "plt.rcParams['text.usetex']='False'\n",
    "plt.rcParams['font.family']='FreeSerif'\n",
    "plt.rcParams['axes.labelweight']='normal'\n",
    "plt.rcParams['font.weight']='normal'\n",
    "ax.violinplot(data_num_full,vert=True, widths=0.5, showmeans=True, showextrema=True, showmedians=False)\n",
    "plt.xticks([1,2,3,4,5,6,],['50','100','500','1000','2000','5000'])\n",
    "ax.set_xlabel('Number of Stars in Cluster',fontsize=15)\n",
    "ax.set_ylabel('Number of Bursts',fontsize=15)\n",
    "#plt.xscale('log')\n",
    "plt.xticks(fontsize=15)\n",
    "plt.yticks(fontsize=15)\n",
    "\n",
    "ax.set_title('Number of 100x Detected Bursts in Proposed Observing Program',fontsize=17)\n",
    "#plt.savefig('/home/lee/research/figs/SizeChange/violinplots/number/observing_runObs_100x_Program.jpeg',dpi=300,bbox_inches='tight')\n",
    "plt.show()"
   ]
  },
  {
   "cell_type": "code",
   "execution_count": 1,
   "id": "503d2f70-a284-47c6-8a8a-746072d6412b",
   "metadata": {},
   "outputs": [
    {
     "ename": "NameError",
     "evalue": "name 'plt' is not defined",
     "output_type": "error",
     "traceback": [
      "\u001b[0;31m---------------------------------------------------------------------------\u001b[0m",
      "\u001b[0;31mNameError\u001b[0m                                 Traceback (most recent call last)",
      "Cell \u001b[0;32mIn[1], line 1\u001b[0m\n\u001b[0;32m----> 1\u001b[0m fig,((ax1,ax2))\u001b[38;5;241m=\u001b[39m\u001b[43mplt\u001b[49m\u001b[38;5;241m.\u001b[39msubplots(\u001b[38;5;241m1\u001b[39m,\u001b[38;5;241m2\u001b[39m,sharey\u001b[38;5;241m=\u001b[39m\u001b[38;5;124m'\u001b[39m\u001b[38;5;124mrow\u001b[39m\u001b[38;5;124m'\u001b[39m,sharex\u001b[38;5;241m=\u001b[39m\u001b[38;5;124m'\u001b[39m\u001b[38;5;124mrow\u001b[39m\u001b[38;5;124m'\u001b[39m)\n\u001b[1;32m      2\u001b[0m fig\u001b[38;5;241m.\u001b[39mset_size_inches(\u001b[38;5;241m13\u001b[39m,\u001b[38;5;241m6\u001b[39m)\n\u001b[1;32m      3\u001b[0m plt\u001b[38;5;241m.\u001b[39mrcParams[\u001b[38;5;124m'\u001b[39m\u001b[38;5;124mtext.usetex\u001b[39m\u001b[38;5;124m'\u001b[39m]\u001b[38;5;241m=\u001b[39m\u001b[38;5;124m'\u001b[39m\u001b[38;5;124mFalse\u001b[39m\u001b[38;5;124m'\u001b[39m\n",
      "\u001b[0;31mNameError\u001b[0m: name 'plt' is not defined"
     ]
    }
   ],
   "source": [
    "fig,((ax1,ax2))=plt.subplots(1,2,sharey='row',sharex='row')\n",
    "fig.set_size_inches(13,6)\n",
    "plt.rcParams['text.usetex']='False'\n",
    "plt.rcParams['font.family']='FreeSerif'\n",
    "plt.rcParams['axes.labelweight']='normal'\n",
    "plt.rcParams['font.weight']='normal'\n",
    "ax1.violinplot(data_num_time,vert=True, widths=0.5, showmeans=True, showextrema=True, showmedians=False)\n",
    "ax2.violinplot(data_num_full,vert=True, widths=0.5, showmeans=True, showextrema=True, showmedians=False)\n",
    "\n",
    "#ax1.text(0.75,94,'Detected Bursts at Any Time',fontsize=16)\n",
    "#ax2.text(0.75,94,'Detected Bursts in a Full Program',fontsize=16)\n",
    "\n",
    "#ax1.minorticks_on()\n",
    "ax1.locator_params(axis='y',nbins=6)\n",
    "ax1.tick_params(axis='both',right=False,top=False,which='both')\n",
    "ax1.tick_params(axis='both',which='major', length=7, width=1, direction='in',labelsize=15)\n",
    "#ax1.tick_params(axis='both',which='minor', length=5, width=1, direction='in',labelsize=15)\n",
    "#ax2.minorticks_on()\n",
    "ax2.locator_params(axis='y',nbins=6)\n",
    "#ax2.yaxis.set_ticks_position('both')\n",
    "ax2.tick_params(axis='both',right=False,top=False,which='both')\n",
    "ax2.tick_params(axis='both',which='major', length=7, width=1, direction='in',labelsize=15)\n",
    "#ax2.tick_params(axis='both',which='minor', length=5, width=1, direction='in',labelsize=15)\n",
    "\n",
    "fig.tight_layout()\n",
    "#plt.xticks([1,2,3,4,5,6,],['50','100','500','1000','2000','5000'])\n",
    "\n",
    "ax3=fig.add_subplot(111,frameon=False)\n",
    "#plt.tick_params(labelcolor='none',top='off',bottom='off',left='off',right='off',which='both',axis='both')\n",
    "plt.minorticks_off()\n",
    "plt.grid(False)\n",
    "ax3.set_yticks([])\n",
    "ax3.set_xticks([])\n",
    "ax1.set_xticklabels(['0','50','100','500','1000','2000','5000'])\n",
    "ax2.set_xticklabels(['0','50','100','500','1000','2000','5000'])\n",
    "ax3.set_ylabel(r'Number of of Stars in a Burst State',fontsize=19,labelpad=30)\n",
    "ax3.set_xlabel('Cluster size',fontsize=19,labelpad=30)\n",
    "\n",
    "ax1.minorticks_on()\n",
    "#ax1.locator_params(axis='y',nbins=6)\n",
    "ax1.tick_params(axis='both',right=True,top=True,which='both')\n",
    "ax1.tick_params(axis='both',which='major', length=7, width=1, direction='in',labelsize=15)\n",
    "ax1.tick_params(axis='both',which='minor', length=3, width=1, direction='in',labelsize=15)\n",
    "ax2.minorticks_on()\n",
    "#ax2.locator_params(axis='y',nbins=6)\n",
    "ax2.yaxis.set_ticks_position('both')\n",
    "ax2.tick_params(axis='both',right=True,top=True,which='both')\n",
    "ax2.tick_params(axis='both',which='major', length=7, width=1, direction='in',labelsize=15)\n",
    "ax2.tick_params(axis='both',which='minor', length=3, width=1, direction='in',labelsize=15)\n",
    "\n",
    "#ax1.set_yscale('log')\n",
    "#ax2.set_yscale('log')\n",
    "\n",
    "#plt.savefig('/home/lee/research/figs/SizeChange/violinplots/number/observing_runObs_100x_SidexSide.jpeg',dpi=300,bbox_inches='tight')\n",
    "plt.show()"
   ]
  },
  {
   "cell_type": "code",
   "execution_count": null,
   "id": "629ca6a7-1090-4de2-a1ea-27ca1a764b91",
   "metadata": {},
   "outputs": [],
   "source": []
  },
  {
   "cell_type": "code",
   "execution_count": 37,
   "id": "e5900f3b-a2c3-4eec-b365-c54af42e3e03",
   "metadata": {},
   "outputs": [
    {
     "name": "stdout",
     "output_type": "stream",
     "text": [
      "32.22\n"
     ]
    }
   ],
   "source": [
    "print(np.mean(list100_2000_total))"
   ]
  },
  {
   "cell_type": "code",
   "execution_count": null,
   "id": "4a4d79b3-265c-4174-b73b-c4a7089ba39f",
   "metadata": {},
   "outputs": [],
   "source": []
  }
 ],
 "metadata": {
  "kernelspec": {
   "display_name": "Python 3 (ipykernel)",
   "language": "python",
   "name": "python3"
  },
  "language_info": {
   "codemirror_mode": {
    "name": "ipython",
    "version": 3
   },
   "file_extension": ".py",
   "mimetype": "text/x-python",
   "name": "python",
   "nbconvert_exporter": "python",
   "pygments_lexer": "ipython3",
   "version": "3.8.10"
  }
 },
 "nbformat": 4,
 "nbformat_minor": 5
}
