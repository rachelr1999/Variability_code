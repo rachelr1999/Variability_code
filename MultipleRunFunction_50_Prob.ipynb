{
 "cells": [
  {
   "cell_type": "code",
   "execution_count": 13,
   "id": "ee554d28",
   "metadata": {},
   "outputs": [],
   "source": [
    "import numpy as np\n",
    "import math\n",
    "import matplotlib.pyplot as plt\n",
    "import random\n",
    "\n",
    "#open the file\n",
    "datapath='/Users/rachellee/Desktop/research/references/'\n",
    "filename='flux_table_70um.txt'\n",
    "data=np.loadtxt(datapath+filename)\n",
    "\n",
    "#number is coloumn 0, flux is column 25\n",
    "number=data[:,0]\n",
    "flux=data[:,25]"
   ]
  },
  {
   "cell_type": "code",
   "execution_count": 14,
   "id": "86217009",
   "metadata": {},
   "outputs": [],
   "source": [
    "#remove zeros in the flux\n",
    "flux_new=[]\n",
    "for i in range(len(flux)):\n",
    "    if flux[i]!=0:\n",
    "        flux_new.append(flux[i])"
   ]
  },
  {
   "cell_type": "code",
   "execution_count": 15,
   "id": "75889722",
   "metadata": {},
   "outputs": [],
   "source": [
    "def bursts(full_time,size,probability):\n",
    "    cluster_flux=[]\n",
    "    star=[]\n",
    "    cluster_size=size\n",
    "    for i in range(cluster_size):\n",
    "        cluster_flux.append(random.choice(flux_new))\n",
    "        star.append(i)\n",
    "    cluster_mag=[]\n",
    "    for i in range(len(cluster_flux)):\n",
    "        mag=-2.5*np.log10(cluster_flux[i])\n",
    "        cluster_mag.append(mag)\n",
    "    #make multi dimensional array for burst prob \n",
    "    #let 1 be unburst and NaN be burst\n",
    "    t=full_time #yrs\n",
    "    cadence=2\n",
    "    steps=t*cadence\n",
    "    burst_prob=probability/cadence\n",
    "    burst=np.ones((cluster_size,steps))\n",
    "    L=np.zeros((cluster_size,steps))\n",
    "    burst_fraction=[]\n",
    "    cluster_new=[]\n",
    "    cluster_old=[]\n",
    "    star_new=[]\n",
    "    star_old=[]\n",
    "    bursts=0\n",
    "    for i in range(steps):\n",
    "        for j in range(cluster_size):\n",
    "            if burst[j,i]==1:\n",
    "                prob=random.random()\n",
    "                if prob>burst_prob:\n",
    "                    burst[j,i]=burst[j,i]\n",
    "                    L[j,i]=cluster_mag[j]\n",
    "                if prob<=burst_prob:\n",
    "                    burst[j,i:200+i]=np.nan\n",
    "                    L[j,i]=cluster_mag[j]-5\n",
    "                    cluster_new.append(cluster_mag[j]-5)\n",
    "                    cluster_old.append(cluster_mag[j])\n",
    "                    star_new.append(star[j])\n",
    "                    star_old.append(star[j])\n",
    "    #determine total number of bursts \n",
    "    total=0\n",
    "    burst_total=[]\n",
    "    for i in range(steps):\n",
    "        for j in range(cluster_size):\n",
    "            if np.isnan(burst[j,i])==True and burst[j,i-1]==1:\n",
    "                    total+=1\n",
    "        burst_total.append(total)\n",
    "    #find the fraction at a time\n",
    "    burst_fraction=[]\n",
    "    fraction_val=0\n",
    "    for i in range(steps):\n",
    "        for j in range(cluster_size):\n",
    "            if np.isnan(burst[j,i])==True:\n",
    "                fraction_val+=1\n",
    "        burst_fraction.append(fraction_val)\n",
    "        fraction_val=0\n",
    "    fraction=[]\n",
    "    for i in range(len(burst_fraction)):\n",
    "        fraction.append(burst_fraction[i]/cluster_size)\n",
    "        \n",
    "    return burst_total,burst_fraction,fraction"
   ]
  },
  {
   "cell_type": "code",
   "execution_count": 24,
   "id": "f2bf2150",
   "metadata": {},
   "outputs": [],
   "source": [
    "run=2\n",
    "cluster_size=2000\n",
    "t=300\n",
    "cadence=2\n",
    "steps=t*cadence\n",
    "prob=1e-4"
   ]
  },
  {
   "cell_type": "code",
   "execution_count": 25,
   "id": "602db6a9",
   "metadata": {},
   "outputs": [],
   "source": [
    "#empty total lists\n",
    "burst_total2m=[]\n",
    "burst_total2l=[]\n",
    "burst_total10m=[]\n",
    "burst_total10l=[]\n",
    "burst_total=[]\n",
    "\n",
    "#empty number lists\n",
    "burst_fraction2m=[]\n",
    "burst_fraction2l=[]\n",
    "burst_fraction10m=[]\n",
    "burst_fraction10l=[]\n",
    "burst_fraction=[]\n",
    "\n",
    "#empty fraction lists\n",
    "fraction2m=[]\n",
    "fraction2l=[]\n",
    "fraction10m=[]\n",
    "fraction10l=[]\n",
    "fraction=[]\n",
    "\n",
    "\n",
    "for i in range(run):\n",
    "    values2m=bursts(t,cluster_size,prob*2)\n",
    "    burst_total2m.append(values2m[0])\n",
    "    burst_fraction2m.append(values2m[1])\n",
    "    fraction2m.append(values2m[2])\n",
    "    values2l=bursts(t,cluster_size,prob/2)\n",
    "    burst_total2l.append(values2l[0])\n",
    "    burst_fraction2l.append(values2l[1])\n",
    "    fraction2l.append(values2l[2])\n",
    "    values10m=bursts(t,cluster_size,prob*10)\n",
    "    burst_total10m.append(values10m[0])\n",
    "    burst_fraction10m.append(values10m[1])\n",
    "    fraction10m.append(values10m[2])\n",
    "    values10l=bursts(t,cluster_size,prob/10)\n",
    "    burst_total10l.append(values10l[0])\n",
    "    burst_fraction10l.append(values10l[1])\n",
    "    fraction10l.append(values10l[2])\n",
    "    values=bursts(t,cluster_size,prob)\n",
    "    burst_total.append(values[0])\n",
    "    burst_fraction.append(values[1])\n",
    "    fraction.append(values[2])"
   ]
  },
  {
   "cell_type": "code",
   "execution_count": 26,
   "id": "fef3c6bb",
   "metadata": {},
   "outputs": [
    {
     "data": {
      "text/plain": [
       "[<matplotlib.lines.Line2D at 0x7fb1128b10a0>]"
      ]
     },
     "execution_count": 26,
     "metadata": {},
     "output_type": "execute_result"
    },
    {
     "data": {
      "image/png": "[encoded data removed]",
      "text/plain": [
       "<Figure size 432x288 with 1 Axes>"
      ]
     },
     "metadata": {
      "needs_background": "light"
     },
     "output_type": "display_data"
    }
   ],
   "source": [
    "#plot total number vs time\n",
    "time=np.linspace(0,t,steps)\n",
    "plt.plot(time,burst_total[0])"
   ]
  },
  {
   "cell_type": "code",
   "execution_count": 27,
   "id": "1814bd06",
   "metadata": {},
   "outputs": [
    {
     "data": {
      "text/plain": [
       "[<matplotlib.lines.Line2D at 0x7fb112927970>]"
      ]
     },
     "execution_count": 27,
     "metadata": {},
     "output_type": "execute_result"
    },
    {
     "data": {
      "image/png": "[encoded data removed]",
      "text/plain": [
       "<Figure size 432x288 with 1 Axes>"
      ]
     },
     "metadata": {
      "needs_background": "light"
     },
     "output_type": "display_data"
    }
   ],
   "source": [
    "#plot number at a time vs time\n",
    "plt.plot(time,burst_fraction[0])"
   ]
  },
  {
   "cell_type": "code",
   "execution_count": 28,
   "id": "77a1730c",
   "metadata": {},
   "outputs": [
    {
     "data": {
      "text/plain": [
       "[<matplotlib.lines.Line2D at 0x7fb112a5b5e0>]"
      ]
     },
     "execution_count": 28,
     "metadata": {},
     "output_type": "execute_result"
    },
    {
     "data": {
      "image/png": "[encoded data removed]",
      "text/plain": [
       "<Figure size 432x288 with 1 Axes>"
      ]
     },
     "metadata": {
      "needs_background": "light"
     },
     "output_type": "display_data"
    }
   ],
   "source": [
    "#plot fraction at a time vs time\n",
    "plt.plot(time,fraction[0])"
   ]
  },
  {
   "cell_type": "code",
   "execution_count": 29,
   "id": "c73eed2d",
   "metadata": {},
   "outputs": [],
   "source": [
    "#calculate the mean of each time step\n",
    "t_list_years=[200,220,220.5,221,221.5,222,222.5,223,223.5,224,224.5,225]\n",
    "t_list_cadence=[int(i*2) for i in t_list_years]"
   ]
  },
  {
   "cell_type": "code",
   "execution_count": 30,
   "id": "ffa43545",
   "metadata": {},
   "outputs": [],
   "source": [
    "cadence_frac_bursts2m=[]\n",
    "cadence_frac_bursts2l=[]\n",
    "cadence_frac_bursts10m=[]\n",
    "cadence_frac_bursts10l=[]\n",
    "cadence_frac_bursts=[]\n",
    "for i in range(0,1):\n",
    "    for j in t_list_cadence:\n",
    "        cadence_frac_bursts2m.append(fraction2m[i][j])\n",
    "        cadence_frac_bursts2l.append(fraction2l[i][j])\n",
    "        cadence_frac_bursts10m.append(fraction10m[i][j])\n",
    "        cadence_frac_bursts10l.append(fraction10l[i][j])\n",
    "        cadence_frac_bursts.append(fraction[i][j])"
   ]
  },
  {
   "cell_type": "code",
   "execution_count": 31,
   "id": "decc8c04",
   "metadata": {},
   "outputs": [],
   "source": [
    "#find mean and std of each star cluster at the cadence times\n",
    "mean_frac2m=np.mean(cadence_frac_bursts2m)\n",
    "std_frac2m=np.std(cadence_frac_bursts2m)\n",
    "mean_frac2l=np.mean(cadence_frac_bursts2l)\n",
    "std_frac2l=np.std(cadence_frac_bursts2l)\n",
    "mean_frac10m=np.mean(cadence_frac_bursts10m)\n",
    "std_frac10m=np.std(cadence_frac_bursts10m)\n",
    "mean_frac10l=np.mean(cadence_frac_bursts10l)\n",
    "std_frac10l=np.std(cadence_frac_bursts10l)\n",
    "mean_frac1=np.mean(cadence_frac_bursts)\n",
    "std_frac1=np.std(cadence_frac_bursts)\n",
    "\n",
    "#put them in a list\n",
    "mean_frac=[mean_frac10l,mean_frac2l,mean_frac1,mean_frac2m,mean_frac10m]\n",
    "std_frac=[std_frac10l,std_frac2l,std_frac1,std_frac2m,std_frac10m]\n",
    "probs=[0.1,0.5,1,2,10]"
   ]
  },
  {
   "cell_type": "code",
   "execution_count": 32,
   "id": "60f9ba97",
   "metadata": {},
   "outputs": [
    {
     "data": {
      "text/plain": [
       "Text(0.5, 1.0, 'Mean Fraction of Stars with Burst for Different Burst Probabilities')"
      ]
     },
     "execution_count": 32,
     "metadata": {},
     "output_type": "execute_result"
    },
    {
     "data": {
      "image/png": "[encoded data removed]",
      "text/plain": [
       "<Figure size 648x576 with 1 Axes>"
      ]
     },
     "metadata": {
      "needs_background": "light"
     },
     "output_type": "display_data"
    }
   ],
   "source": [
    "fig,ax=plt.subplots()\n",
    "fig.set_size_inches(9,8)\n",
    "x=[1]\n",
    "ax.errorbar(probs,mean_frac,yerr=std_frac,fmt='o',color='black')\n",
    "ax.errorbar(x,mean_frac1,yerr=std_frac1,fmt='o',color='blue')\n",
    "#ax.text(1,0.005,'Our Guess',font='serif',fontsize=12,color='blue')\n",
    "ax.axhline(0.01,color='red')\n",
    "ax.set_xlabel('Probability of Burst (x1e-4)',font='serif',fontsize=13)\n",
    "ax.set_ylabel('Fraction of Stars',font='serif',fontsize=13)\n",
    "ax.set_title('Mean Fraction of Stars with Burst for Different Burst Probabilities',font='serif',fontsize=15)"
   ]
  },
  {
   "cell_type": "code",
   "execution_count": null,
   "id": "41efdd9e",
   "metadata": {},
   "outputs": [],
   "source": []
  }
 ],
 "metadata": {
  "kernelspec": {
   "display_name": "Python 3",
   "language": "python",
   "name": "python3"
  },
  "language_info": {
   "codemirror_mode": {
    "name": "ipython",
    "version": 3
   },
   "file_extension": ".py",
   "mimetype": "text/x-python",
   "name": "python",
   "nbconvert_exporter": "python",
   "pygments_lexer": "ipython3",
   "version": "3.8.8"
  }
 },
 "nbformat": 4,
 "nbformat_minor": 5
}
