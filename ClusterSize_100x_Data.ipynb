{
 "cells": [
  {
   "cell_type": "code",
   "execution_count": 6,
   "id": "b758ab05",
   "metadata": {},
   "outputs": [],
   "source": [
    "import numpy as np\n",
    "import math\n",
    "import matplotlib.pyplot as plt\n",
    "import random\n",
    "import numpy as np\n",
    "from astropy.io import ascii\n",
    "from astropy.table import Table\n",
    "import csv\n",
    "\n",
    "\n",
    "#open the file\n",
    "datapath='/Users/rachellee/Desktop/research/references/'\n",
    "filename='flux_table_70um.txt'\n",
    "data=np.loadtxt(datapath+filename)\n",
    "\n",
    "#number is coloumn 0, flux is column 25\n",
    "number=data[:,0]\n",
    "flux=data[:,25]"
   ]
  },
  {
   "cell_type": "code",
   "execution_count": 7,
   "id": "75ed6160",
   "metadata": {},
   "outputs": [],
   "source": [
    "#remove zeros in the flux\n",
    "flux_new=[]\n",
    "for i in range(len(flux)):\n",
    "    if flux[i]!=0:\n",
    "        flux_new.append(flux[i])"
   ]
  },
  {
   "cell_type": "code",
   "execution_count": 13,
   "id": "7ebe9d0e",
   "metadata": {},
   "outputs": [],
   "source": [
    "run=50\n",
    "t=300\n",
    "cadence=26\n",
    "\n",
    "#run it 50 times\n",
    "#start with function\n",
    "def bursts1(full_time,size,probability,L_matrix,burst_matrix,change_matrix):\n",
    "    cluster_flux=[]\n",
    "    star=[]\n",
    "    cluster_size=size\n",
    "    for i in range(cluster_size):\n",
    "        cluster_flux.append(random.choice(flux_new))\n",
    "        star.append(i)\n",
    "    cluster_mag=[]\n",
    "    for i in range(len(cluster_flux)):\n",
    "        mag=-2.5*np.log10(cluster_flux[i])\n",
    "        cluster_mag.append(mag)\n",
    "    #make multi dimensional array for burst prob \n",
    "    #let 1 be unburst and NaN be burst\n",
    "    t=full_time #yrs\n",
    "    cadence=26\n",
    "    steps=t*cadence\n",
    "    burst_prob=probability/cadence\n",
    "    burst=burst_matrix\n",
    "    L=L_matrix\n",
    "    C=change_matrix\n",
    "    for i in range(steps):\n",
    "        for j in range(cluster_size):\n",
    "            if burst[j,i]==1:\n",
    "                prob=random.random()\n",
    "                if prob>burst_prob:\n",
    "                    burst[j,i]=burst[j,i]\n",
    "                    L[j,i]=cluster_mag[j]\n",
    "                    C[j,i]=0\n",
    "                if prob<=burst_prob:\n",
    "                    burst[j,i:(30*cadence)+i]=np.nan\n",
    "                    L[j,i:(30*cadence)+i]=cluster_mag[j]-5\n",
    "                    C[j,i:(30*cadence)+i]=100\n",
    "    #determine total number of bursts \n",
    "    total=0\n",
    "    burst_total=[]\n",
    "    for i in range(steps):\n",
    "        for j in range(cluster_size):\n",
    "            if np.isnan(burst[j,i])==True and burst[j,i-1]==1:\n",
    "                    total+=1\n",
    "        burst_total.append(total)\n",
    "    #find the fraction at a time\n",
    "    burst_num=[]\n",
    "    fraction_val=0\n",
    "    for i in range(steps):\n",
    "        for j in range(cluster_size):\n",
    "            if np.isnan(burst[j,i])==True:\n",
    "                fraction_val+=1\n",
    "        burst_num.append(fraction_val)\n",
    "        fraction_val=0\n",
    "        \n",
    "    return burst_total,burst_num,burst,L,C"
   ]
  },
  {
   "cell_type": "code",
   "execution_count": 14,
   "id": "90ace37e",
   "metadata": {},
   "outputs": [],
   "source": [
    "t_list_years=[200,220,220.5,221,221.5,222,222.5,223,223.5,224,224.5,225]\n",
    "t_list_cadence=[int(i*2) for i in t_list_years]"
   ]
  },
  {
   "cell_type": "markdown",
   "id": "7492e143",
   "metadata": {},
   "source": [
    "## 50 stars"
   ]
  },
  {
   "cell_type": "code",
   "execution_count": 15,
   "id": "b81184e9",
   "metadata": {},
   "outputs": [
    {
     "name": "stdout",
     "output_type": "stream",
     "text": [
      "0\n",
      "1\n",
      "2\n",
      "3\n",
      "4\n",
      "5\n",
      "6\n",
      "7\n",
      "8\n",
      "9\n",
      "10\n",
      "11\n",
      "12\n",
      "13\n",
      "14\n",
      "15\n",
      "16\n",
      "17\n",
      "18\n",
      "19\n",
      "20\n",
      "21\n",
      "22\n",
      "23\n",
      "24\n",
      "25\n",
      "26\n",
      "27\n",
      "28\n",
      "29\n",
      "30\n",
      "31\n",
      "32\n",
      "33\n",
      "34\n",
      "35\n",
      "36\n",
      "37\n",
      "38\n",
      "39\n",
      "40\n",
      "41\n",
      "42\n",
      "43\n",
      "44\n",
      "45\n",
      "46\n",
      "47\n",
      "48\n",
      "49\n"
     ]
    }
   ],
   "source": [
    "cluster_size50=50\n",
    "steps=t*cadence\n",
    "L50=np.zeros((cluster_size50,steps))\n",
    "C50=np.zeros((cluster_size50,steps))\n",
    "prob50=1/(100*30)\n",
    "\n",
    "#1 bin\n",
    "burst_total50=[]\n",
    "burst_num50=[]\n",
    "final_burst50=[]\n",
    "final_L50=[]\n",
    "final_C50=[]\n",
    "\n",
    "for i in range(run):\n",
    "    print(i)\n",
    "    burst50=np.ones((cluster_size50,steps))\n",
    "    L50=np.zeros((cluster_size50,steps))\n",
    "    C50=np.zeros((cluster_size50,steps))\n",
    "    values50=bursts1(t,50,prob50,L50,burst50,C50)\n",
    "    burst_total50.append(values50[0])\n",
    "    burst_num50.append(values50[1])\n",
    "    final_burst50.append(values50[2])\n",
    "    final_L50.append(values50[3])\n",
    "    final_C50.append(values50[4])"
   ]
  },
  {
   "cell_type": "code",
   "execution_count": 16,
   "id": "aa07288b",
   "metadata": {},
   "outputs": [],
   "source": [
    "#write output files\n",
    "values50_table=Table()\n",
    "values50_table['burst_total']=burst_total50\n",
    "values50_table['burst_number']=burst_num50 \n",
    "ascii.write(values50_table,'/Users/rachellee/Downloads/data/cluster_size_change/values50_2week',\\\n",
    "            format='ecsv',overwrite=True)\n",
    "\n",
    "np.save('/Users/rachellee/Downloads/data/cluster_size_change/burst50.npy',final_burst50)\n",
    "np.save('/Users/rachellee/Downloads/data/cluster_size_change/L50.npy',final_L50)\n",
    "np.save('/Users/rachellee/Downloads/data/cluster_size_change/C50.npy',final_C50)"
   ]
  },
  {
   "cell_type": "code",
   "execution_count": 1,
   "id": "1b39f207",
   "metadata": {},
   "outputs": [
    {
     "ename": "NameError",
     "evalue": "name 'np' is not defined",
     "output_type": "error",
     "traceback": [
      "\u001b[0;31m---------------------------------------------------------------------------\u001b[0m",
      "\u001b[0;31mNameError\u001b[0m                                 Traceback (most recent call last)",
      "\u001b[0;32m<ipython-input-1-0e17ba49e84c>\u001b[0m in \u001b[0;36m<module>\u001b[0;34m\u001b[0m\n\u001b[0;32m----> 1\u001b[0;31m \u001b[0mC1bin\u001b[0m\u001b[0;34m=\u001b[0m\u001b[0mnp\u001b[0m\u001b[0;34m.\u001b[0m\u001b[0mzeros\u001b[0m\u001b[0;34m(\u001b[0m\u001b[0;34m(\u001b[0m\u001b[0mrun\u001b[0m\u001b[0;34m,\u001b[0m\u001b[0mcluster_size\u001b[0m\u001b[0;34m,\u001b[0m\u001b[0;36m12\u001b[0m\u001b[0;34m)\u001b[0m\u001b[0;34m)\u001b[0m\u001b[0;34m\u001b[0m\u001b[0;34m\u001b[0m\u001b[0m\n\u001b[0m\u001b[1;32m      2\u001b[0m \u001b[0;32mfor\u001b[0m \u001b[0mi\u001b[0m \u001b[0;32min\u001b[0m \u001b[0mrange\u001b[0m\u001b[0;34m(\u001b[0m\u001b[0mrun\u001b[0m\u001b[0;34m)\u001b[0m\u001b[0;34m:\u001b[0m\u001b[0;34m\u001b[0m\u001b[0;34m\u001b[0m\u001b[0m\n\u001b[1;32m      3\u001b[0m     \u001b[0;32mfor\u001b[0m \u001b[0mj\u001b[0m \u001b[0;32min\u001b[0m \u001b[0mrange\u001b[0m\u001b[0;34m(\u001b[0m\u001b[0mcluster_size\u001b[0m\u001b[0;34m)\u001b[0m\u001b[0;34m:\u001b[0m\u001b[0;34m\u001b[0m\u001b[0;34m\u001b[0m\u001b[0m\n\u001b[1;32m      4\u001b[0m         \u001b[0;32mfor\u001b[0m \u001b[0mk\u001b[0m \u001b[0;32min\u001b[0m \u001b[0mrange\u001b[0m\u001b[0;34m(\u001b[0m\u001b[0mlen\u001b[0m\u001b[0;34m(\u001b[0m\u001b[0mt_list_cadence\u001b[0m\u001b[0;34m)\u001b[0m\u001b[0;34m)\u001b[0m\u001b[0;34m:\u001b[0m\u001b[0;34m\u001b[0m\u001b[0;34m\u001b[0m\u001b[0m\n\u001b[1;32m      5\u001b[0m                 \u001b[0mC1bin\u001b[0m\u001b[0;34m[\u001b[0m\u001b[0mi\u001b[0m\u001b[0;34m,\u001b[0m\u001b[0mj\u001b[0m\u001b[0;34m,\u001b[0m\u001b[0mk\u001b[0m\u001b[0;34m]\u001b[0m\u001b[0;34m=\u001b[0m\u001b[0mC50\u001b[0m\u001b[0;34m[\u001b[0m\u001b[0mi\u001b[0m\u001b[0;34m,\u001b[0m\u001b[0mj\u001b[0m\u001b[0;34m,\u001b[0m\u001b[0mt_list_cadence\u001b[0m\u001b[0;34m[\u001b[0m\u001b[0mk\u001b[0m\u001b[0;34m]\u001b[0m\u001b[0;34m]\u001b[0m\u001b[0;34m\u001b[0m\u001b[0;34m\u001b[0m\u001b[0m\n",
      "\u001b[0;31mNameError\u001b[0m: name 'np' is not defined"
     ]
    }
   ],
   "source": [
    "cadence_num_bursts50=[]\n",
    "for i in range(run):\n",
    "    for j in t_list_cadence:\n",
    "        cadence_num_bursts50.append(burst_num50[i][j])"
   ]
  },
  {
   "cell_type": "markdown",
   "id": "56605572",
   "metadata": {},
   "source": [
    "## 100 stars"
   ]
  },
  {
   "cell_type": "code",
   "execution_count": 19,
   "id": "75f52bb5",
   "metadata": {},
   "outputs": [
    {
     "name": "stdout",
     "output_type": "stream",
     "text": [
      "0\n",
      "1\n",
      "2\n",
      "3\n",
      "4\n",
      "5\n",
      "6\n",
      "7\n",
      "8\n",
      "9\n",
      "10\n",
      "11\n",
      "12\n",
      "13\n",
      "14\n",
      "15\n",
      "16\n",
      "17\n",
      "18\n",
      "19\n",
      "20\n",
      "21\n",
      "22\n",
      "23\n",
      "24\n",
      "25\n",
      "26\n",
      "27\n",
      "28\n",
      "29\n",
      "30\n",
      "31\n",
      "32\n",
      "33\n",
      "34\n",
      "35\n",
      "36\n",
      "37\n",
      "38\n",
      "39\n",
      "40\n",
      "41\n",
      "42\n",
      "43\n",
      "44\n",
      "45\n",
      "46\n",
      "47\n",
      "48\n",
      "49\n"
     ]
    }
   ],
   "source": [
    "cluster_size100=100\n",
    "steps=t*cadence\n",
    "L100=np.zeros((cluster_size100,steps))\n",
    "C100=np.zeros((cluster_size100,steps))\n",
    "prob100=1/(100*30)\n",
    "\n",
    "#1 bin\n",
    "burst_total100=[]\n",
    "burst_num100=[]\n",
    "final_burst100=[]\n",
    "final_L100=[]\n",
    "final_C100=[]\n",
    "\n",
    "for i in range(run):\n",
    "    print(i)\n",
    "    burst100=np.ones((cluster_size100,steps))\n",
    "    L100=np.zeros((cluster_size100,steps))\n",
    "    C100=np.zeros((cluster_size100,steps))\n",
    "    values100=bursts1(t,100,prob100,L100,burst100,C100)\n",
    "    burst_total100.append(values100[0])\n",
    "    burst_num100.append(values100[1])\n",
    "    final_burst100.append(values100[2])\n",
    "    final_L100.append(values100[3])\n",
    "    final_C100.append(values100[4])"
   ]
  },
  {
   "cell_type": "code",
   "execution_count": 20,
   "id": "5a55c56c",
   "metadata": {},
   "outputs": [],
   "source": [
    "#write output files\n",
    "values100_table=Table()\n",
    "values100_table['burst_total']=burst_total100\n",
    "values100_table['burst_number']=burst_num100 \n",
    "ascii.write(values100_table,'/Users/rachellee/Downloads/data/cluster_size_change/values100_2week',\\\n",
    "            format='ecsv',overwrite=True)\n",
    "\n",
    "np.save('/Users/rachellee/Downloads/data/cluster_size_change/burst100.npy',final_burst100)\n",
    "np.save('/Users/rachellee/Downloads/data/cluster_size_change/L100.npy',final_L100)\n",
    "np.save('/Users/rachellee/Downloads/data/cluster_size_change/C100.npy',final_C100)"
   ]
  },
  {
   "cell_type": "code",
   "execution_count": 21,
   "id": "4f411fd3",
   "metadata": {},
   "outputs": [],
   "source": [
    "cadence_num_bursts100=[]\n",
    "for i in range(run):\n",
    "    for j in t_list_cadence:\n",
    "        cadence_num_bursts100.append(burst_num100[i][j])"
   ]
  },
  {
   "cell_type": "markdown",
   "id": "15703f0c",
   "metadata": {},
   "source": [
    "## 500 stars"
   ]
  },
  {
   "cell_type": "code",
   "execution_count": 22,
   "id": "4da656f8",
   "metadata": {},
   "outputs": [
    {
     "name": "stdout",
     "output_type": "stream",
     "text": [
      "0\n",
      "1\n",
      "2\n",
      "3\n",
      "4\n",
      "5\n",
      "6\n",
      "7\n",
      "8\n",
      "9\n",
      "10\n",
      "11\n",
      "12\n",
      "13\n",
      "14\n",
      "15\n",
      "16\n",
      "17\n",
      "18\n",
      "19\n",
      "20\n",
      "21\n",
      "22\n",
      "23\n",
      "24\n",
      "25\n",
      "26\n",
      "27\n",
      "28\n",
      "29\n",
      "30\n",
      "31\n",
      "32\n",
      "33\n",
      "34\n",
      "35\n",
      "36\n",
      "37\n",
      "38\n",
      "39\n",
      "40\n",
      "41\n",
      "42\n",
      "43\n",
      "44\n",
      "45\n",
      "46\n",
      "47\n",
      "48\n",
      "49\n"
     ]
    }
   ],
   "source": [
    "cluster_size500=500\n",
    "steps=t*cadence\n",
    "L500=np.zeros((cluster_size500,steps))\n",
    "C500=np.zeros((cluster_size500,steps))\n",
    "prob500=1/(100*30)\n",
    "\n",
    "#1 bin\n",
    "burst_total500=[]\n",
    "burst_num500=[]\n",
    "final_burst500=[]\n",
    "final_L500=[]\n",
    "final_C500=[]\n",
    "\n",
    "for i in range(run):\n",
    "    print(i)\n",
    "    burst500=np.ones((cluster_size500,steps))\n",
    "    L500=np.zeros((cluster_size500,steps))\n",
    "    C500=np.zeros((cluster_size500,steps))\n",
    "    values500=bursts1(t,500,prob500,L500,burst500,C500)\n",
    "    burst_total500.append(values50[0])\n",
    "    burst_num500.append(values500[1])\n",
    "    final_burst500.append(values500[2])\n",
    "    final_L500.append(values500[3])\n",
    "    final_C500.append(values500[4])"
   ]
  },
  {
   "cell_type": "code",
   "execution_count": 23,
   "id": "0b43815f",
   "metadata": {},
   "outputs": [],
   "source": [
    "#write output files\n",
    "values500_table=Table()\n",
    "values500_table['burst_total']=burst_total500\n",
    "values500_table['burst_number']=burst_num500 \n",
    "ascii.write(values500_table,'/Users/rachellee/Downloads/data/cluster_size_change/values500_2week',\\\n",
    "            format='ecsv',overwrite=True)\n",
    "\n",
    "np.save('/Users/rachellee/Downloads/data/cluster_size_change/burst500.npy',final_burst500)\n",
    "np.save('/Users/rachellee/Downloads/data/cluster_size_change/L500.npy',final_L500)\n",
    "np.save('/Users/rachellee/Downloads/data/cluster_size_change/C500.npy',final_C500)"
   ]
  },
  {
   "cell_type": "code",
   "execution_count": 24,
   "id": "1c3c6134",
   "metadata": {},
   "outputs": [],
   "source": [
    "cadence_num_bursts500=[]\n",
    "for i in range(run):\n",
    "    for j in t_list_cadence:\n",
    "        cadence_num_bursts500.append(burst_num500[i][j])"
   ]
  },
  {
   "cell_type": "markdown",
   "id": "7dea9529",
   "metadata": {},
   "source": [
    "## 1000 stars"
   ]
  },
  {
   "cell_type": "code",
   "execution_count": 26,
   "id": "ffb2062a",
   "metadata": {},
   "outputs": [
    {
     "name": "stdout",
     "output_type": "stream",
     "text": [
      "0\n",
      "1\n",
      "2\n",
      "3\n",
      "4\n",
      "5\n",
      "6\n",
      "7\n",
      "8\n",
      "9\n",
      "10\n",
      "11\n",
      "12\n",
      "13\n",
      "14\n",
      "15\n",
      "16\n",
      "17\n",
      "18\n",
      "19\n",
      "20\n",
      "21\n",
      "22\n",
      "23\n",
      "24\n",
      "25\n",
      "26\n",
      "27\n",
      "28\n",
      "29\n",
      "30\n",
      "31\n",
      "32\n",
      "33\n",
      "34\n",
      "35\n",
      "36\n",
      "37\n",
      "38\n",
      "39\n",
      "40\n",
      "41\n",
      "42\n",
      "43\n",
      "44\n",
      "45\n",
      "46\n",
      "47\n",
      "48\n",
      "49\n"
     ]
    }
   ],
   "source": [
    "cluster_size1000=1000\n",
    "steps=t*cadence\n",
    "L1000=np.zeros((cluster_size1000,steps))\n",
    "C1000=np.zeros((cluster_size1000,steps))\n",
    "prob1000=1/(100*30)\n",
    "\n",
    "#1 bin\n",
    "burst_total1000=[]\n",
    "burst_num1000=[]\n",
    "final_burst1000=[]\n",
    "final_L1000=[]\n",
    "final_C1000=[]\n",
    "\n",
    "for i in range(run):\n",
    "    print(i)\n",
    "    burst1000=np.ones((cluster_size1000,steps))\n",
    "    L1000=np.zeros((cluster_size1000,steps))\n",
    "    C1000=np.zeros((cluster_size1000,steps))\n",
    "    values1000=bursts1(t,1000,prob1000,L1000,burst1000,C1000)\n",
    "    burst_total1000.append(values1000[0])\n",
    "    burst_num1000.append(values1000[1])\n",
    "    final_burst1000.append(values1000[2])\n",
    "    final_L1000.append(values1000[3])\n",
    "    final_C1000.append(values1000[4])"
   ]
  },
  {
   "cell_type": "code",
   "execution_count": 27,
   "id": "a078e6fd",
   "metadata": {},
   "outputs": [],
   "source": [
    "#write output files\n",
    "values1000_table=Table()\n",
    "values1000_table['burst_total']=burst_total1000\n",
    "values1000_table['burst_number']=burst_num1000\n",
    "ascii.write(values1000_table,'/Users/rachellee/Downloads/data/cluster_size_change/values1000_2week',\\\n",
    "            format='ecsv',overwrite=True)\n",
    "\n",
    "np.save('/Users/rachellee/Downloads/data/cluster_size_change/burst1000.npy',final_burst1000)\n",
    "np.save('/Users/rachellee/Downloads/data/cluster_size_change/L1000.npy',final_L1000)\n",
    "np.save('/Users/rachellee/Downloads/data/cluster_size_change/C1000.npy',final_C1000)"
   ]
  },
  {
   "cell_type": "code",
   "execution_count": 28,
   "id": "2ebd6024",
   "metadata": {},
   "outputs": [],
   "source": [
    "cadence_num_bursts1000=[]\n",
    "for i in range(run):\n",
    "    for j in t_list_cadence:\n",
    "        cadence_num_bursts1000.append(burst_num1000[i][j])"
   ]
  },
  {
   "cell_type": "markdown",
   "id": "18579555",
   "metadata": {},
   "source": [
    "## 2000 stars"
   ]
  },
  {
   "cell_type": "code",
   "execution_count": 29,
   "id": "afec6c78",
   "metadata": {},
   "outputs": [
    {
     "name": "stdout",
     "output_type": "stream",
     "text": [
      "0\n",
      "1\n",
      "2\n",
      "3\n",
      "4\n",
      "5\n",
      "6\n",
      "7\n",
      "8\n",
      "9\n",
      "10\n",
      "11\n",
      "12\n",
      "13\n",
      "14\n",
      "15\n",
      "16\n",
      "17\n",
      "18\n",
      "19\n",
      "20\n",
      "21\n",
      "22\n",
      "23\n",
      "24\n",
      "25\n",
      "26\n",
      "27\n",
      "28\n",
      "29\n",
      "30\n",
      "31\n",
      "32\n",
      "33\n",
      "34\n",
      "35\n",
      "36\n",
      "37\n",
      "38\n",
      "39\n",
      "40\n",
      "41\n",
      "42\n",
      "43\n",
      "44\n",
      "45\n",
      "46\n",
      "47\n",
      "48\n",
      "49\n"
     ]
    }
   ],
   "source": [
    "cluster_size2000=2000\n",
    "steps=t*cadence\n",
    "L2000=np.zeros((cluster_size2000,steps))\n",
    "C2000=np.zeros((cluster_size2000,steps))\n",
    "prob2000=1/(100*30)\n",
    "\n",
    "#1 bin\n",
    "burst_total2000=[]\n",
    "burst_num2000=[]\n",
    "final_burst2000=[]\n",
    "final_L2000=[]\n",
    "final_C2000=[]\n",
    "\n",
    "for i in range(run):\n",
    "    print(i)\n",
    "    burst2000=np.ones((cluster_size2000,steps))\n",
    "    L2000=np.zeros((cluster_size2000,steps))\n",
    "    C2000=np.zeros((cluster_size2000,steps))\n",
    "    values2000=bursts1(t,2000,prob2000,L2000,burst2000,C2000)\n",
    "    burst_total2000.append(values2000[0])\n",
    "    burst_num2000.append(values2000[1])\n",
    "    final_burst2000.append(values2000[2])\n",
    "    final_L2000.append(values2000[3])\n",
    "    final_C2000.append(values2000[4])"
   ]
  },
  {
   "cell_type": "code",
   "execution_count": 30,
   "id": "2bf84a25",
   "metadata": {},
   "outputs": [],
   "source": [
    "#write output files\n",
    "values2000_table=Table()\n",
    "values2000_table['burst_total']=burst_total2000\n",
    "values2000_table['burst_number']=burst_num2000\n",
    "ascii.write(values2000_table,'/Users/rachellee/Downloads/data/cluster_size_change/values2000_2week',\\\n",
    "            format='ecsv',overwrite=True)\n",
    "\n",
    "np.save('/Users/rachellee/Downloads/data/cluster_size_change/burst2000.npy',final_burst2000)\n",
    "np.save('/Users/rachellee/Downloads/data/cluster_size_change/L2000.npy',final_L2000)\n",
    "np.save('/Users/rachellee/Downloads/data/cluster_size_change/C2000.npy',final_C2000)"
   ]
  },
  {
   "cell_type": "code",
   "execution_count": 31,
   "id": "c5c2bbff",
   "metadata": {},
   "outputs": [],
   "source": [
    "cadence_num_bursts2000=[]\n",
    "for i in range(run):\n",
    "    for j in t_list_cadence:\n",
    "        cadence_num_bursts2000.append(burst_num2000[i][j])"
   ]
  },
  {
   "cell_type": "markdown",
   "id": "ec153989",
   "metadata": {},
   "source": [
    "## 5000 stars"
   ]
  },
  {
   "cell_type": "code",
   "execution_count": 32,
   "id": "e7f153cc",
   "metadata": {},
   "outputs": [
    {
     "name": "stdout",
     "output_type": "stream",
     "text": [
      "0\n",
      "1\n",
      "2\n",
      "3\n",
      "4\n",
      "5\n",
      "6\n",
      "7\n",
      "8\n",
      "9\n",
      "10\n",
      "11\n",
      "12\n",
      "13\n",
      "14\n",
      "15\n",
      "16\n",
      "17\n",
      "18\n",
      "19\n",
      "20\n",
      "21\n",
      "22\n",
      "23\n",
      "24\n",
      "25\n",
      "26\n",
      "27\n",
      "28\n",
      "29\n",
      "30\n",
      "31\n",
      "32\n",
      "33\n",
      "34\n",
      "35\n",
      "36\n",
      "37\n",
      "38\n",
      "39\n",
      "40\n",
      "41\n",
      "42\n",
      "43\n",
      "44\n",
      "45\n",
      "46\n",
      "47\n",
      "48\n",
      "49\n"
     ]
    }
   ],
   "source": [
    "cluster_size5000=5000\n",
    "steps=t*cadence\n",
    "L5000=np.zeros((cluster_size5000,steps))\n",
    "C5000=np.zeros((cluster_size5000,steps))\n",
    "prob5000=1/(100*30)\n",
    "\n",
    "#1 bin\n",
    "burst_total5000=[]\n",
    "burst_num5000=[]\n",
    "final_burst5000=[]\n",
    "final_L5000=[]\n",
    "final_C5000=[]\n",
    "\n",
    "for i in range(run):\n",
    "    print(i)\n",
    "    burst5000=np.ones((cluster_size5000,steps))\n",
    "    L5000=np.zeros((cluster_size5000,steps))\n",
    "    C5000=np.zeros((cluster_size5000,steps))\n",
    "    values5000=bursts1(t,5000,prob5000,L5000,burst5000,C5000)\n",
    "    burst_total5000.append(values500[0])\n",
    "    burst_num5000.append(values5000[1])\n",
    "    final_burst5000.append(values5000[2])\n",
    "    final_L5000.append(values5000[3])\n",
    "    final_C5000.append(values5000[4])"
   ]
  },
  {
   "cell_type": "code",
   "execution_count": 33,
   "id": "f4c47af3",
   "metadata": {},
   "outputs": [],
   "source": [
    "#write output files\n",
    "values5000_table=Table()\n",
    "values5000_table['burst_total']=burst_total5000\n",
    "values5000_table['burst_number']=burst_num5000\n",
    "ascii.write(values5000_table,'/Users/rachellee/Downloads/data/cluster_size_change/values5000_2week',\\\n",
    "            format='ecsv',overwrite=True)\n",
    "\n",
    "np.save('/Users/rachellee/Downloads/data/cluster_size_change/burst5000.npy',final_burst5000)\n",
    "np.save('/Users/rachellee/Downloads/data/cluster_size_change/L5000.npy',final_L5000)\n",
    "np.save('/Users/rachellee/Downloads/data/cluster_size_change/C5000.npy',final_C5000)"
   ]
  },
  {
   "cell_type": "code",
   "execution_count": 34,
   "id": "7732f724",
   "metadata": {},
   "outputs": [],
   "source": [
    "cadence_num_bursts5000=[]\n",
    "for i in range(run):\n",
    "    for j in t_list_cadence:\n",
    "        cadence_num_bursts5000.append(burst_num5000[i][j])"
   ]
  },
  {
   "cell_type": "code",
   "execution_count": 78,
   "id": "6c10b61c",
   "metadata": {},
   "outputs": [],
   "source": [
    "#calculate the mean of each time step\n",
    "t_list_years=[200,220,220.5,221,221.5,222,222.5,223,223.5,224,224.5,225]\n",
    "t_list_cadence=[int(i*2) for i in t_list_years]\n",
    "\n",
    "t_list_years=[200,220,220.5,221,221.5,222,222.5,223,223.5,224,224.5,225]\n",
    "t_list_cadence=[int(i*2) for i in t_list_years]"
   ]
  },
  {
   "cell_type": "code",
   "execution_count": 79,
   "id": "db7774cc",
   "metadata": {},
   "outputs": [],
   "source": [
    "#find mean and std of each star cluster at the cadence times\n",
    "mean_frac50=np.mean(cadence_frac_bursts50)\n",
    "std_frac50=np.std(cadence_frac_bursts50)\n",
    "mean_frac100=np.mean(cadence_frac_bursts100)\n",
    "std_frac100=np.std(cadence_frac_bursts100)\n",
    "mean_frac500=np.mean(cadence_frac_bursts500)\n",
    "std_frac500=np.std(cadence_frac_bursts500)\n",
    "mean_frac1000=np.mean(cadence_frac_bursts1000)\n",
    "std_frac1000=np.std(cadence_frac_bursts1000)\n",
    "mean_frac2000=np.mean(cadence_frac_bursts2000)\n",
    "std_frac2000=np.std(cadence_frac_bursts2000)\n",
    "mean_frac5000=np.mean(cadence_frac_bursts5000)\n",
    "std_frac5000=np.std(cadence_frac_bursts5000)\n",
    "\n",
    "#put them in a list\n",
    "mean_frac=[mean_frac50,mean_frac100,mean_frac500,mean_frac1000,mean_frac2000,mean_frac5000]\n",
    "std_frac=[std_frac50,std_frac100,std_frac500,std_frac1000,std_frac2000,std_frac5000]\n",
    "number=[50,100,500,1000,2000,5000]"
   ]
  },
  {
   "cell_type": "code",
   "execution_count": 80,
   "id": "08bf8a33",
   "metadata": {},
   "outputs": [
    {
     "data": {
      "text/plain": [
       "Text(0.5, 1.0, 'Mean Fraction of Stars with 100x Burst for Different Cluster Sizes')"
      ]
     },
     "execution_count": 80,
     "metadata": {},
     "output_type": "execute_result"
    },
    {
     "data": {
      "image/png": "[encoded data removed]",
      "text/plain": [
       "<Figure size 648x576 with 1 Axes>"
      ]
     },
     "metadata": {
      "needs_background": "light"
     },
     "output_type": "display_data"
    }
   ],
   "source": [
    "fig,ax=plt.subplots()\n",
    "fig.set_size_inches(9,8)\n",
    "x=[2000]\n",
    "ax.errorbar(number,mean_frac,yerr=std_frac,fmt='|',capsize=5,color='black')\n",
    "ax.errorbar(x,mean_frac2000,yerr=std_frac2000,fmt='|',capsize=5,color='blue')\n",
    "ax.axhline(0.01,color='red')\n",
    "ax.set_xscale('log')\n",
    "ax.set_xlabel('Number of Stars in Cluster',font='serif',fontsize=13)\n",
    "ax.set_ylabel('Fraction of Stars',font='serif',fontsize=13)\n",
    "ax.set_title('Mean Fraction of Stars with 100x Burst for Different Cluster Sizes',font='serif',fontsize=15)"
   ]
  },
  {
   "cell_type": "code",
   "execution_count": 87,
   "id": "00438433",
   "metadata": {},
   "outputs": [
    {
     "data": {
      "image/png": "[encoded data removed]",
      "text/plain": [
       "<Figure size 648x576 with 1 Axes>"
      ]
     },
     "metadata": {
      "needs_background": "light"
     },
     "output_type": "display_data"
    }
   ],
   "source": [
    "data=[cadence_frac_bursts50,cadence_frac_bursts100,cadence_frac_bursts500,cadence_frac_bursts1000,\\\n",
    "      cadence_frac_bursts2000,cadence_frac_bursts5000]\n",
    "labels=[50,100,500,1000,2000,5000]\n",
    "fig,ax=plt.subplots()\n",
    "fig.set_size_inches(9,8)\n",
    "ax.violinplot(data,vert=True, widths=0.5, showmeans=True, showextrema=True, showmedians=False)\n",
    "ax.axhline(0.01,color='red',lw=1)\n",
    "ax.text(5.5,0.080,r'$\\Delta$t=6 months',font='serif',fontsize=12)\n",
    "plt.xticks([1,2,3,4,5,6,],['50','100','500','1000','2000','5000'])\n",
    "ax.set_xlabel('Number of Stars in Cluster',font='serif',fontsize=13)\n",
    "ax.set_ylabel('Fraction of Stars',font='serif',fontsize=13)\n",
    "ax.set_title('Fraction of Stars with 100x Burst for Different Cluster Sizes',font='serif',fontsize=15)\n",
    "plt.plot()\n",
    "plt.savefig('/Users/rachellee/Desktop/research/figs/SizeChange/violinplots/fraction/violin_plot_50run_clustersize_fraction_6month.jpeg',dpi=300,bbox_inches='tight')"
   ]
  },
  {
   "cell_type": "code",
   "execution_count": 83,
   "id": "87d604aa",
   "metadata": {},
   "outputs": [],
   "source": [
    "data_num=[cadence_num_bursts50,cadence_num_bursts100,cadence_num_bursts500,cadence_num_bursts1000,\\\n",
    "         cadence_num_bursts2000,cadence_num_bursts5000]\n",
    "\n",
    "cadence_new50=[]\n",
    "cadence_new100=[]\n",
    "cadence_new500=[]\n",
    "cadence_new1000=[]\n",
    "cadence_new2000=[]\n",
    "cadence_new5000=[]\n",
    "for i in range(len(cadence_num_bursts50)):\n",
    "    #if cadence_num_bursts50[i]==0:\n",
    "    #    cadence_new50.append(0.1)\n",
    "    if cadence_num_bursts50[i]!=0:\n",
    "        cadence_new50.append(cadence_num_bursts50[i])\n",
    "        \n",
    "for i in range(len(cadence_num_bursts100)):\n",
    "    #if cadence_num_bursts100[i]==0:\n",
    "    #    cadence_new100.append(0.1)\n",
    "    if cadence_num_bursts100[i]!=0:\n",
    "        cadence_new100.append(cadence_num_bursts100[i])\n",
    "        \n",
    "for i in range(len(cadence_num_bursts500)):\n",
    "    #if cadence_num_bursts500[i]==0:\n",
    "    #    cadence_new500.append(0.1)\n",
    "    if cadence_num_bursts500[i]!=0:\n",
    "        cadence_new500.append(cadence_num_bursts500[i])\n",
    "        \n",
    "for i in range(len(cadence_num_bursts1000)):\n",
    "    #if cadence_num_bursts1000[i]==0:\n",
    "    #    cadence_new1000.append(0.1)\n",
    "    if cadence_num_bursts1000[i]!=0:\n",
    "        cadence_new1000.append(cadence_num_bursts1000[i])\n",
    "        \n",
    "for i in range(len(cadence_num_bursts2000)):\n",
    "    #if cadence_num_bursts2000[i]==0:\n",
    "    #    cadence_new2000.append(0.1)\n",
    "    if cadence_num_bursts2000[i]!=0:\n",
    "        cadence_new2000.append(cadence_num_bursts2000[i])\n",
    "\n",
    "for i in range(len(cadence_num_bursts5000)):\n",
    "    #if cadence_num_bursts5000[i]==0:\n",
    "    #    cadence_new5000.append(0.1)\n",
    "    if cadence_num_bursts5000[i]!=0:\n",
    "        cadence_new5000.append(cadence_num_bursts5000[i])\n",
    "        \n",
    "data_num_log=[cadence_new50,cadence_new100,cadence_new500,cadence_new1000,cadence_new2000,cadence_new5000]"
   ]
  },
  {
   "cell_type": "code",
   "execution_count": 88,
   "id": "45e25fcb",
   "metadata": {},
   "outputs": [
    {
     "data": {
      "image/png": "[encoded data removed]",
      "text/plain": [
       "<Figure size 648x576 with 1 Axes>"
      ]
     },
     "metadata": {
      "needs_background": "light"
     },
     "output_type": "display_data"
    }
   ],
   "source": [
    "data_num=[cadence_num_bursts50,cadence_num_bursts100,cadence_num_bursts500,cadence_num_bursts1000,\\\n",
    "         cadence_num_bursts2000,cadence_num_bursts5000]\n",
    "\n",
    "labels=[50,100,500,1000,2000,5000]\n",
    "fig,ax=plt.subplots()\n",
    "fig.set_size_inches(9,8)\n",
    "ax.violinplot(data_num_log,vert=True, widths=0.5, showmeans=True, showextrema=True, showmedians=False)\n",
    "ax.text(0.75,69,r'$\\Delta$t=6 months',font='serif',fontsize=12)\n",
    "plt.xticks([1,2,3,4,5,6,],['50','100','500','1000','2000','5000'])\n",
    "ax.set_xlabel('Number of Stars in Cluster',font='serif',fontsize=13)\n",
    "ax.set_ylabel('Number of Stars',font='serif',fontsize=13)\n",
    "ax.set_title('Number of Stars with 100x Burst for Different Cluster Sizes',font='serif',fontsize=15)\n",
    "plt.yscale('log')\n",
    "plt.plot()\n",
    "plt.savefig('/Users/rachellee/Desktop/research/figs/SizeChange/violinplots/number/violin_plot_50run_clustersize_number_6month_log.jpeg')"
   ]
  },
  {
   "cell_type": "code",
   "execution_count": 90,
   "id": "21c72d07",
   "metadata": {},
   "outputs": [
    {
     "data": {
      "image/png": "[encoded data removed]",
      "text/plain": [
       "<Figure size 648x576 with 1 Axes>"
      ]
     },
     "metadata": {
      "needs_background": "light"
     },
     "output_type": "display_data"
    }
   ],
   "source": [
    "data_num=[cadence_num_bursts50,cadence_num_bursts100,cadence_num_bursts500,cadence_num_bursts1000,\\\n",
    "         cadence_num_bursts2000,cadence_num_bursts5000]\n",
    "\n",
    "labels=[50,100,500,1000,2000,5000]\n",
    "fig,ax=plt.subplots()\n",
    "fig.set_size_inches(9,8)\n",
    "ax.violinplot(data_num,vert=True, widths=0.5, showmeans=True, showextrema=True, showmedians=False)\n",
    "ax.text(0.75,68,r'$\\Delta$t=6 months',font='serif',fontsize=12)\n",
    "plt.xticks([1,2,3,4,5,6,],['50','100','500','1000','2000','5000'])\n",
    "ax.set_xlabel('Number of Stars in Cluster',font='serif',fontsize=13)\n",
    "ax.set_ylabel('Number of Stars',font='serif',fontsize=13)\n",
    "ax.set_title('Number of Stars with 100x Burst for Different Cluster Sizes',font='serif',fontsize=15)\n",
    "plt.plot()\n",
    "plt.savefig('/Users/rachellee/Desktop/research/figs/SizeChange/violinplots/number/violin_plot_50run_clustersize_number_6month_normal.jpeg')"
   ]
  },
  {
   "cell_type": "code",
   "execution_count": 108,
   "id": "4423dce2",
   "metadata": {},
   "outputs": [],
   "source": [
    "values50table_2week=ascii.read('/Users/rachellee/Desktop/research/data/cluster_size_change/values50_2week')\n",
    "burst_total50_2week=values50table_2week['burst_total'] \n",
    "burst_fraction50_2week=values50table_2week['burst_number'] \n",
    "fraction50_2week=values50table_2week['burst_fraction']\n",
    "\n",
    "values100table_2week=ascii.read('/Users/rachellee/Desktop/research/data/cluster_size_change/values100_2week')\n",
    "burst_total100_2week=values100table_2week['burst_total'] \n",
    "burst_fraction100_2week=values100table_2week['burst_number'] \n",
    "fraction100_2week=values100table_2week['burst_fraction']\n",
    "\n",
    "values500table_2week=ascii.read('/Users/rachellee/Desktop/research/data/cluster_size_change/values500_2week')\n",
    "burst_total500_2week=values500table_2week['burst_total'] \n",
    "burst_fraction500_2week=values500table_2week['burst_number'] \n",
    "fraction500_2week=values500table_2week['burst_fraction']\n",
    "\n",
    "values1000table_2week=ascii.read('/Users/rachellee/Desktop/research/data/cluster_size_change/values1000_2week')\n",
    "burst_total1000_2week=values1000table_2week['burst_total'] \n",
    "burst_fraction1000_2week=values1000table_2week['burst_number'] \n",
    "fraction1000_2week=values1000table_2week['burst_fraction']\n",
    "\n",
    "values2000table_2week=ascii.read('/Users/rachellee/Desktop/research/data/cluster_size_change/values2000_2week')\n",
    "burst_total2000_2week=values2000table_2week['burst_total'] \n",
    "burst_fraction2000_2week=values2000table_2week['burst_number'] \n",
    "fraction2000_2week=values2000table_2week['burst_fraction']\n",
    "\n",
    "values5000table_2week=ascii.read('/Users/rachellee/Desktop/research/data/cluster_size_change/values5000_2week')\n",
    "burst_total5000_2week=values5000table_2week['burst_total'] \n",
    "burst_fraction5000_2week=values5000table_2week['burst_number'] \n",
    "fraction5000_2week=values5000table_2week['burst_fraction']"
   ]
  },
  {
   "cell_type": "code",
   "execution_count": 112,
   "id": "04d3d6e2",
   "metadata": {},
   "outputs": [],
   "source": [
    "t_list_years=[200,220,220.5,221,221.5,222,222.5,223,223.5,224,224.5,225]\n",
    "t_list_cadence=[int(i*26) for i in t_list_years]"
   ]
  },
  {
   "cell_type": "code",
   "execution_count": 113,
   "id": "a783b744",
   "metadata": {},
   "outputs": [
    {
     "name": "stdout",
     "output_type": "stream",
     "text": [
      "[40, 43, 42, 42, 42, 41, 42, 44, 44, 44, 44, 44, 57, 48, 48, 47, 48, 46, 46, 46, 47, 48, 49, 50, 56, 41, 40, 39, 37, 37, 38, 37, 39, 41, 38, 38, 46, 51, 52, 53, 51, 52, 52, 54, 55, 55, 54, 54, 35, 48, 48, 50, 49, 48, 47, 46, 48, 47, 46, 46, 51, 43, 44, 46, 46, 46, 48, 49, 47, 46, 45, 44, 58, 69, 70, 70, 68, 67, 70, 67, 69, 69, 68, 67, 55, 49, 48, 49, 48, 48, 46, 48, 48, 48, 49, 47, 51, 44, 43, 42, 40, 40, 40, 41, 41, 41, 39, 39, 47, 46, 48, 47, 47, 48, 49, 50, 52, 52, 51, 48, 47, 41, 41, 41, 42, 45, 43, 43, 44, 44, 43, 41, 47, 55, 55, 55, 56, 56, 55, 56, 56, 57, 56, 57, 44, 34, 34, 37, 35, 35, 36, 35, 34, 34, 35, 36, 54, 60, 63, 63, 62, 62, 59, 62, 63, 63, 65, 64, 52, 41, 39, 37, 36, 36, 37, 38, 40, 40, 41, 40, 45, 42, 42, 43, 43, 43, 43, 42, 41, 41, 41, 40, 45, 45, 47, 47, 47, 49, 49, 48, 50, 50, 50, 49, 35, 48, 47, 48, 48, 49, 51, 52, 52, 53, 57, 58, 50, 60, 58, 58, 58, 58, 58, 57, 57, 58, 58, 57, 53, 47, 49, 50, 51, 49, 50, 50, 49, 49, 47, 47, 42, 49, 47, 48, 47, 45, 44, 44, 43, 43, 45, 45, 59, 42, 42, 43, 44, 45, 46, 45, 45, 44, 44, 43, 50, 37, 37, 39, 39, 39, 39, 41, 38, 37, 38, 39, 57, 42, 43, 46, 50, 47, 46, 46, 45, 45, 44, 44, 48, 66, 69, 69, 69, 68, 66, 66, 65, 67, 68, 67, 56, 56, 52, 51, 52, 51, 51, 52, 52, 51, 50, 49, 46, 62, 61, 63, 62, 61, 62, 62, 63, 61, 63, 63, 56, 47, 46, 46, 46, 48, 47, 50, 48, 46, 45, 44, 46, 51, 51, 51, 52, 52, 50, 50, 49, 50, 52, 52, 52, 56, 54, 55, 55, 53, 53, 52, 52, 53, 52, 52, 45, 59, 59, 56, 55, 55, 54, 54, 53, 52, 53, 56, 43, 41, 40, 41, 41, 40, 40, 40, 40, 42, 43, 44, 47, 43, 43, 43, 43, 44, 45, 45, 45, 43, 43, 44, 61, 57, 57, 55, 55, 56, 56, 55, 57, 57, 59, 58, 53, 45, 44, 47, 48, 48, 48, 47, 46, 47, 47, 48, 54, 39, 39, 39, 38, 37, 39, 39, 40, 40, 40, 40, 50, 49, 50, 48, 47, 46, 46, 45, 42, 40, 41, 41, 41, 55, 56, 57, 62, 62, 62, 63, 62, 62, 61, 62, 44, 46, 47, 49, 48, 48, 49, 49, 48, 48, 48, 48, 47, 58, 59, 59, 58, 59, 58, 57, 59, 60, 60, 59, 54, 43, 44, 46, 48, 47, 47, 47, 47, 46, 45, 44, 46, 44, 44, 43, 43, 41, 41, 41, 41, 41, 41, 40, 44, 38, 40, 41, 41, 41, 41, 41, 40, 43, 43, 42, 57, 53, 52, 52, 52, 54, 55, 54, 54, 53, 52, 48, 41, 40, 41, 41, 40, 40, 40, 41, 40, 40, 41, 42, 56, 53, 54, 53, 54, 55, 56, 55, 55, 55, 53, 52, 48, 49, 51, 50, 48, 49, 48, 48, 49, 48, 46, 45, 47, 49, 48, 46, 46, 46, 46, 45, 47, 47, 47, 48, 38, 42, 43, 45, 45, 45, 45, 44, 43, 43, 46, 47, 53, 60, 57, 56, 58, 57, 57, 58, 57, 54, 55, 56]\n"
     ]
    }
   ],
   "source": [
    "cadence_frac_bursts50_2week=[]\n",
    "cadence_num_bursts50_2week=[]\n",
    "for i in range(run):\n",
    "    for j in t_list_cadence:\n",
    "        cadence_frac_bursts50_2week.append(fraction50_2week[i][j])\n",
    "        cadence_num_bursts50_2week.append(burst_fraction50_2week[i][j])\n",
    "        \n",
    "cadence_frac_bursts100_2week=[]\n",
    "cadence_num_bursts100_2week=[]\n",
    "for i in range(run):\n",
    "    for j in t_list_cadence:\n",
    "        cadence_frac_bursts100_2week.append(fraction100_2week[i][j])\n",
    "        cadence_num_bursts100_2week.append(burst_fraction100_2week[i][j])\n",
    "        \n",
    "cadence_frac_bursts500_2week=[]\n",
    "cadence_num_bursts500_2week=[]\n",
    "for i in range(run):\n",
    "    for j in t_list_cadence:\n",
    "        cadence_frac_bursts500_2week.append(fraction500_2week[i][j])\n",
    "        cadence_num_bursts500_2week.append(burst_fraction500_2week[i][j])\n",
    "        \n",
    "cadence_frac_bursts1000_2week=[]\n",
    "cadence_num_bursts1000_2week=[]\n",
    "for i in range(run):\n",
    "    for j in t_list_cadence:\n",
    "        cadence_frac_bursts1000_2week.append(fraction1000_2week[i][j])\n",
    "        cadence_num_bursts1000_2week.append(burst_fraction1000_2week[i][j])\n",
    "        \n",
    "cadence_frac_bursts2000_2week=[]\n",
    "cadence_num_bursts2000_2week=[]\n",
    "for i in range(run):\n",
    "    for j in t_list_cadence:\n",
    "        cadence_frac_bursts2000_2week.append(fraction2000_2week[i][j])\n",
    "        cadence_num_bursts2000_2week.append(burst_fraction2000_2week[i][j])\n",
    "\n",
    "cadence_frac_bursts5000_2week=[]\n",
    "cadence_num_bursts5000_2week=[]\n",
    "for i in range(run):\n",
    "    for j in t_list_cadence:\n",
    "        cadence_frac_bursts5000_2week.append(fraction5000_2week[i][j])\n",
    "        cadence_num_bursts5000_2week.append(burst_fraction5000_2week[i][j])\n",
    "\n",
    "print(cadence_num_bursts5000_2week)"
   ]
  },
  {
   "cell_type": "code",
   "execution_count": 115,
   "id": "bfba09b2",
   "metadata": {},
   "outputs": [
    {
     "data": {
      "image/png": "[encoded data removed]",
      "text/plain": [
       "<Figure size 648x576 with 1 Axes>"
      ]
     },
     "metadata": {
      "needs_background": "light"
     },
     "output_type": "display_data"
    }
   ],
   "source": [
    "data_num_2week=[cadence_num_bursts50_2week,cadence_num_bursts100_2week,cadence_num_bursts500_2week,\\\n",
    "                cadence_num_bursts1000_2week,cadence_num_bursts2000_2week,cadence_num_bursts5000_2week]\n",
    "\n",
    "labels=[50,100,500,1000,2000,5000]\n",
    "fig,ax=plt.subplots()\n",
    "fig.set_size_inches(9,8)\n",
    "ax.violinplot(data_num_2week,vert=True, widths=0.5, showmeans=True, showextrema=True, showmedians=False)\n",
    "plt.xticks([1,2,3,4,5,6,],['50','100','500','1000','2000','5000'])\n",
    "ax.set_xlabel('Number of Stars in Cluster',font='serif',fontsize=13)\n",
    "ax.set_ylabel('Number of Stars',font='serif',fontsize=13)\n",
    "ax.set_title('Number of Stars with 100x Burst for Different Cluster Sizes',font='serif',fontsize=15)\n",
    "plt.plot()\n",
    "plt.savefig('/Users/rachellee/Desktop/research/figs/SizeChange/violinplots/number/violin_plot_50run_clustersize_number_2week_normal.jpeg',dpi=300,bbox_inches='tight')"
   ]
  },
  {
   "cell_type": "code",
   "execution_count": null,
   "id": "ab2e6f89",
   "metadata": {},
   "outputs": [],
   "source": []
  }
 ],
 "metadata": {
  "kernelspec": {
   "display_name": "Python 3 (ipykernel)",
   "language": "python",
   "name": "python3"
  },
  "language_info": {
   "codemirror_mode": {
    "name": "ipython",
    "version": 3
   },
   "file_extension": ".py",
   "mimetype": "text/x-python",
   "name": "python",
   "nbconvert_exporter": "python",
   "pygments_lexer": "ipython3",
   "version": "3.8.10"
  }
 },
 "nbformat": 4,
 "nbformat_minor": 5
}
