{
 "cells": [
  {
   "cell_type": "code",
   "execution_count": 1,
   "id": "316f509d",
   "metadata": {},
   "outputs": [],
   "source": [
    "import math\n",
    "import numpy as np"
   ]
  },
  {
   "cell_type": "code",
   "execution_count": 78,
   "id": "cb83ca35",
   "metadata": {},
   "outputs": [],
   "source": [
    "def my_probability(burst,bins,duration):\n",
    "    prob=(1/(2*bins))/((burst-((burst-1)/(2*bins))))/duration\n",
    "    return prob"
   ]
  },
  {
   "cell_type": "code",
   "execution_count": 79,
   "id": "0c858dec",
   "metadata": {},
   "outputs": [
    {
     "name": "stdout",
     "output_type": "stream",
     "text": [
      "9.082652134423252e-06\n"
     ]
    }
   ],
   "source": [
    "print(my_probability(100,6,100))"
   ]
  },
  {
   "cell_type": "code",
   "execution_count": 50,
   "id": "05ebf17a",
   "metadata": {},
   "outputs": [],
   "source": [
    "def doug_probability(burst,bins,episodic_percent):\n",
    "    prob=episodic_percent/(bins*(burst-1))\n",
    "    return prob"
   ]
  },
  {
   "cell_type": "code",
   "execution_count": 51,
   "id": "bbe4abd7",
   "metadata": {},
   "outputs": [
    {
     "name": "stdout",
     "output_type": "stream",
     "text": [
      "0.0025252525252525255\n"
     ]
    }
   ],
   "source": [
    "print(doug_probability(100,4,1))"
   ]
  },
  {
   "cell_type": "code",
   "execution_count": 52,
   "id": "f3b3b6ad",
   "metadata": {},
   "outputs": [],
   "source": [
    "def number_burst(duration,probability,timeline,cluster_size):\n",
    "    number=cluster_size*timeline*probability/duration\n",
    "    return number"
   ]
  },
  {
   "cell_type": "code",
   "execution_count": 57,
   "id": "85b92ff7",
   "metadata": {
    "scrolled": true
   },
   "outputs": [
    {
     "name": "stdout",
     "output_type": "stream",
     "text": [
      "0.6313131313131314\n"
     ]
    }
   ],
   "source": [
    "print(number_burst(100,doug_probability(100,4,1),25,1000))"
   ]
  },
  {
   "cell_type": "code",
   "execution_count": 58,
   "id": "7422a612",
   "metadata": {},
   "outputs": [
    {
     "name": "stdout",
     "output_type": "stream",
     "text": [
      "0.3566333808844508\n"
     ]
    }
   ],
   "source": [
    "print(number_burst(100,my_probability(100,0.25,4),25,1000))"
   ]
  },
  {
   "cell_type": "code",
   "execution_count": 61,
   "id": "f2ec8c59",
   "metadata": {},
   "outputs": [
    {
     "name": "stdout",
     "output_type": "stream",
     "text": [
      "1.0\n"
     ]
    }
   ],
   "source": [
    "print(my_probability(100,0.5,1))"
   ]
  },
  {
   "cell_type": "code",
   "execution_count": null,
   "id": "3021b362",
   "metadata": {},
   "outputs": [],
   "source": []
  }
 ],
 "metadata": {
  "kernelspec": {
   "display_name": "Python 3",
   "language": "python",
   "name": "python3"
  },
  "language_info": {
   "codemirror_mode": {
    "name": "ipython",
    "version": 3
   },
   "file_extension": ".py",
   "mimetype": "text/x-python",
   "name": "python",
   "nbconvert_exporter": "python",
   "pygments_lexer": "ipython3",
   "version": "3.8.8"
  }
 },
 "nbformat": 4,
 "nbformat_minor": 5
}
