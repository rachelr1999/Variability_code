{
 "cells": [
  {
   "cell_type": "code",
   "execution_count": 1,
   "id": "b2ae7a24",
   "metadata": {},
   "outputs": [],
   "source": [
    "import numpy as np\n",
    "import math\n",
    "import matplotlib.pyplot as plt\n",
    "import random\n",
    "import numpy as np\n",
    "from astropy.io import ascii\n",
    "from astropy.table import Table\n",
    "import csv\n",
    "\n",
    "run=50\n",
    "t=300\n",
    "cadence=26\n",
    "t_list_years=[200,220,220.5,221,221.5,222,222.5,223,223.5,224,224.5,225]\n",
    "t_list_cadence=[int(i*cadence) for i in t_list_years]"
   ]
  },
  {
   "cell_type": "markdown",
   "id": "e1198ed1",
   "metadata": {},
   "source": [
    "## 50 stars"
   ]
  },
  {
   "cell_type": "code",
   "execution_count": 2,
   "id": "20d39b78",
   "metadata": {},
   "outputs": [
    {
     "name": "stdout",
     "output_type": "stream",
     "text": [
      "(50, 7800)\n"
     ]
    }
   ],
   "source": [
    "values50=ascii.read('/home/lee/data/cluster_size_change/100x_burst/values50_2week') \n",
    "burst_total50=values50['burst_total']\n",
    "burst_num50=values50['burst_number']\n",
    "print(np.shape(burst_num50))"
   ]
  },
  {
   "cell_type": "code",
   "execution_count": 3,
   "id": "3064aaac",
   "metadata": {},
   "outputs": [
    {
     "name": "stdout",
     "output_type": "stream",
     "text": [
      "(600,)\n"
     ]
    }
   ],
   "source": [
    "cadence_num_bursts50=[]\n",
    "for i in range(run):\n",
    "    for j in t_list_cadence:\n",
    "        cadence_num_bursts50.append(burst_num50[i][j])\n",
    "print(np.shape(cadence_num_bursts50))"
   ]
  },
  {
   "cell_type": "code",
   "execution_count": 4,
   "id": "aad9333a",
   "metadata": {},
   "outputs": [],
   "source": [
    "cadence_new50=[]\n",
    "for i in range(len(cadence_num_bursts50)):\n",
    "    if cadence_num_bursts50[i]!=0:\n",
    "        cadence_new50.append(cadence_num_bursts50[i])\n",
    "\n",
    "data_1bin50_log=[cadence_new50]"
   ]
  },
  {
   "cell_type": "markdown",
   "id": "27337a57",
   "metadata": {},
   "source": [
    "## 100 stars"
   ]
  },
  {
   "cell_type": "code",
   "execution_count": 5,
   "id": "059fc262",
   "metadata": {},
   "outputs": [],
   "source": [
    "values100=ascii.read('/home/lee/data/cluster_size_change/100x_burst/values100_2week') \n",
    "burst_total100=values100['burst_total']\n",
    "burst_num100=values100['burst_number']"
   ]
  },
  {
   "cell_type": "code",
   "execution_count": 6,
   "id": "4eca84ae",
   "metadata": {},
   "outputs": [],
   "source": [
    "cadence_num_bursts100=[]\n",
    "for i in range(run):\n",
    "    for j in t_list_cadence:\n",
    "        cadence_num_bursts100.append(burst_num100[i][j])"
   ]
  },
  {
   "cell_type": "code",
   "execution_count": 7,
   "id": "31a33c7e",
   "metadata": {},
   "outputs": [],
   "source": [
    "cadence_new100=[]\n",
    "for i in range(len(cadence_num_bursts100)):\n",
    "    if cadence_num_bursts100[i]!=0:\n",
    "        cadence_new100.append(cadence_num_bursts100[i])\n",
    "\n",
    "data_1bin100_log=[cadence_new100]"
   ]
  },
  {
   "cell_type": "markdown",
   "id": "05a6dcbf",
   "metadata": {},
   "source": [
    "## 500 stars"
   ]
  },
  {
   "cell_type": "code",
   "execution_count": 8,
   "id": "3c82d0da",
   "metadata": {},
   "outputs": [],
   "source": [
    "values500=ascii.read('/home/lee/data/cluster_size_change/100x_burst/values500_2week') \n",
    "burst_total500=values500['burst_total']\n",
    "burst_num500=values500['burst_number']"
   ]
  },
  {
   "cell_type": "code",
   "execution_count": 9,
   "id": "6c988b56",
   "metadata": {},
   "outputs": [],
   "source": [
    "cadence_num_bursts500=[]\n",
    "for i in range(run):\n",
    "    for j in t_list_cadence:\n",
    "        cadence_num_bursts500.append(burst_num500[i][j])"
   ]
  },
  {
   "cell_type": "code",
   "execution_count": 10,
   "id": "7c13c0c1",
   "metadata": {},
   "outputs": [],
   "source": [
    "cadence_new500=[]\n",
    "for i in range(len(cadence_num_bursts500)):\n",
    "    if cadence_num_bursts500[i]!=0:\n",
    "        cadence_new500.append(cadence_num_bursts500[i])\n",
    "\n",
    "data_1bin500_log=[cadence_new500]"
   ]
  },
  {
   "cell_type": "markdown",
   "id": "643e09b7",
   "metadata": {},
   "source": [
    "## 1000 stars"
   ]
  },
  {
   "cell_type": "code",
   "execution_count": 11,
   "id": "eeb34d4f",
   "metadata": {},
   "outputs": [],
   "source": [
    "values1000=ascii.read('/home/lee/data/cluster_size_change/100x_burst/values1000_2week') \n",
    "burst_total1000=values1000['burst_total']\n",
    "burst_num1000=values1000['burst_number']"
   ]
  },
  {
   "cell_type": "code",
   "execution_count": 12,
   "id": "b5d13705",
   "metadata": {},
   "outputs": [],
   "source": [
    "cadence_num_bursts1000=[]\n",
    "for i in range(run):\n",
    "    for j in t_list_cadence:\n",
    "        cadence_num_bursts1000.append(burst_num1000[i][j])"
   ]
  },
  {
   "cell_type": "code",
   "execution_count": 13,
   "id": "177c42cf",
   "metadata": {},
   "outputs": [],
   "source": [
    "cadence_new1000=[]\n",
    "for i in range(len(cadence_num_bursts1000)):\n",
    "    if cadence_num_bursts1000[i]!=0:\n",
    "        cadence_new1000.append(cadence_num_bursts1000[i])\n",
    "\n",
    "data_1bin1000_log=[cadence_new1000]"
   ]
  },
  {
   "cell_type": "markdown",
   "id": "c969b981",
   "metadata": {},
   "source": [
    "## 2000 stars"
   ]
  },
  {
   "cell_type": "code",
   "execution_count": 14,
   "id": "6d1bda71",
   "metadata": {},
   "outputs": [],
   "source": [
    "values2000=ascii.read('/home/lee/data/cluster_size_change/100x_burst/values2000_2week') \n",
    "burst_total2000=values2000['burst_total']\n",
    "burst_num2000=values2000['burst_number']"
   ]
  },
  {
   "cell_type": "code",
   "execution_count": 15,
   "id": "43d4bd07",
   "metadata": {},
   "outputs": [],
   "source": [
    "cadence_num_bursts2000=[]\n",
    "for i in range(run):\n",
    "    for j in t_list_cadence:\n",
    "        cadence_num_bursts2000.append(burst_num2000[i][j])"
   ]
  },
  {
   "cell_type": "code",
   "execution_count": 16,
   "id": "81f5bcb9",
   "metadata": {},
   "outputs": [],
   "source": [
    "cadence_new2000=[]\n",
    "for i in range(len(cadence_num_bursts2000)):\n",
    "    if cadence_num_bursts2000[i]!=0:\n",
    "        cadence_new2000.append(cadence_num_bursts2000[i])\n",
    "\n",
    "data_1bin2000_log=[cadence_new2000]"
   ]
  },
  {
   "cell_type": "markdown",
   "id": "a538b4d6",
   "metadata": {},
   "source": [
    "## 5000 stars"
   ]
  },
  {
   "cell_type": "code",
   "execution_count": 17,
   "id": "404f497d",
   "metadata": {},
   "outputs": [],
   "source": [
    "values5000=ascii.read('/home/lee/data/cluster_size_change/100x_burst/values5000_2week') \n",
    "burst_total5000=values5000['burst_total']\n",
    "burst_num5000=values5000['burst_number']"
   ]
  },
  {
   "cell_type": "code",
   "execution_count": 18,
   "id": "10838204",
   "metadata": {},
   "outputs": [],
   "source": [
    "cadence_num_bursts5000=[]\n",
    "for i in range(run):\n",
    "    for j in t_list_cadence:\n",
    "        cadence_num_bursts5000.append(burst_num5000[i][j])"
   ]
  },
  {
   "cell_type": "code",
   "execution_count": 19,
   "id": "1e3fc873",
   "metadata": {},
   "outputs": [],
   "source": [
    "cadence_new5000=[]\n",
    "for i in range(len(cadence_num_bursts5000)):\n",
    "    if cadence_num_bursts5000[i]!=0:\n",
    "        cadence_new5000.append(cadence_num_bursts5000[i])\n",
    "\n",
    "data_1bin5000_log=[cadence_new5000]"
   ]
  },
  {
   "cell_type": "code",
   "execution_count": 29,
   "id": "014fbe58",
   "metadata": {},
   "outputs": [
    {
     "data": {
      "image/png": "[encoded data removed]",
      "text/plain": [
       "<Figure size 900x800 with 1 Axes>"
      ]
     },
     "metadata": {},
     "output_type": "display_data"
    }
   ],
   "source": [
    "data_num_2week=[cadence_num_bursts50,cadence_num_bursts100,cadence_num_bursts500,\\\n",
    "                cadence_num_bursts1000,cadence_num_bursts2000,cadence_num_bursts5000]\n",
    "\n",
    "labels=[50,100,500,1000,2000,5000]\n",
    "fig,ax=plt.subplots()\n",
    "fig.set_size_inches(8,6)\n",
    "plt.rcParams['text.usetex']='False'\n",
    "plt.rcParams['font.family']='FreeSerif'\n",
    "plt.rcParams['axes.labelweight']='normal'\n",
    "plt.rcParams['font.weight']='normal'\n",
    "\n",
    "fig.set_size_inches(9,8)\n",
    "ax.violinplot(data_num_2week,vert=True, widths=0.5, showmeans=True, showextrema=True, showmedians=False)\n",
    "plt.xticks([1,2,3,4,5,6,],['50','100','500','1000','2000','5000'])\n",
    "ax.set_xlabel('Number of Stars in Cluster',fontsize=15)\n",
    "ax.set_ylabel('Number of Stars',fontsize=15)\n",
    "\n",
    "#ax.set_title('Number of Stars with 100x Burst for Different Cluster Sizes',fontsize=16)\n",
    "plt.show()\n",
    "#plt.savefig('/home/lee/research/figs/SizeChange/violinplots/number/violin_plot_50run_clustersize_number_2week_normal.jpeg',dpi=300,bbox_inches='tight')"
   ]
  },
  {
   "cell_type": "code",
   "execution_count": 24,
   "id": "ae09d9bc",
   "metadata": {},
   "outputs": [
    {
     "name": "stdout",
     "output_type": "stream",
     "text": [
      "0.4849307692307692\n",
      "0.724256361558794\n"
     ]
    }
   ],
   "source": [
    "print(np.mean(burst_num50))\n",
    "print(np.std(burst_num50))"
   ]
  },
  {
   "cell_type": "code",
   "execution_count": 250,
   "id": "e5f2bef4",
   "metadata": {},
   "outputs": [
    {
     "name": "stdout",
     "output_type": "stream",
     "text": [
      "0.8286692307692308\n",
      "0.9405411008491802\n"
     ]
    }
   ],
   "source": [
    "print(np.mean(burst_num100))\n",
    "print(np.std(burst_num100))"
   ]
  },
  {
   "cell_type": "code",
   "execution_count": 251,
   "id": "b8bf77c8",
   "metadata": {},
   "outputs": [
    {
     "name": "stdout",
     "output_type": "stream",
     "text": [
      "4.547\n",
      "2.1960830456951634\n"
     ]
    }
   ],
   "source": [
    "print(np.mean(burst_num500))\n",
    "print(np.std(burst_num500))"
   ]
  },
  {
   "cell_type": "code",
   "execution_count": 252,
   "id": "e37c5a92",
   "metadata": {},
   "outputs": [
    {
     "name": "stdout",
     "output_type": "stream",
     "text": [
      "9.40354358974359\n",
      "3.4128217901286404\n"
     ]
    }
   ],
   "source": [
    "print(np.mean(burst_num1000))\n",
    "print(np.std(burst_num1000))"
   ]
  },
  {
   "cell_type": "code",
   "execution_count": 253,
   "id": "eb0b9012",
   "metadata": {},
   "outputs": [
    {
     "name": "stdout",
     "output_type": "stream",
     "text": [
      "18.569415384615386\n",
      "5.4672045045088895\n"
     ]
    }
   ],
   "source": [
    "print(np.mean(burst_num2000))\n",
    "print(np.std(burst_num2000))"
   ]
  },
  {
   "cell_type": "code",
   "execution_count": 254,
   "id": "4b4317e6",
   "metadata": {},
   "outputs": [
    {
     "name": "stdout",
     "output_type": "stream",
     "text": [
      "46.398228205128206\n",
      "10.824846368980255\n"
     ]
    }
   ],
   "source": [
    "print(np.mean(burst_num5000))\n",
    "print(np.std(burst_num5000))"
   ]
  },
  {
   "cell_type": "code",
   "execution_count": 216,
   "id": "4e3521c9",
   "metadata": {},
   "outputs": [
    {
     "name": "stdout",
     "output_type": "stream",
     "text": [
      "145957\n",
      "0.37424871794871795\n"
     ]
    }
   ],
   "source": [
    "num50=0\n",
    "for i in range(len(cadence_num_bursts50)):\n",
    "    if cadence_num_bursts50[i]>=0.5:\n",
    "        num50+=1\n",
    "print(num50)\n",
    "print(num50/390000)"
   ]
  },
  {
   "cell_type": "code",
   "execution_count": 255,
   "id": "c47eb60d",
   "metadata": {},
   "outputs": [
    {
     "name": "stdout",
     "output_type": "stream",
     "text": [
      "385\n",
      "0.6416666666666667\n"
     ]
    }
   ],
   "source": [
    "num100=0\n",
    "for i in range(len(cadence_num_bursts100)):\n",
    "    if cadence_num_bursts100[i]>=1:\n",
    "        num100+=1\n",
    "print(num100)\n",
    "print(num100/600)"
   ]
  },
  {
   "cell_type": "code",
   "execution_count": 256,
   "id": "e478d768",
   "metadata": {},
   "outputs": [
    {
     "name": "stdout",
     "output_type": "stream",
     "text": [
      "325\n",
      "0.5416666666666666\n"
     ]
    }
   ],
   "source": [
    "num500=0\n",
    "for i in range(len(cadence_num_bursts500)):\n",
    "    if cadence_num_bursts500[i]>=5:\n",
    "        num500+=1\n",
    "print(num500)\n",
    "print(num500/600)"
   ]
  },
  {
   "cell_type": "code",
   "execution_count": 257,
   "id": "c0f41394",
   "metadata": {},
   "outputs": [
    {
     "name": "stdout",
     "output_type": "stream",
     "text": [
      "346\n",
      "0.5766666666666667\n"
     ]
    }
   ],
   "source": [
    "num1000=0\n",
    "for i in range(len(cadence_num_bursts1000)):\n",
    "    if cadence_num_bursts1000[i]>=10:\n",
    "        num1000+=1\n",
    "print(num1000)\n",
    "print(num1000/600)"
   ]
  },
  {
   "cell_type": "code",
   "execution_count": 258,
   "id": "d7570e44",
   "metadata": {},
   "outputs": [
    {
     "name": "stdout",
     "output_type": "stream",
     "text": [
      "261\n",
      "0.435\n"
     ]
    }
   ],
   "source": [
    "num2000=0\n",
    "for i in range(len(cadence_num_bursts2000)):\n",
    "    if cadence_num_bursts2000[i]>=20:\n",
    "        num2000+=1\n",
    "print(num2000)\n",
    "print(num2000/600)"
   ]
  },
  {
   "cell_type": "code",
   "execution_count": 259,
   "id": "b9989eac",
   "metadata": {},
   "outputs": [
    {
     "name": "stdout",
     "output_type": "stream",
     "text": [
      "232\n",
      "0.38666666666666666\n"
     ]
    }
   ],
   "source": [
    "num5000=0\n",
    "for i in range(len(cadence_num_bursts5000)):\n",
    "    if cadence_num_bursts5000[i]>=50:\n",
    "        num5000+=1\n",
    "print(num5000)\n",
    "print(num5000/600)"
   ]
  },
  {
   "cell_type": "code",
   "execution_count": 260,
   "id": "90b428c4",
   "metadata": {},
   "outputs": [],
   "source": [
    "cad50=[]\n",
    "for i in range(len(cadence_num_bursts50)):\n",
    "    cad50.append(100*cadence_num_bursts50[i]/50)\n",
    "    \n",
    "cad100=[]\n",
    "for i in range(len(cadence_num_bursts100)):\n",
    "    cad100.append(100*cadence_num_bursts100[i]/100)\n",
    "    \n",
    "cad500=[]\n",
    "for i in range(len(cadence_num_bursts500)):\n",
    "    cad500.append(100*cadence_num_bursts500[i]/500)\n",
    "\n",
    "cad1000=[]\n",
    "for i in range(len(cadence_num_bursts1000)):\n",
    "    cad1000.append(100*cadence_num_bursts1000[i]/1000)\n",
    "    \n",
    "cad2000=[]\n",
    "for i in range(len(cadence_num_bursts2000)):\n",
    "    cad2000.append(100*cadence_num_bursts2000[i]/2000)\n",
    "    \n",
    "cad5000=[]\n",
    "for i in range(len(cadence_num_bursts5000)):\n",
    "    cad5000.append(100*cadence_num_bursts5000[i]/5000)"
   ]
  },
  {
   "cell_type": "code",
   "execution_count": 261,
   "id": "b510b55f",
   "metadata": {},
   "outputs": [
    {
     "data": {
      "text/plain": [
       "<matplotlib.legend.Legend at 0x7fa4a03e3f70>"
      ]
     },
     "execution_count": 261,
     "metadata": {},
     "output_type": "execute_result"
    },
    {
     "data": {
      "image/png": "[encoded data removed]",
      "text/plain": [
       "<Figure size 576x432 with 1 Axes>"
      ]
     },
     "metadata": {
      "needs_background": "light"
     },
     "output_type": "display_data"
    }
   ],
   "source": [
    "fig,ax=plt.subplots()\n",
    "fig.set_size_inches(8,6)\n",
    "plt.rcParams['text.usetex']='False'\n",
    "plt.rcParams['font.family']='sans serif'\n",
    "plt.rcParams['axes.labelweight']='normal'\n",
    "plt.rcParams['font.weight']='normal'\n",
    "\n",
    "ax.hist(cad50,label='50')\n",
    "ax.hist(cad100,label='100')\n",
    "ax.hist(cad500,label='500')\n",
    "ax.hist(cad1000,label='1000')\n",
    "ax.hist(cad2000,label='2000')\n",
    "ax.hist(cad5000,label='5000')\n",
    "\n",
    "ax.set_title('Histograms of number of bursts for different cluster sizes')\n",
    "ax.set_xlabel('Percent of stars undergoing a burst')\n",
    "ax.set_ylabel('Count')\n",
    "plt.legend()"
   ]
  },
  {
   "cell_type": "code",
   "execution_count": 262,
   "id": "b7ba46d7",
   "metadata": {},
   "outputs": [
    {
     "name": "stdout",
     "output_type": "stream",
     "text": [
      "0.915\n"
     ]
    }
   ],
   "source": [
    "num_num50=0\n",
    "mean50=np.mean(cadence_num_bursts50)\n",
    "std50=np.std(cadence_num_bursts50)\n",
    "high50=mean50+(2*std50)\n",
    "low50=mean50-(2*std50)\n",
    "for i in range(len(cadence_num_bursts50)):\n",
    "    if cadence_num_bursts50[i]<=high50 and cadence_num_bursts50[i]>=low50:\n",
    "        num_num50+=1\n",
    "print(num_num50/600)"
   ]
  },
  {
   "cell_type": "code",
   "execution_count": 263,
   "id": "e7152a7e",
   "metadata": {},
   "outputs": [
    {
     "name": "stdout",
     "output_type": "stream",
     "text": [
      "0.9216666666666666\n"
     ]
    }
   ],
   "source": [
    "num_num100=0\n",
    "mean100=np.mean(cadence_num_bursts100)\n",
    "std100=np.std(cadence_num_bursts100)\n",
    "high100=mean100+(2*std100)\n",
    "low100=mean100-(2*std100)\n",
    "for i in range(len(cadence_num_bursts100)):\n",
    "    if cadence_num_bursts100[i]<=high100 and cadence_num_bursts100[i]>=low100:\n",
    "        num_num100+=1\n",
    "print(num_num100/600)"
   ]
  },
  {
   "cell_type": "code",
   "execution_count": 264,
   "id": "3ba6e8ab",
   "metadata": {},
   "outputs": [
    {
     "name": "stdout",
     "output_type": "stream",
     "text": [
      "0.9433333333333334\n"
     ]
    }
   ],
   "source": [
    "num_num500=0\n",
    "mean500=np.mean(cadence_num_bursts500)\n",
    "std500=np.std(cadence_num_bursts500)\n",
    "high500=mean500+(2*std500)\n",
    "low500=mean500-(2*std500)\n",
    "for i in range(len(cadence_num_bursts500)):\n",
    "    if cadence_num_bursts500[i]<=high500 and cadence_num_bursts500[i]>=low500:\n",
    "        num_num500+=1\n",
    "print(num_num500/600)"
   ]
  },
  {
   "cell_type": "code",
   "execution_count": 265,
   "id": "7b2c082c",
   "metadata": {},
   "outputs": [
    {
     "name": "stdout",
     "output_type": "stream",
     "text": [
      "0.9566666666666667\n"
     ]
    }
   ],
   "source": [
    "num_num1000=0\n",
    "mean1000=np.mean(cadence_num_bursts1000)\n",
    "std1000=np.std(cadence_num_bursts1000)\n",
    "high1000=mean1000+(2*std1000)\n",
    "low1000=mean1000-(2*std1000)\n",
    "for i in range(len(cadence_num_bursts1000)):\n",
    "    if cadence_num_bursts1000[i]<=high1000 and cadence_num_bursts1000[i]>=low1000:\n",
    "        num_num1000+=1\n",
    "print(num_num1000/600)"
   ]
  },
  {
   "cell_type": "code",
   "execution_count": 266,
   "id": "c2ea32e9",
   "metadata": {},
   "outputs": [
    {
     "name": "stdout",
     "output_type": "stream",
     "text": [
      "0.9633333333333334\n"
     ]
    }
   ],
   "source": [
    "num_num2000=0\n",
    "mean2000=np.mean(cadence_num_bursts2000)\n",
    "std2000=np.std(cadence_num_bursts2000)\n",
    "high2000=mean2000+(2*std2000)\n",
    "low2000=mean2000-(2*std2000)\n",
    "for i in range(len(cadence_num_bursts2000)):\n",
    "    if cadence_num_bursts2000[i]<=high2000 and cadence_num_bursts2000[i]>=low2000:\n",
    "        num_num2000+=1\n",
    "print(num_num2000/600)"
   ]
  },
  {
   "cell_type": "code",
   "execution_count": 267,
   "id": "887602b8",
   "metadata": {},
   "outputs": [
    {
     "name": "stdout",
     "output_type": "stream",
     "text": [
      "0.96\n"
     ]
    }
   ],
   "source": [
    "num_num5000=0\n",
    "mean5000=np.mean(cadence_num_bursts5000)\n",
    "std5000=np.std(cadence_num_bursts5000)\n",
    "high5000=mean5000+(2*std5000)\n",
    "low5000=mean5000-(2*std5000)\n",
    "for i in range(len(cadence_num_bursts5000)):\n",
    "    if cadence_num_bursts5000[i]<=high5000 and cadence_num_bursts5000[i]>=low5000:\n",
    "        num_num5000+=1\n",
    "print(num_num5000/600)"
   ]
  },
  {
   "cell_type": "code",
   "execution_count": 132,
   "id": "a2f81602",
   "metadata": {},
   "outputs": [
    {
     "name": "stdout",
     "output_type": "stream",
     "text": [
      "15.782343692842128 4.72432297382454\n",
      "27.575814946745012 10.617518386588323\n",
      "63.98979562704585 33.49020437295415\n"
     ]
    }
   ],
   "source": [
    "print(high1000,low1000)\n",
    "print(high2000,low2000)\n",
    "print(high5000,low5000)"
   ]
  },
  {
   "cell_type": "code",
   "execution_count": 134,
   "id": "95b36c22",
   "metadata": {},
   "outputs": [],
   "source": [
    "import scipy.stats as stats\n",
    "import math"
   ]
  },
  {
   "cell_type": "code",
   "execution_count": 182,
   "id": "f28e522b",
   "metadata": {},
   "outputs": [
    {
     "name": "stdout",
     "output_type": "stream",
     "text": [
      "0.3118634572447263\n"
     ]
    }
   ],
   "source": [
    "z_critical=stats.norm.ppf(q=0.95)\n",
    "margin_of_error2000=z_critical*(std2000/np.sqrt(2000))\n",
    "confidence_interval2000=(mean2000+margin_of_error2000,mean2000-margin_of_error2000)\n",
    "print(confidence_interval2000[0]-confidence_interval2000[1])"
   ]
  },
  {
   "cell_type": "code",
   "execution_count": 183,
   "id": "bb6834d1",
   "metadata": {},
   "outputs": [],
   "source": [
    "confidence_level2000=((confidence_interval2000[0]-confidence_interval2000[1])/2)*(np.sqrt(2000)/std2000)"
   ]
  },
  {
   "cell_type": "code",
   "execution_count": 184,
   "id": "4b34262b",
   "metadata": {},
   "outputs": [
    {
     "name": "stdout",
     "output_type": "stream",
     "text": [
      "1.6448536269514655\n"
     ]
    }
   ],
   "source": [
    "print(confidence_level2000)"
   ]
  },
  {
   "cell_type": "code",
   "execution_count": 185,
   "id": "212a0946",
   "metadata": {},
   "outputs": [
    {
     "name": "stdout",
     "output_type": "stream",
     "text": [
      "0.28759058250457414\n"
     ]
    }
   ],
   "source": [
    "z_critical=stats.norm.ppf(q=0.95)\n",
    "margin_of_error1000=z_critical*(std1000/np.sqrt(1000))\n",
    "confidence_interval1000=(mean1000+margin_of_error1000,mean1000-margin_of_error1000)\n",
    "print(confidence_interval1000[0]-confidence_interval1000[1])"
   ]
  },
  {
   "cell_type": "code",
   "execution_count": 186,
   "id": "f0789923",
   "metadata": {},
   "outputs": [
    {
     "name": "stdout",
     "output_type": "stream",
     "text": [
      "1.6448536269514642\n"
     ]
    }
   ],
   "source": [
    "confidence_level1000=((confidence_interval1000[0]-confidence_interval1000[1])/2)*(np.sqrt(1000)/std1000)\n",
    "print(confidence_level1000)"
   ]
  },
  {
   "cell_type": "code",
   "execution_count": 187,
   "id": "19a0f759",
   "metadata": {},
   "outputs": [
    {
     "name": "stdout",
     "output_type": "stream",
     "text": [
      "0.3547368278002381\n"
     ]
    }
   ],
   "source": [
    "z_critical=stats.norm.ppf(q=0.95)\n",
    "margin_of_error5000=z_critical*(std5000/np.sqrt(5000))\n",
    "confidence_interval5000=(mean5000+margin_of_error5000,mean5000-margin_of_error5000)\n",
    "print(confidence_interval5000[0]-confidence_interval5000[1])"
   ]
  },
  {
   "cell_type": "code",
   "execution_count": 188,
   "id": "5c88ccaf",
   "metadata": {},
   "outputs": [
    {
     "name": "stdout",
     "output_type": "stream",
     "text": [
      "1.644853626951487\n"
     ]
    }
   ],
   "source": [
    "confidence_level5000=((confidence_interval5000[0]-confidence_interval5000[1])/2)*(np.sqrt(5000)/std5000)\n",
    "print(confidence_level5000)"
   ]
  },
  {
   "cell_type": "code",
   "execution_count": 190,
   "id": "506b4014",
   "metadata": {},
   "outputs": [
    {
     "name": "stdout",
     "output_type": "stream",
     "text": [
      "10.253333333333334 2.764505179754397\n",
      "19.096666666666668 4.239574140039172\n",
      "48.74 7.624897813522924\n"
     ]
    }
   ],
   "source": [
    "print(mean1000,std1000)\n",
    "print(mean2000,std2000)\n",
    "print(mean5000,std5000)"
   ]
  },
  {
   "cell_type": "code",
   "execution_count": null,
   "id": "cf9ee59b",
   "metadata": {},
   "outputs": [],
   "source": []
  }
 ],
 "metadata": {
  "kernelspec": {
   "display_name": "Python 3 (ipykernel)",
   "language": "python",
   "name": "python3"
  },
  "language_info": {
   "codemirror_mode": {
    "name": "ipython",
    "version": 3
   },
   "file_extension": ".py",
   "mimetype": "text/x-python",
   "name": "python",
   "nbconvert_exporter": "python",
   "pygments_lexer": "ipython3",
   "version": "3.8.10"
  }
 },
 "nbformat": 4,
 "nbformat_minor": 5
}
