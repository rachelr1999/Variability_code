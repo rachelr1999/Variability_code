{
 "cells": [
  {
   "cell_type": "code",
   "execution_count": 1,
   "id": "496bc099",
   "metadata": {},
   "outputs": [],
   "source": [
    "import numpy as np\n",
    "import math\n",
    "import matplotlib.pyplot as plt\n",
    "import random\n",
    "\n",
    "#open the file\n",
    "datapath='/Users/rachellee/Desktop/research/references/'\n",
    "filename='flux_table_70um.txt'\n",
    "data=np.loadtxt(datapath+filename)\n",
    "\n",
    "#number is coloumn 0, flux is column 25\n",
    "number=data[:,0]\n",
    "flux=data[:,25]"
   ]
  },
  {
   "cell_type": "code",
   "execution_count": 2,
   "id": "66b8346a",
   "metadata": {},
   "outputs": [],
   "source": [
    "#remove zeros in the flux\n",
    "flux_new=[]\n",
    "for i in range(len(flux)):\n",
    "    if flux[i]!=0:\n",
    "        flux_new.append(flux[i])"
   ]
  },
  {
   "cell_type": "code",
   "execution_count": 3,
   "id": "d1722384",
   "metadata": {},
   "outputs": [],
   "source": [
    "#assign a star a random value from the fluxes \n",
    "cluster_flux=[]\n",
    "star=[]\n",
    "cluster_size=2000\n",
    "for i in range(cluster_size):\n",
    "    cluster_flux.append(random.choice(flux_new))\n",
    "    star.append(i)"
   ]
  },
  {
   "cell_type": "code",
   "execution_count": 4,
   "id": "d75317a8",
   "metadata": {},
   "outputs": [],
   "source": [
    "#convert flux to mag\n",
    "cluster_mag=[]\n",
    "for i in range(len(cluster_flux)):\n",
    "    mag=-2.5*np.log10(cluster_flux[i])\n",
    "    cluster_mag.append(mag)"
   ]
  },
  {
   "cell_type": "code",
   "execution_count": 6,
   "id": "aee19300",
   "metadata": {},
   "outputs": [],
   "source": [
    "def my_probability(burst,bins,duration):\n",
    "    prob=(1/(2*bins))/((burst-((burst-1)/(2*bins))))/duration\n",
    "    return prob"
   ]
  },
  {
   "cell_type": "code",
   "execution_count": 12,
   "id": "b6d25f02",
   "metadata": {},
   "outputs": [],
   "source": [
    "#make multi dimensional array for burst prob \n",
    "#let 1 be unburst and NaN be burst\n",
    "t=300 #yrs\n",
    "cadence=2\n",
    "steps=t*cadence\n",
    "prob1=my_probability(100,1,100)/cadence\n",
    "prob2=my_probability(100,2,100)/cadence\n",
    "prob3=my_probability(100,3,100)/cadence\n",
    "prob4=my_probability(100,4,100)/cadence\n",
    "prob5=my_probability(100,5,100)/cadence\n",
    "prob6=my_probability(100,6,100)/cadence\n",
    "\n",
    "burst1=np.ones((cluster_size,steps))\n",
    "L1=np.zeros((cluster_size,steps))\n",
    "burst2=np.ones((cluster_size,steps))\n",
    "L2=np.zeros((cluster_size,steps))\n",
    "burst3=np.ones((cluster_size,steps))\n",
    "L3=np.zeros((cluster_size,steps))\n",
    "burst4=np.ones((cluster_size,steps))\n",
    "L4=np.zeros((cluster_size,steps))\n",
    "burst5=np.ones((cluster_size,steps))\n",
    "L5=np.zeros((cluster_size,steps))\n",
    "burst6=np.ones((cluster_size,steps))\n",
    "L6=np.zeros((cluster_size,steps))"
   ]
  },
  {
   "cell_type": "code",
   "execution_count": 13,
   "id": "59a85cf8",
   "metadata": {},
   "outputs": [],
   "source": [
    "#1 bin\n",
    "for i in range(steps):\n",
    "    for j in range(cluster_size):\n",
    "        if burst1[j,i]==1:\n",
    "            prob=random.random()\n",
    "            if prob>prob1:\n",
    "                burst1[j,i]=burst1[j,i]\n",
    "                L1[j,i]=cluster_mag[j]\n",
    "            if prob<=prob1:\n",
    "                burst1[j,i:200+i]=np.nan\n",
    "                L1[j,i:200+i]=cluster_mag[j]-5\n",
    "                \n",
    "#2 bins\n",
    "for i in range(steps):\n",
    "    for j in range(cluster_size):\n",
    "        if burst2[j,i]==1:\n",
    "            prob=random.random()\n",
    "            if prob>prob2:\n",
    "                burst2[j,i]=burst2[j,i]\n",
    "                L2[j,i]=cluster_mag[j]\n",
    "            if prob<=prob2:\n",
    "                burst2[j,i:200+i]=np.nan\n",
    "                L2[j,i:200+i]=cluster_mag[j]-5\n",
    "                \n",
    "#3 bins\n",
    "for i in range(steps):\n",
    "    for j in range(cluster_size):\n",
    "        if burst3[j,i]==1:\n",
    "            prob=random.random()\n",
    "            if prob>prob3:\n",
    "                burst3[j,i]=burst3[j,i]\n",
    "                L3[j,i]=cluster_mag[j]\n",
    "            if prob<=prob3:\n",
    "                burst3[j,i:200+i]=np.nan\n",
    "                L3[j,i:200+i]=cluster_mag[j]-5\n",
    "                \n",
    "#4 bins\n",
    "for i in range(steps):\n",
    "    for j in range(cluster_size):\n",
    "        if burst4[j,i]==1:\n",
    "            prob=random.random()\n",
    "            if prob>prob4:\n",
    "                burst4[j,i]=burst4[j,i]\n",
    "                L4[j,i]=cluster_mag[j]\n",
    "            if prob<=prob4:\n",
    "                burst4[j,i:200+i]=np.nan\n",
    "                L4[j,i:200+i]=cluster_mag[j]-5\n",
    "                                \n",
    "#5 bins\n",
    "for i in range(steps):\n",
    "    for j in range(cluster_size):\n",
    "        if burst5[j,i]==1:\n",
    "            prob=random.random()\n",
    "            if prob>prob5:\n",
    "                burst5[j,i]=burst5[j,i]\n",
    "                L5[j,i]=cluster_mag[j]\n",
    "            if prob<=prob5:\n",
    "                burst5[j,i:200+i]=np.nan\n",
    "                L5[j,i:200+i]=cluster_mag[j]-5\n",
    "                \n",
    "#6 bins\n",
    "for i in range(steps):\n",
    "    for j in range(cluster_size):\n",
    "        if burst6[j,i]==1:\n",
    "            prob=random.random()\n",
    "            if prob>prob6:\n",
    "                burst6[j,i]=burst6[j,i]\n",
    "                L6[j,i]=cluster_mag[j]\n",
    "            if prob<=prob6:\n",
    "                burst6[j,i:200+i]=np.nan\n",
    "                L6[j,i:200+i]=cluster_mag[j]-5"
   ]
  },
  {
   "cell_type": "code",
   "execution_count": 16,
   "id": "3fb5af20",
   "metadata": {},
   "outputs": [],
   "source": [
    "#determine total number of bursts \n",
    "total1=0\n",
    "total2=0\n",
    "total3=0\n",
    "total4=0\n",
    "total5=0\n",
    "total6=0\n",
    "burst_total1=[]\n",
    "burst_total2=[]\n",
    "burst_total3=[]\n",
    "burst_total4=[]\n",
    "burst_total5=[]\n",
    "burst_total6=[]\n",
    "for i in range(steps):\n",
    "    for j in range(cluster_size):\n",
    "        if np.isnan(burst1[j,i])==True and burst1[j,i-1]==1:\n",
    "            total1+=1\n",
    "        elif np.isnan(burst2[j,i])==True and burst2[j,i-1]==1:\n",
    "            total2+=1\n",
    "        elif np.isnan(burst3[j,i])==True and burst3[j,i-1]==1:\n",
    "            total3+=1\n",
    "        elif np.isnan(burst4[j,i])==True and burst4[j,i-1]==1:\n",
    "            total4+=1\n",
    "        elif np.isnan(burst5[j,i])==True and burst5[j,i-1]==1:\n",
    "            total5+=1\n",
    "        elif np.isnan(burst6[j,i])==True and burst6[j,i-1]==1:\n",
    "            total6+=1\n",
    "    burst_total1.append(total1)\n",
    "    burst_total2.append(total2)\n",
    "    burst_total3.append(total3)\n",
    "    burst_total4.append(total4)\n",
    "    burst_total5.append(total5)\n",
    "    burst_total6.append(total6)"
   ]
  },
  {
   "cell_type": "code",
   "execution_count": 17,
   "id": "cb0a945e",
   "metadata": {},
   "outputs": [],
   "source": [
    "#find the fraction at a time\n",
    "burst_fraction1=[]\n",
    "fraction_val1=0\n",
    "burst_fraction2=[]\n",
    "fraction_val2=0\n",
    "burst_fraction3=[]\n",
    "fraction_val3=0\n",
    "burst_fraction4=[]\n",
    "fraction_val4=0\n",
    "burst_fraction5=[]\n",
    "fraction_val5=0\n",
    "burst_fraction6=[]\n",
    "fraction_val6=0\n",
    "for i in range(steps):\n",
    "    for j in range(cluster_size):\n",
    "        if np.isnan(burst1[j,i])==True:\n",
    "            fraction_val1+=1\n",
    "        elif np.isnan(burst2[j,i])==True:\n",
    "            fraction_val2+=1\n",
    "        elif np.isnan(burst3[j,i])==True:\n",
    "            fraction_val3+=1\n",
    "        elif np.isnan(burst4[j,i])==True:\n",
    "            fraction_val4+=1\n",
    "        elif np.isnan(burst5[j,i])==True:\n",
    "            fraction_val5+=1\n",
    "        elif np.isnan(burst6[j,i])==True:\n",
    "            fraction_val6+=1\n",
    "    burst_fraction1.append(fraction_val1)\n",
    "    fraction_val1=0\n",
    "    burst_fraction2.append(fraction_val2)\n",
    "    fraction_val2=0\n",
    "    burst_fraction3.append(fraction_val3)\n",
    "    fraction_val3=0\n",
    "    burst_fraction4.append(fraction_val4)\n",
    "    fraction_val4=0\n",
    "    burst_fraction5.append(fraction_val5)\n",
    "    fraction_val5=0\n",
    "    burst_fraction6.append(fraction_val6)\n",
    "    fraction_val6=0"
   ]
  },
  {
   "cell_type": "code",
   "execution_count": 18,
   "id": "2c3f1df4",
   "metadata": {},
   "outputs": [],
   "source": [
    "fraction1=[]\n",
    "fraction2=[]\n",
    "fraction3=[]\n",
    "fraction4=[]\n",
    "fraction5=[]\n",
    "fraction6=[]\n",
    "for i in range(len(burst_fraction1)):\n",
    "    fraction1.append(burst_fraction1[i]/cluster_size)\n",
    "    fraction2.append(burst_fraction2[i]/cluster_size)\n",
    "    fraction3.append(burst_fraction3[i]/cluster_size)\n",
    "    fraction4.append(burst_fraction4[i]/cluster_size)\n",
    "    fraction5.append(burst_fraction5[i]/cluster_size)\n",
    "    fraction6.append(burst_fraction6[i]/cluster_size)"
   ]
  },
  {
   "cell_type": "code",
   "execution_count": 24,
   "id": "9752b924",
   "metadata": {},
   "outputs": [
    {
     "data": {
      "text/plain": [
       "Text(0.5, 1.0, 'Fraction of stars undergoing FU Ori burst for different bins')"
      ]
     },
     "execution_count": 24,
     "metadata": {},
     "output_type": "execute_result"
    },
    {
     "data": {
      "image/png": "[encoded data removed]",
      "text/plain": [
       "<Figure size 648x504 with 1 Axes>"
      ]
     },
     "metadata": {
      "needs_background": "light"
     },
     "output_type": "display_data"
    }
   ],
   "source": [
    "time=np.linspace(0,t,steps)\n",
    "#text=\"t={} years\".format(t)\n",
    "title='Fraction of stars undergoing FU Ori burst for different bins'\n",
    "fig,ax=plt.subplots(1,1)\n",
    "fig.set_size_inches(9,7)\n",
    "ax.plot(time,fraction1,color='black',label='1 bin')\n",
    "ax.plot(time,fraction2,color='blue',label='2 bins')\n",
    "ax.plot(time,fraction3,color='blueviolet',label='3 bins')\n",
    "ax.plot(time,fraction4,color='red',label='4 bins')\n",
    "ax.plot(time,fraction5,color='darkred',label='5 bins')\n",
    "ax.plot(time,fraction6,color='orange',label='6 bins')\n",
    "ax.set_xlabel('Time [years]',font='serif',fontsize=13)\n",
    "ax.set_ylabel('Fraction',font='serif',fontsize=13)\n",
    "ax.set_title(title,font='serif',fontsize=15)\n",
    "#ax.text(t,0,text,font='serif',fontsize=12,ha='right')\n",
    "#plt.savefig('/Users/rachellee/Desktop/fraction_bursts.jpeg',dpi=300)"
   ]
  },
  {
   "cell_type": "code",
   "execution_count": 31,
   "id": "890a1f0c",
   "metadata": {},
   "outputs": [],
   "source": [
    "burst1=np.ones((cluster_size,steps))\n",
    "L1=np.zeros((cluster_size,steps))\n",
    "burst2=np.ones((cluster_size,steps))\n",
    "L2=np.zeros((cluster_size,steps))\n",
    "burst3=np.ones((cluster_size,steps))\n",
    "L3=np.zeros((cluster_size,steps))\n",
    "burst4=np.ones((cluster_size,steps))\n",
    "L4=np.zeros((cluster_size,steps))\n",
    "burst5=np.ones((cluster_size,steps))\n",
    "L5=np.zeros((cluster_size,steps))\n",
    "burst6=np.ones((cluster_size,steps))\n",
    "L6=np.zeros((cluster_size,steps))\n",
    "\n",
    "#run it 50 times\n",
    "#start with function\n",
    "def bursts(full_time,size,probability,L_matrix,burst_matrix):\n",
    "    cluster_flux=[]\n",
    "    star=[]\n",
    "    cluster_size=size\n",
    "    for i in range(cluster_size):\n",
    "        cluster_flux.append(random.choice(flux_new))\n",
    "        star.append(i)\n",
    "    cluster_mag=[]\n",
    "    for i in range(len(cluster_flux)):\n",
    "        mag=-2.5*np.log10(cluster_flux[i])\n",
    "        cluster_mag.append(mag)\n",
    "    #make multi dimensional array for burst prob \n",
    "    #let 1 be unburst and NaN be burst\n",
    "    t=full_time #yrs\n",
    "    cadence=2\n",
    "    steps=t*cadence\n",
    "    burst_prob=probability\n",
    "    burst=burst_matrix\n",
    "    L=L_matrix\n",
    "    for i in range(steps):\n",
    "        for j in range(cluster_size):\n",
    "            if burst[j,i]==1:\n",
    "                prob=random.random()\n",
    "                if prob>burst_prob:\n",
    "                    burst[j,i]=burst[j,i]\n",
    "                    L[j,i]=cluster_mag[j]\n",
    "                if prob<=burst_prob:\n",
    "                    burst[j,i:200+i]=np.nan\n",
    "                    L[j,i]=cluster_mag[j]-5\n",
    "    #determine total number of bursts \n",
    "    total=0\n",
    "    burst_total=[]\n",
    "    for i in range(steps):\n",
    "        for j in range(cluster_size):\n",
    "            if np.isnan(burst[j,i])==True and burst[j,i-1]==1:\n",
    "                    total+=1\n",
    "        burst_total.append(total)\n",
    "    #find the fraction at a time\n",
    "    burst_fraction=[]\n",
    "    fraction_val=0\n",
    "    for i in range(steps):\n",
    "        for j in range(cluster_size):\n",
    "            if np.isnan(burst[j,i])==True:\n",
    "                fraction_val+=1\n",
    "        burst_fraction.append(fraction_val)\n",
    "        fraction_val=0\n",
    "    fraction=[]\n",
    "    for i in range(len(burst_fraction)):\n",
    "        fraction.append(burst_fraction[i]/cluster_size)\n",
    "        \n",
    "    return burst_total,burst_fraction,fraction"
   ]
  },
  {
   "cell_type": "code",
   "execution_count": 42,
   "id": "e689db56",
   "metadata": {},
   "outputs": [],
   "source": [
    "run=50\n",
    "t=300"
   ]
  },
  {
   "cell_type": "code",
   "execution_count": 66,
   "id": "a6da14c4",
   "metadata": {},
   "outputs": [],
   "source": [
    "#1 bin\n",
    "burst_total1=[]\n",
    "burst_fraction1=[]\n",
    "fraction1=[]\n",
    "\n",
    "for i in range(run):\n",
    "    burst1=np.ones((cluster_size,steps))\n",
    "    L1=np.zeros((cluster_size,steps))\n",
    "    values1=bursts(t,2000,prob1,L1,burst1)\n",
    "    burst_total1.append(values1[0])\n",
    "    burst_fraction1.append(values1[1])\n",
    "    fraction1.append(values1[2])"
   ]
  },
  {
   "cell_type": "code",
   "execution_count": 67,
   "id": "101b38e3",
   "metadata": {},
   "outputs": [
    {
     "data": {
      "text/plain": [
       "[<matplotlib.lines.Line2D at 0x7f93688a79a0>]"
      ]
     },
     "execution_count": 67,
     "metadata": {},
     "output_type": "execute_result"
    },
    {
     "data": {
      "image/png": "[encoded data removed]",
      "text/plain": [
       "<Figure size 432x288 with 1 Axes>"
      ]
     },
     "metadata": {
      "needs_background": "light"
     },
     "output_type": "display_data"
    }
   ],
   "source": [
    "time=np.linspace(0,t,steps)\n",
    "plt.plot(time,burst_fraction1[0])\n",
    "plt.plot(time,burst_fraction1[1])\n",
    "plt.plot(time,burst_fraction1[2])\n",
    "plt.plot(time,burst_fraction1[3])\n",
    "plt.plot(time,burst_fraction1[4])"
   ]
  },
  {
   "cell_type": "code",
   "execution_count": 68,
   "id": "40cfa171",
   "metadata": {},
   "outputs": [],
   "source": [
    "#calculate the mean of each time step\n",
    "t_list_years=[200,220,220.5,221,221.5,222,222.5,223,223.5,224,224.5,225]\n",
    "t_list_cadence=[int(i*2) for i in t_list_years]"
   ]
  },
  {
   "cell_type": "code",
   "execution_count": 69,
   "id": "673d59c1",
   "metadata": {},
   "outputs": [],
   "source": [
    "cadence_frac_bursts1=[]\n",
    "for i in range(0,4):\n",
    "    for j in t_list_cadence:\n",
    "        cadence_frac_bursts1.append(fraction1[i][j])"
   ]
  },
  {
   "cell_type": "code",
   "execution_count": 70,
   "id": "46c50203",
   "metadata": {},
   "outputs": [],
   "source": [
    "mean_frac1=np.mean(cadence_frac_bursts1)\n",
    "std_frac1=np.std(cadence_frac_bursts1)"
   ]
  },
  {
   "cell_type": "code",
   "execution_count": 71,
   "id": "dfe47d6d",
   "metadata": {},
   "outputs": [],
   "source": [
    "#2 bin\n",
    "burst_total2=[]\n",
    "burst_fraction2=[]\n",
    "fraction2=[]\n",
    "\n",
    "for i in range(run):\n",
    "    burst2=np.ones((cluster_size,steps))\n",
    "    L2=np.zeros((cluster_size,steps))\n",
    "    values2=bursts(t,2000,prob2,L2,burst2)\n",
    "    burst_total2.append(values2[0])\n",
    "    burst_fraction2.append(values2[1])\n",
    "    fraction2.append(values2[2])\n",
    "    \n",
    "cadence_frac_bursts2=[]\n",
    "for i in range(0,4):\n",
    "    for j in t_list_cadence:\n",
    "        cadence_frac_bursts2.append(fraction2[i][j])\n",
    "\n",
    "mean_frac2=np.mean(cadence_frac_bursts2)\n",
    "std_frac2=np.std(cadence_frac_bursts2)"
   ]
  },
  {
   "cell_type": "code",
   "execution_count": 72,
   "id": "253ba04b",
   "metadata": {},
   "outputs": [],
   "source": [
    "#3 bin\n",
    "burst_total3=[]\n",
    "burst_fraction3=[]\n",
    "fraction3=[]\n",
    "\n",
    "for i in range(run):\n",
    "    burst3=np.ones((cluster_size,steps))\n",
    "    L3=np.zeros((cluster_size,steps))\n",
    "    values3=bursts(t,2000,prob3,L3,burst3)\n",
    "    burst_total3.append(values3[0])\n",
    "    burst_fraction3.append(values3[1])\n",
    "    fraction3.append(values3[2])\n",
    "    \n",
    "cadence_frac_bursts3=[]\n",
    "for i in range(0,4):\n",
    "    for j in t_list_cadence:\n",
    "        cadence_frac_bursts3.append(fraction3[i][j])\n",
    "\n",
    "mean_frac3=np.mean(cadence_frac_bursts3)\n",
    "std_frac3=np.std(cadence_frac_bursts3)"
   ]
  },
  {
   "cell_type": "code",
   "execution_count": 73,
   "id": "7bad45e3",
   "metadata": {},
   "outputs": [],
   "source": [
    "#4 bin\n",
    "burst_total4=[]\n",
    "burst_fraction4=[]\n",
    "fraction4=[]\n",
    "\n",
    "for i in range(run):\n",
    "    burst4=np.ones((cluster_size,steps))\n",
    "    L4=np.zeros((cluster_size,steps))\n",
    "    values4=bursts(t,2000,prob4,L4,burst4)\n",
    "    burst_total4.append(values4[0])\n",
    "    burst_fraction4.append(values4[1])\n",
    "    fraction4.append(values4[2])\n",
    "    \n",
    "cadence_frac_bursts4=[]\n",
    "for i in range(0,4):\n",
    "    for j in t_list_cadence:\n",
    "        cadence_frac_bursts4.append(fraction4[i][j])\n",
    "\n",
    "mean_frac4=np.mean(cadence_frac_bursts4)\n",
    "std_frac4=np.std(cadence_frac_bursts4)"
   ]
  },
  {
   "cell_type": "code",
   "execution_count": 74,
   "id": "a6612afa",
   "metadata": {},
   "outputs": [],
   "source": [
    "#5 bin\n",
    "burst_total5=[]\n",
    "burst_fraction5=[]\n",
    "fraction5=[]\n",
    "\n",
    "for i in range(run):\n",
    "    burst5=np.ones((cluster_size,steps))\n",
    "    L5=np.zeros((cluster_size,steps))\n",
    "    values5=bursts(t,2000,prob5,L5,burst5)\n",
    "    burst_total5.append(values5[0])\n",
    "    burst_fraction5.append(values5[1])\n",
    "    fraction5.append(values5[2])\n",
    "    \n",
    "cadence_frac_bursts5=[]\n",
    "for i in range(0,4):\n",
    "    for j in t_list_cadence:\n",
    "        cadence_frac_bursts5.append(fraction5[i][j])\n",
    "\n",
    "mean_frac5=np.mean(cadence_frac_bursts5)\n",
    "std_frac5=np.std(cadence_frac_bursts5)"
   ]
  },
  {
   "cell_type": "code",
   "execution_count": 75,
   "id": "d7aef064",
   "metadata": {},
   "outputs": [],
   "source": [
    "#6 bin\n",
    "burst_total6=[]\n",
    "burst_fraction6=[]\n",
    "fraction6=[]\n",
    "\n",
    "for i in range(run):\n",
    "    burst6=np.ones((cluster_size,steps))\n",
    "    L6=np.zeros((cluster_size,steps))\n",
    "    values6=bursts(t,2000,prob6,L6,burst6)\n",
    "    burst_total6.append(values6[0])\n",
    "    burst_fraction6.append(values6[1])\n",
    "    fraction6.append(values6[2])\n",
    "    \n",
    "cadence_frac_bursts6=[]\n",
    "for i in range(0,4):\n",
    "    for j in t_list_cadence:\n",
    "        cadence_frac_bursts6.append(fraction6[i][j])\n",
    "\n",
    "mean_frac6=np.mean(cadence_frac_bursts6)\n",
    "std_frac6=np.std(cadence_frac_bursts6)"
   ]
  },
  {
   "cell_type": "code",
   "execution_count": 76,
   "id": "bacecd5d",
   "metadata": {},
   "outputs": [],
   "source": [
    "mean_frac=[mean_frac1,mean_frac2,mean_frac3,mean_frac4,mean_frac5,mean_frac6]\n",
    "std_frac=[std_frac1,std_frac2,std_frac3,std_frac4,std_frac5,std_frac6]\n",
    "number=[1,2,3,4,5,6]"
   ]
  },
  {
   "cell_type": "code",
   "execution_count": 77,
   "id": "be4194a6",
   "metadata": {},
   "outputs": [
    {
     "data": {
      "text/plain": [
       "Text(0.5, 1.0, 'Mean Fraction of Stars with 100x Burst for Different Cluster Sizes')"
      ]
     },
     "execution_count": 77,
     "metadata": {},
     "output_type": "execute_result"
    },
    {
     "data": {
      "image/png": "[encoded data removed]",
      "text/plain": [
       "<Figure size 648x576 with 1 Axes>"
      ]
     },
     "metadata": {
      "needs_background": "light"
     },
     "output_type": "display_data"
    }
   ],
   "source": [
    "fig,ax=plt.subplots()\n",
    "fig.set_size_inches(9,8)\n",
    "ax.errorbar(number,mean_frac,yerr=std_frac,fmt='|',capsize=5,color='black')\n",
    "ax.axhline(0.01,color='red')\n",
    "plt.xticks([1,2,3,4,5,6,],['1','2','3','4','5','6'])\n",
    "ax.set_xscale('log')\n",
    "ax.set_xlabel('Number of bins',font='serif',fontsize=13)\n",
    "ax.set_ylabel('Fraction of stars',font='serif',fontsize=13)\n",
    "ax.set_title('Fraction of stars with 100x burst for different bin sizes',font='serif',fontsize=15)\n",
    "plt.savefig('/Users/rachellee/Desktop/errorbar_plot_50run_clustersize.jpeg')"
   ]
  },
  {
   "cell_type": "code",
   "execution_count": 78,
   "id": "eb36c2ba",
   "metadata": {},
   "outputs": [
    {
     "data": {
      "text/plain": [
       "[]"
      ]
     },
     "execution_count": 78,
     "metadata": {},
     "output_type": "execute_result"
    },
    {
     "data": {
      "image/png": "[encoded data removed]",
      "text/plain": [
       "<Figure size 648x576 with 1 Axes>"
      ]
     },
     "metadata": {
      "needs_background": "light"
     },
     "output_type": "display_data"
    }
   ],
   "source": [
    "data=[cadence_frac_bursts1,cadence_frac_bursts2,cadence_frac_bursts3,cadence_frac_bursts4,\\\n",
    "      cadence_frac_bursts5,cadence_frac_bursts6]\n",
    "labels=[1,2,3,4,5,6]\n",
    "fig,ax=plt.subplots()\n",
    "fig.set_size_inches(9,8)\n",
    "ax.violinplot(data,vert=True, widths=0.5, showmeans=True, showextrema=True, showmedians=False)\n",
    "ax.axhline(0.01,color='red',lw=1)\n",
    "ax.set_xlabel('Number of bins',font='serif',fontsize=13)\n",
    "ax.set_ylabel('Fraction of Stars',font='serif',fontsize=13)\n",
    "ax.set_title('Fraction of stars with 100x burst for different bin sizes',font='serif',fontsize=15)\n",
    "plt.plot()\n",
    "plt.savefig('/Users/rachellee/Desktop/violin_plot_50run_clustersize.jpeg')"
   ]
  },
  {
   "cell_type": "code",
   "execution_count": null,
   "id": "749180ca",
   "metadata": {},
   "outputs": [],
   "source": []
  }
 ],
 "metadata": {
  "kernelspec": {
   "display_name": "Python 3 (ipykernel)",
   "language": "python",
   "name": "python3"
  },
  "language_info": {
   "codemirror_mode": {
    "name": "ipython",
    "version": 3
   },
   "file_extension": ".py",
   "mimetype": "text/x-python",
   "name": "python",
   "nbconvert_exporter": "python",
   "pygments_lexer": "ipython3",
   "version": "3.8.10"
  }
 },
 "nbformat": 4,
 "nbformat_minor": 5
}
