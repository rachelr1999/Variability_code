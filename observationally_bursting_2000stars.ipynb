{
 "cells": [
  {
   "cell_type": "code",
   "execution_count": 1,
   "id": "5520bf05",
   "metadata": {},
   "outputs": [],
   "source": [
    "import numpy as np\n",
    "import math\n",
    "import matplotlib.pyplot as plt\n",
    "import random\n",
    "import numpy as np\n",
    "from astropy.io import ascii\n",
    "from astropy.table import Table\n",
    "import csv"
   ]
  },
  {
   "cell_type": "code",
   "execution_count": 13,
   "id": "5e5518d2",
   "metadata": {},
   "outputs": [],
   "source": [
    "t_list_years=[200,220,220.5,221,221.5,222,222.5,223,223.5,224,224.5,225]\n",
    "t_list_cadence=[int(i*26) for i in t_list_years]\n",
    "run=50"
   ]
  },
  {
   "cell_type": "code",
   "execution_count": 17,
   "id": "786956c5",
   "metadata": {},
   "outputs": [],
   "source": [
    "values50table_2week=ascii.read('/Users/rachellee/Downloads/data/cluster_size_change/values50_2week')\n",
    "burst_total50_2week=values50table_2week['burst_total'] \n",
    "burst_fraction50_2week=values50table_2week['burst_number'] \n",
    "fraction50_2week=values50table_2week['burst_fraction']\n",
    "\n",
    "values100table_2week=ascii.read('/Users/rachellee/Downloads/data/cluster_size_change/values100_2week')\n",
    "burst_total100_2week=values100table_2week['burst_total'] \n",
    "burst_fraction100_2week=values100table_2week['burst_number'] \n",
    "fraction100_2week=values100table_2week['burst_fraction']\n",
    "\n",
    "values500table_2week=ascii.read('/Users/rachellee/Downloads/data/cluster_size_change/values500_2week')\n",
    "burst_total500_2week=values500table_2week['burst_total'] \n",
    "burst_fraction500_2week=values500table_2week['burst_number'] \n",
    "fraction500_2week=values500table_2week['burst_fraction']\n",
    "\n",
    "values1000table_2week=ascii.read('/Users/rachellee/Downloads/data/cluster_size_change/values1000_2week')\n",
    "burst_total1000_2week=values1000table_2week['burst_total'] \n",
    "burst_fraction1000_2week=values1000table_2week['burst_number'] \n",
    "fraction1000_2week=values1000table_2week['burst_fraction']\n",
    "\n",
    "values2000table_2week=ascii.read('/Users/rachellee/Downloads/data/cluster_size_change/values2000_2week')\n",
    "burst_total2000_2week=values2000table_2week['burst_total'] \n",
    "burst_fraction2000_2week=values2000table_2week['burst_number'] \n",
    "fraction2000_2week=values2000table_2week['burst_fraction']\n",
    "\n",
    "values5000table_2week=ascii.read('/Users/rachellee/Downloads/data/cluster_size_change/values5000_2week')\n",
    "burst_total5000_2week=values5000table_2week['burst_total'] \n",
    "burst_fraction5000_2week=values5000table_2week['burst_number'] \n",
    "fraction5000_2week=values5000table_2week['burst_fraction']"
   ]
  },
  {
   "cell_type": "code",
   "execution_count": 19,
   "id": "ba4b5ba8",
   "metadata": {},
   "outputs": [
    {
     "name": "stdout",
     "output_type": "stream",
     "text": [
      "[40, 43, 42, 42, 42, 41, 42, 44, 44, 44, 44, 44, 57, 48, 48, 47, 48, 46, 46, 46, 47, 48, 49, 50, 56, 41, 40, 39, 37, 37, 38, 37, 39, 41, 38, 38, 46, 51, 52, 53, 51, 52, 52, 54, 55, 55, 54, 54, 35, 48, 48, 50, 49, 48, 47, 46, 48, 47, 46, 46, 51, 43, 44, 46, 46, 46, 48, 49, 47, 46, 45, 44, 58, 69, 70, 70, 68, 67, 70, 67, 69, 69, 68, 67, 55, 49, 48, 49, 48, 48, 46, 48, 48, 48, 49, 47, 51, 44, 43, 42, 40, 40, 40, 41, 41, 41, 39, 39, 47, 46, 48, 47, 47, 48, 49, 50, 52, 52, 51, 48, 47, 41, 41, 41, 42, 45, 43, 43, 44, 44, 43, 41, 47, 55, 55, 55, 56, 56, 55, 56, 56, 57, 56, 57, 44, 34, 34, 37, 35, 35, 36, 35, 34, 34, 35, 36, 54, 60, 63, 63, 62, 62, 59, 62, 63, 63, 65, 64, 52, 41, 39, 37, 36, 36, 37, 38, 40, 40, 41, 40, 45, 42, 42, 43, 43, 43, 43, 42, 41, 41, 41, 40, 45, 45, 47, 47, 47, 49, 49, 48, 50, 50, 50, 49, 35, 48, 47, 48, 48, 49, 51, 52, 52, 53, 57, 58, 50, 60, 58, 58, 58, 58, 58, 57, 57, 58, 58, 57, 53, 47, 49, 50, 51, 49, 50, 50, 49, 49, 47, 47, 42, 49, 47, 48, 47, 45, 44, 44, 43, 43, 45, 45, 59, 42, 42, 43, 44, 45, 46, 45, 45, 44, 44, 43, 50, 37, 37, 39, 39, 39, 39, 41, 38, 37, 38, 39, 57, 42, 43, 46, 50, 47, 46, 46, 45, 45, 44, 44, 48, 66, 69, 69, 69, 68, 66, 66, 65, 67, 68, 67, 56, 56, 52, 51, 52, 51, 51, 52, 52, 51, 50, 49, 46, 62, 61, 63, 62, 61, 62, 62, 63, 61, 63, 63, 56, 47, 46, 46, 46, 48, 47, 50, 48, 46, 45, 44, 46, 51, 51, 51, 52, 52, 50, 50, 49, 50, 52, 52, 52, 56, 54, 55, 55, 53, 53, 52, 52, 53, 52, 52, 45, 59, 59, 56, 55, 55, 54, 54, 53, 52, 53, 56, 43, 41, 40, 41, 41, 40, 40, 40, 40, 42, 43, 44, 47, 43, 43, 43, 43, 44, 45, 45, 45, 43, 43, 44, 61, 57, 57, 55, 55, 56, 56, 55, 57, 57, 59, 58, 53, 45, 44, 47, 48, 48, 48, 47, 46, 47, 47, 48, 54, 39, 39, 39, 38, 37, 39, 39, 40, 40, 40, 40, 50, 49, 50, 48, 47, 46, 46, 45, 42, 40, 41, 41, 41, 55, 56, 57, 62, 62, 62, 63, 62, 62, 61, 62, 44, 46, 47, 49, 48, 48, 49, 49, 48, 48, 48, 48, 47, 58, 59, 59, 58, 59, 58, 57, 59, 60, 60, 59, 54, 43, 44, 46, 48, 47, 47, 47, 47, 46, 45, 44, 46, 44, 44, 43, 43, 41, 41, 41, 41, 41, 41, 40, 44, 38, 40, 41, 41, 41, 41, 41, 40, 43, 43, 42, 57, 53, 52, 52, 52, 54, 55, 54, 54, 53, 52, 48, 41, 40, 41, 41, 40, 40, 40, 41, 40, 40, 41, 42, 56, 53, 54, 53, 54, 55, 56, 55, 55, 55, 53, 52, 48, 49, 51, 50, 48, 49, 48, 48, 49, 48, 46, 45, 47, 49, 48, 46, 46, 46, 46, 45, 47, 47, 47, 48, 38, 42, 43, 45, 45, 45, 45, 44, 43, 43, 46, 47, 53, 60, 57, 56, 58, 57, 57, 58, 57, 54, 55, 56]\n"
     ]
    }
   ],
   "source": [
    "cadence_frac_bursts50_2week=[]\n",
    "cadence_num_bursts50_2week=[]\n",
    "for i in range(run):\n",
    "    for j in t_list_cadence:\n",
    "        cadence_frac_bursts50_2week.append(fraction50_2week[i][j])\n",
    "        cadence_num_bursts50_2week.append(burst_fraction50_2week[i][j])\n",
    "        \n",
    "cadence_frac_bursts100_2week=[]\n",
    "cadence_num_bursts100_2week=[]\n",
    "for i in range(run):\n",
    "    for j in t_list_cadence:\n",
    "        cadence_frac_bursts100_2week.append(fraction100_2week[i][j])\n",
    "        cadence_num_bursts100_2week.append(burst_fraction100_2week[i][j])\n",
    "        \n",
    "cadence_frac_bursts500_2week=[]\n",
    "cadence_num_bursts500_2week=[]\n",
    "for i in range(run):\n",
    "    for j in t_list_cadence:\n",
    "        cadence_frac_bursts500_2week.append(fraction500_2week[i][j])\n",
    "        cadence_num_bursts500_2week.append(burst_fraction500_2week[i][j])\n",
    "        \n",
    "cadence_frac_bursts1000_2week=[]\n",
    "cadence_num_bursts1000_2week=[]\n",
    "for i in range(run):\n",
    "    for j in t_list_cadence:\n",
    "        cadence_frac_bursts1000_2week.append(fraction1000_2week[i][j])\n",
    "        cadence_num_bursts1000_2week.append(burst_fraction1000_2week[i][j])\n",
    "        \n",
    "cadence_frac_bursts2000_2week=[]\n",
    "cadence_num_bursts2000_2week=[]\n",
    "for i in range(run):\n",
    "    for j in t_list_cadence:\n",
    "        cadence_frac_bursts2000_2week.append(fraction2000_2week[i][j])\n",
    "        cadence_num_bursts2000_2week.append(burst_fraction2000_2week[i][j])\n",
    "\n",
    "cadence_frac_bursts5000_2week=[]\n",
    "cadence_num_bursts5000_2week=[]\n",
    "for i in range(run):\n",
    "    for j in t_list_cadence:\n",
    "        cadence_frac_bursts5000_2week.append(fraction5000_2week[i][j])\n",
    "        cadence_num_bursts5000_2week.append(burst_fraction5000_2week[i][j])\n",
    "\n",
    "print(cadence_num_bursts5000_2week)"
   ]
  },
  {
   "cell_type": "code",
   "execution_count": null,
   "id": "50de2507",
   "metadata": {},
   "outputs": [],
   "source": []
  }
 ],
 "metadata": {
  "kernelspec": {
   "display_name": "Python 3",
   "language": "python",
   "name": "python3"
  },
  "language_info": {
   "codemirror_mode": {
    "name": "ipython",
    "version": 3
   },
   "file_extension": ".py",
   "mimetype": "text/x-python",
   "name": "python",
   "nbconvert_exporter": "python",
   "pygments_lexer": "ipython3",
   "version": "3.8.8"
  }
 },
 "nbformat": 4,
 "nbformat_minor": 5
}
